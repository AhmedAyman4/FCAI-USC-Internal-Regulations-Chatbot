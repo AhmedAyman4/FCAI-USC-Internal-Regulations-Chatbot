{
 "cells": [
  {
   "cell_type": "markdown",
   "metadata": {
    "id": "CejUDbUlZK-6"
   },
   "source": [
    "### Environment Setup and Dependencies\n",
    "\n",
    "Importing necessary libraries for document loading, text splitting, vector embeddings, retrieval-augmented generation (RAG), and conversational memory. Configuring the environment to suppress warnings and prepare for processing the PDF document with LangChain and Google Generative AI."
   ]
  },
  {
   "cell_type": "code",
   "execution_count": 1,
   "metadata": {},
   "outputs": [
    {
     "name": "stdout",
     "output_type": "stream",
     "text": [
      "Requirement already satisfied: langchain-community in /usr/local/lib/python3.12/dist-packages (0.3.31)\n",
      "Requirement already satisfied: langchain-google-genai in /usr/local/lib/python3.12/dist-packages (2.1.12)\n",
      "Requirement already satisfied: pypdf in /usr/local/lib/python3.12/dist-packages (6.1.1)\n",
      "Requirement already satisfied: langchain_huggingface in /usr/local/lib/python3.12/dist-packages (0.3.1)\n",
      "Requirement already satisfied: chromadb in /usr/local/lib/python3.12/dist-packages (1.1.1)\n",
      "Requirement already satisfied: arabic-reshaper in /usr/local/lib/python3.12/dist-packages (3.0.0)\n",
      "Requirement already satisfied: python-bidi in /usr/local/lib/python3.12/dist-packages (0.6.6)\n",
      "Requirement already satisfied: unstructured in /usr/local/lib/python3.12/dist-packages (0.18.15)\n",
      "Requirement already satisfied: pdfminer.six in /usr/local/lib/python3.12/dist-packages (20250506)\n",
      "Requirement already satisfied: Pillow in /usr/local/lib/python3.12/dist-packages (11.3.0)\n",
      "Requirement already satisfied: pi_heif in /usr/local/lib/python3.12/dist-packages (1.1.1)\n",
      "Requirement already satisfied: sentence-transformers in /usr/local/lib/python3.12/dist-packages (5.1.1)\n",
      "Requirement already satisfied: langchain-core<2.0.0,>=0.3.78 in /usr/local/lib/python3.12/dist-packages (from langchain-community) (0.3.78)\n",
      "Requirement already satisfied: langchain<2.0.0,>=0.3.27 in /usr/local/lib/python3.12/dist-packages (from langchain-community) (0.3.27)\n",
      "Requirement already satisfied: SQLAlchemy<3.0.0,>=1.4.0 in /usr/local/lib/python3.12/dist-packages (from langchain-community) (2.0.43)\n",
      "Requirement already satisfied: requests<3.0.0,>=2.32.5 in /usr/local/lib/python3.12/dist-packages (from langchain-community) (2.32.5)\n",
      "Requirement already satisfied: PyYAML<7.0.0,>=5.3.0 in /usr/local/lib/python3.12/dist-packages (from langchain-community) (6.0.3)\n",
      "Requirement already satisfied: aiohttp<4.0.0,>=3.8.3 in /usr/local/lib/python3.12/dist-packages (from langchain-community) (3.12.15)\n",
      "Requirement already satisfied: tenacity!=8.4.0,<10.0.0,>=8.1.0 in /usr/local/lib/python3.12/dist-packages (from langchain-community) (8.5.0)\n",
      "Requirement already satisfied: dataclasses-json<0.7.0,>=0.6.7 in /usr/local/lib/python3.12/dist-packages (from langchain-community) (0.6.7)\n",
      "Requirement already satisfied: pydantic-settings<3.0.0,>=2.10.1 in /usr/local/lib/python3.12/dist-packages (from langchain-community) (2.11.0)\n",
      "Requirement already satisfied: langsmith<1.0.0,>=0.1.125 in /usr/local/lib/python3.12/dist-packages (from langchain-community) (0.4.31)\n",
      "Requirement already satisfied: httpx-sse<1.0.0,>=0.4.0 in /usr/local/lib/python3.12/dist-packages (from langchain-community) (0.4.1)\n",
      "Requirement already satisfied: numpy>=1.26.2 in /usr/local/lib/python3.12/dist-packages (from langchain-community) (2.0.2)\n",
      "Requirement already satisfied: google-ai-generativelanguage<1,>=0.7 in /usr/local/lib/python3.12/dist-packages (from langchain-google-genai) (0.7.0)\n",
      "Requirement already satisfied: pydantic<3,>=2 in /usr/local/lib/python3.12/dist-packages (from langchain-google-genai) (2.11.9)\n",
      "Requirement already satisfied: filetype<2,>=1.2 in /usr/local/lib/python3.12/dist-packages (from langchain-google-genai) (1.2.0)\n",
      "Requirement already satisfied: tokenizers>=0.19.1 in /usr/local/lib/python3.12/dist-packages (from langchain_huggingface) (0.22.1)\n",
      "Requirement already satisfied: huggingface-hub>=0.33.4 in /usr/local/lib/python3.12/dist-packages (from langchain_huggingface) (0.35.3)\n",
      "Requirement already satisfied: build>=1.0.3 in /usr/local/lib/python3.12/dist-packages (from chromadb) (1.3.0)\n",
      "Requirement already satisfied: pybase64>=1.4.1 in /usr/local/lib/python3.12/dist-packages (from chromadb) (1.4.2)\n",
      "Requirement already satisfied: uvicorn>=0.18.3 in /usr/local/lib/python3.12/dist-packages (from uvicorn[standard]>=0.18.3->chromadb) (0.37.0)\n",
      "Requirement already satisfied: posthog<6.0.0,>=2.4.0 in /usr/local/lib/python3.12/dist-packages (from chromadb) (5.4.0)\n",
      "Requirement already satisfied: typing-extensions>=4.5.0 in /usr/local/lib/python3.12/dist-packages (from chromadb) (4.15.0)\n",
      "Requirement already satisfied: onnxruntime>=1.14.1 in /usr/local/lib/python3.12/dist-packages (from chromadb) (1.23.1)\n",
      "Requirement already satisfied: opentelemetry-api>=1.2.0 in /usr/local/lib/python3.12/dist-packages (from chromadb) (1.37.0)\n",
      "Requirement already satisfied: opentelemetry-exporter-otlp-proto-grpc>=1.2.0 in /usr/local/lib/python3.12/dist-packages (from chromadb) (1.37.0)\n",
      "Requirement already satisfied: opentelemetry-sdk>=1.2.0 in /usr/local/lib/python3.12/dist-packages (from chromadb) (1.37.0)\n",
      "Requirement already satisfied: pypika>=0.48.9 in /usr/local/lib/python3.12/dist-packages (from chromadb) (0.48.9)\n",
      "Requirement already satisfied: tqdm>=4.65.0 in /usr/local/lib/python3.12/dist-packages (from chromadb) (4.67.1)\n",
      "Requirement already satisfied: overrides>=7.3.1 in /usr/local/lib/python3.12/dist-packages (from chromadb) (7.7.0)\n",
      "Requirement already satisfied: importlib-resources in /usr/local/lib/python3.12/dist-packages (from chromadb) (6.5.2)\n",
      "Requirement already satisfied: grpcio>=1.58.0 in /usr/local/lib/python3.12/dist-packages (from chromadb) (1.75.1)\n",
      "Requirement already satisfied: bcrypt>=4.0.1 in /usr/local/lib/python3.12/dist-packages (from chromadb) (5.0.0)\n",
      "Requirement already satisfied: typer>=0.9.0 in /usr/local/lib/python3.12/dist-packages (from chromadb) (0.19.2)\n",
      "Requirement already satisfied: kubernetes>=28.1.0 in /usr/local/lib/python3.12/dist-packages (from chromadb) (34.1.0)\n",
      "Requirement already satisfied: mmh3>=4.0.1 in /usr/local/lib/python3.12/dist-packages (from chromadb) (5.2.0)\n",
      "Requirement already satisfied: orjson>=3.9.12 in /usr/local/lib/python3.12/dist-packages (from chromadb) (3.11.3)\n",
      "Requirement already satisfied: httpx>=0.27.0 in /usr/local/lib/python3.12/dist-packages (from chromadb) (0.28.1)\n",
      "Requirement already satisfied: rich>=10.11.0 in /usr/local/lib/python3.12/dist-packages (from chromadb) (13.9.4)\n",
      "Requirement already satisfied: jsonschema>=4.19.0 in /usr/local/lib/python3.12/dist-packages (from chromadb) (4.25.1)\n",
      "Requirement already satisfied: charset-normalizer in /usr/local/lib/python3.12/dist-packages (from unstructured) (3.4.3)\n",
      "Requirement already satisfied: python-magic in /usr/local/lib/python3.12/dist-packages (from unstructured) (0.4.27)\n",
      "Requirement already satisfied: lxml in /usr/local/lib/python3.12/dist-packages (from unstructured) (5.4.0)\n",
      "Requirement already satisfied: nltk in /usr/local/lib/python3.12/dist-packages (from unstructured) (3.9.1)\n",
      "Requirement already satisfied: beautifulsoup4 in /usr/local/lib/python3.12/dist-packages (from unstructured) (4.13.5)\n",
      "Requirement already satisfied: emoji in /usr/local/lib/python3.12/dist-packages (from unstructured) (2.15.0)\n",
      "Requirement already satisfied: python-iso639 in /usr/local/lib/python3.12/dist-packages (from unstructured) (2025.2.18)\n",
      "Requirement already satisfied: langdetect in /usr/local/lib/python3.12/dist-packages (from unstructured) (1.0.9)\n",
      "Requirement already satisfied: rapidfuzz in /usr/local/lib/python3.12/dist-packages (from unstructured) (3.14.1)\n",
      "Requirement already satisfied: backoff in /usr/local/lib/python3.12/dist-packages (from unstructured) (2.2.1)\n",
      "Requirement already satisfied: unstructured-client in /usr/local/lib/python3.12/dist-packages (from unstructured) (0.42.3)\n",
      "Requirement already satisfied: wrapt in /usr/local/lib/python3.12/dist-packages (from unstructured) (1.17.3)\n",
      "Requirement already satisfied: psutil in /usr/local/lib/python3.12/dist-packages (from unstructured) (5.9.5)\n",
      "Requirement already satisfied: python-oxmsg in /usr/local/lib/python3.12/dist-packages (from unstructured) (0.0.2)\n",
      "Requirement already satisfied: html5lib in /usr/local/lib/python3.12/dist-packages (from unstructured) (1.1)\n",
      "Requirement already satisfied: cryptography>=36.0.0 in /usr/local/lib/python3.12/dist-packages (from pdfminer.six) (43.0.3)\n",
      "Requirement already satisfied: onnx>=1.17.0 in /usr/local/lib/python3.12/dist-packages (from unstructured[pdf]) (1.19.0)\n",
      "Requirement already satisfied: pdf2image in /usr/local/lib/python3.12/dist-packages (from unstructured[pdf]) (1.17.0)\n",
      "Requirement already satisfied: pikepdf in /usr/local/lib/python3.12/dist-packages (from unstructured[pdf]) (9.11.0)\n",
      "Requirement already satisfied: google-cloud-vision in /usr/local/lib/python3.12/dist-packages (from unstructured[pdf]) (3.10.2)\n",
      "Requirement already satisfied: effdet in /usr/local/lib/python3.12/dist-packages (from unstructured[pdf]) (0.4.1)\n",
      "Requirement already satisfied: unstructured-inference>=1.0.5 in /usr/local/lib/python3.12/dist-packages (from unstructured[pdf]) (1.0.5)\n",
      "Requirement already satisfied: unstructured.pytesseract>=0.3.12 in /usr/local/lib/python3.12/dist-packages (from unstructured[pdf]) (0.3.15)\n",
      "Requirement already satisfied: transformers<5.0.0,>=4.41.0 in /usr/local/lib/python3.12/dist-packages (from sentence-transformers) (4.56.2)\n",
      "Requirement already satisfied: torch>=1.11.0 in /usr/local/lib/python3.12/dist-packages (from sentence-transformers) (2.8.0+cu126)\n",
      "Requirement already satisfied: scikit-learn in /usr/local/lib/python3.12/dist-packages (from sentence-transformers) (1.6.1)\n",
      "Requirement already satisfied: scipy in /usr/local/lib/python3.12/dist-packages (from sentence-transformers) (1.16.2)\n",
      "Requirement already satisfied: aiohappyeyeballs>=2.5.0 in /usr/local/lib/python3.12/dist-packages (from aiohttp<4.0.0,>=3.8.3->langchain-community) (2.6.1)\n",
      "Requirement already satisfied: aiosignal>=1.4.0 in /usr/local/lib/python3.12/dist-packages (from aiohttp<4.0.0,>=3.8.3->langchain-community) (1.4.0)\n",
      "Requirement already satisfied: attrs>=17.3.0 in /usr/local/lib/python3.12/dist-packages (from aiohttp<4.0.0,>=3.8.3->langchain-community) (25.3.0)\n",
      "Requirement already satisfied: frozenlist>=1.1.1 in /usr/local/lib/python3.12/dist-packages (from aiohttp<4.0.0,>=3.8.3->langchain-community) (1.7.0)\n",
      "Requirement already satisfied: multidict<7.0,>=4.5 in /usr/local/lib/python3.12/dist-packages (from aiohttp<4.0.0,>=3.8.3->langchain-community) (6.6.4)\n",
      "Requirement already satisfied: propcache>=0.2.0 in /usr/local/lib/python3.12/dist-packages (from aiohttp<4.0.0,>=3.8.3->langchain-community) (0.3.2)\n",
      "Requirement already satisfied: yarl<2.0,>=1.17.0 in /usr/local/lib/python3.12/dist-packages (from aiohttp<4.0.0,>=3.8.3->langchain-community) (1.20.1)\n",
      "Requirement already satisfied: packaging>=19.1 in /usr/local/lib/python3.12/dist-packages (from build>=1.0.3->chromadb) (25.0)\n",
      "Requirement already satisfied: pyproject_hooks in /usr/local/lib/python3.12/dist-packages (from build>=1.0.3->chromadb) (1.2.0)\n",
      "Requirement already satisfied: cffi>=1.12 in /usr/local/lib/python3.12/dist-packages (from cryptography>=36.0.0->pdfminer.six) (2.0.0)\n",
      "Requirement already satisfied: marshmallow<4.0.0,>=3.18.0 in /usr/local/lib/python3.12/dist-packages (from dataclasses-json<0.7.0,>=0.6.7->langchain-community) (3.26.1)\n",
      "Requirement already satisfied: typing-inspect<1,>=0.4.0 in /usr/local/lib/python3.12/dist-packages (from dataclasses-json<0.7.0,>=0.6.7->langchain-community) (0.9.0)\n",
      "Requirement already satisfied: google-api-core!=2.0.*,!=2.1.*,!=2.10.*,!=2.2.*,!=2.3.*,!=2.4.*,!=2.5.*,!=2.6.*,!=2.7.*,!=2.8.*,!=2.9.*,<3.0.0,>=1.34.1 in /usr/local/lib/python3.12/dist-packages (from google-api-core[grpc]!=2.0.*,!=2.1.*,!=2.10.*,!=2.2.*,!=2.3.*,!=2.4.*,!=2.5.*,!=2.6.*,!=2.7.*,!=2.8.*,!=2.9.*,<3.0.0,>=1.34.1->google-ai-generativelanguage<1,>=0.7->langchain-google-genai) (2.25.1)\n",
      "Requirement already satisfied: google-auth!=2.24.0,!=2.25.0,<3.0.0,>=2.14.1 in /usr/local/lib/python3.12/dist-packages (from google-ai-generativelanguage<1,>=0.7->langchain-google-genai) (2.38.0)\n",
      "Requirement already satisfied: proto-plus<2.0.0,>=1.22.3 in /usr/local/lib/python3.12/dist-packages (from google-ai-generativelanguage<1,>=0.7->langchain-google-genai) (1.26.1)\n",
      "Requirement already satisfied: protobuf!=4.21.0,!=4.21.1,!=4.21.2,!=4.21.3,!=4.21.4,!=4.21.5,<7.0.0,>=3.20.2 in /usr/local/lib/python3.12/dist-packages (from google-ai-generativelanguage<1,>=0.7->langchain-google-genai) (5.29.5)\n",
      "Requirement already satisfied: anyio in /usr/local/lib/python3.12/dist-packages (from httpx>=0.27.0->chromadb) (4.11.0)\n",
      "Requirement already satisfied: certifi in /usr/local/lib/python3.12/dist-packages (from httpx>=0.27.0->chromadb) (2025.8.3)\n",
      "Requirement already satisfied: httpcore==1.* in /usr/local/lib/python3.12/dist-packages (from httpx>=0.27.0->chromadb) (1.0.9)\n",
      "Requirement already satisfied: idna in /usr/local/lib/python3.12/dist-packages (from httpx>=0.27.0->chromadb) (3.10)\n",
      "Requirement already satisfied: h11>=0.16 in /usr/local/lib/python3.12/dist-packages (from httpcore==1.*->httpx>=0.27.0->chromadb) (0.16.0)\n",
      "Requirement already satisfied: filelock in /usr/local/lib/python3.12/dist-packages (from huggingface-hub>=0.33.4->langchain_huggingface) (3.19.1)\n",
      "Requirement already satisfied: fsspec>=2023.5.0 in /usr/local/lib/python3.12/dist-packages (from huggingface-hub>=0.33.4->langchain_huggingface) (2025.3.0)\n",
      "Requirement already satisfied: hf-xet<2.0.0,>=1.1.3 in /usr/local/lib/python3.12/dist-packages (from huggingface-hub>=0.33.4->langchain_huggingface) (1.1.10)\n",
      "Requirement already satisfied: jsonschema-specifications>=2023.03.6 in /usr/local/lib/python3.12/dist-packages (from jsonschema>=4.19.0->chromadb) (2025.9.1)\n",
      "Requirement already satisfied: referencing>=0.28.4 in /usr/local/lib/python3.12/dist-packages (from jsonschema>=4.19.0->chromadb) (0.36.2)\n",
      "Requirement already satisfied: rpds-py>=0.7.1 in /usr/local/lib/python3.12/dist-packages (from jsonschema>=4.19.0->chromadb) (0.27.1)\n",
      "Requirement already satisfied: six>=1.9.0 in /usr/local/lib/python3.12/dist-packages (from kubernetes>=28.1.0->chromadb) (1.17.0)\n",
      "Requirement already satisfied: python-dateutil>=2.5.3 in /usr/local/lib/python3.12/dist-packages (from kubernetes>=28.1.0->chromadb) (2.9.0.post0)\n",
      "Requirement already satisfied: websocket-client!=0.40.0,!=0.41.*,!=0.42.*,>=0.32.0 in /usr/local/lib/python3.12/dist-packages (from kubernetes>=28.1.0->chromadb) (1.8.0)\n",
      "Requirement already satisfied: requests-oauthlib in /usr/local/lib/python3.12/dist-packages (from kubernetes>=28.1.0->chromadb) (2.0.0)\n",
      "Requirement already satisfied: urllib3<2.4.0,>=1.24.2 in /usr/local/lib/python3.12/dist-packages (from kubernetes>=28.1.0->chromadb) (2.3.0)\n",
      "Requirement already satisfied: durationpy>=0.7 in /usr/local/lib/python3.12/dist-packages (from kubernetes>=28.1.0->chromadb) (0.10)\n",
      "Requirement already satisfied: langchain-text-splitters<1.0.0,>=0.3.9 in /usr/local/lib/python3.12/dist-packages (from langchain<2.0.0,>=0.3.27->langchain-community) (0.3.11)\n",
      "Requirement already satisfied: jsonpatch<2.0.0,>=1.33.0 in /usr/local/lib/python3.12/dist-packages (from langchain-core<2.0.0,>=0.3.78->langchain-community) (1.33)\n",
      "Requirement already satisfied: requests-toolbelt>=1.0.0 in /usr/local/lib/python3.12/dist-packages (from langsmith<1.0.0,>=0.1.125->langchain-community) (1.0.0)\n",
      "Requirement already satisfied: zstandard>=0.23.0 in /usr/local/lib/python3.12/dist-packages (from langsmith<1.0.0,>=0.1.125->langchain-community) (0.25.0)\n",
      "Requirement already satisfied: ml_dtypes in /usr/local/lib/python3.12/dist-packages (from onnx>=1.17.0->unstructured[pdf]) (0.5.3)\n",
      "Requirement already satisfied: coloredlogs in /usr/local/lib/python3.12/dist-packages (from onnxruntime>=1.14.1->chromadb) (15.0.1)\n",
      "Requirement already satisfied: flatbuffers in /usr/local/lib/python3.12/dist-packages (from onnxruntime>=1.14.1->chromadb) (25.9.23)\n",
      "Requirement already satisfied: sympy in /usr/local/lib/python3.12/dist-packages (from onnxruntime>=1.14.1->chromadb) (1.13.3)\n",
      "Requirement already satisfied: importlib-metadata<8.8.0,>=6.0 in /usr/local/lib/python3.12/dist-packages (from opentelemetry-api>=1.2.0->chromadb) (8.7.0)\n",
      "Requirement already satisfied: googleapis-common-protos~=1.57 in /usr/local/lib/python3.12/dist-packages (from opentelemetry-exporter-otlp-proto-grpc>=1.2.0->chromadb) (1.70.0)\n",
      "Requirement already satisfied: opentelemetry-exporter-otlp-proto-common==1.37.0 in /usr/local/lib/python3.12/dist-packages (from opentelemetry-exporter-otlp-proto-grpc>=1.2.0->chromadb) (1.37.0)\n",
      "Requirement already satisfied: opentelemetry-proto==1.37.0 in /usr/local/lib/python3.12/dist-packages (from opentelemetry-exporter-otlp-proto-grpc>=1.2.0->chromadb) (1.37.0)\n",
      "Requirement already satisfied: opentelemetry-semantic-conventions==0.58b0 in /usr/local/lib/python3.12/dist-packages (from opentelemetry-sdk>=1.2.0->chromadb) (0.58b0)\n",
      "Requirement already satisfied: distro>=1.5.0 in /usr/local/lib/python3.12/dist-packages (from posthog<6.0.0,>=2.4.0->chromadb) (1.9.0)\n",
      "Requirement already satisfied: annotated-types>=0.6.0 in /usr/local/lib/python3.12/dist-packages (from pydantic<3,>=2->langchain-google-genai) (0.7.0)\n",
      "Requirement already satisfied: pydantic-core==2.33.2 in /usr/local/lib/python3.12/dist-packages (from pydantic<3,>=2->langchain-google-genai) (2.33.2)\n",
      "Requirement already satisfied: typing-inspection>=0.4.0 in /usr/local/lib/python3.12/dist-packages (from pydantic<3,>=2->langchain-google-genai) (0.4.2)\n",
      "Requirement already satisfied: python-dotenv>=0.21.0 in /usr/local/lib/python3.12/dist-packages (from pydantic-settings<3.0.0,>=2.10.1->langchain-community) (1.1.1)\n",
      "Requirement already satisfied: markdown-it-py>=2.2.0 in /usr/local/lib/python3.12/dist-packages (from rich>=10.11.0->chromadb) (4.0.0)\n",
      "Requirement already satisfied: pygments<3.0.0,>=2.13.0 in /usr/local/lib/python3.12/dist-packages (from rich>=10.11.0->chromadb) (2.19.2)\n",
      "Requirement already satisfied: greenlet>=1 in /usr/local/lib/python3.12/dist-packages (from SQLAlchemy<3.0.0,>=1.4.0->langchain-community) (3.2.4)\n",
      "Requirement already satisfied: setuptools in /usr/local/lib/python3.12/dist-packages (from torch>=1.11.0->sentence-transformers) (75.2.0)\n",
      "Requirement already satisfied: networkx in /usr/local/lib/python3.12/dist-packages (from torch>=1.11.0->sentence-transformers) (3.5)\n",
      "Requirement already satisfied: jinja2 in /usr/local/lib/python3.12/dist-packages (from torch>=1.11.0->sentence-transformers) (3.1.6)\n",
      "Requirement already satisfied: nvidia-cuda-nvrtc-cu12==12.6.77 in /usr/local/lib/python3.12/dist-packages (from torch>=1.11.0->sentence-transformers) (12.6.77)\n",
      "Requirement already satisfied: nvidia-cuda-runtime-cu12==12.6.77 in /usr/local/lib/python3.12/dist-packages (from torch>=1.11.0->sentence-transformers) (12.6.77)\n",
      "Requirement already satisfied: nvidia-cuda-cupti-cu12==12.6.80 in /usr/local/lib/python3.12/dist-packages (from torch>=1.11.0->sentence-transformers) (12.6.80)\n",
      "Requirement already satisfied: nvidia-cudnn-cu12==9.10.2.21 in /usr/local/lib/python3.12/dist-packages (from torch>=1.11.0->sentence-transformers) (9.10.2.21)\n",
      "Requirement already satisfied: nvidia-cublas-cu12==12.6.4.1 in /usr/local/lib/python3.12/dist-packages (from torch>=1.11.0->sentence-transformers) (12.6.4.1)\n",
      "Requirement already satisfied: nvidia-cufft-cu12==11.3.0.4 in /usr/local/lib/python3.12/dist-packages (from torch>=1.11.0->sentence-transformers) (11.3.0.4)\n",
      "Requirement already satisfied: nvidia-curand-cu12==10.3.7.77 in /usr/local/lib/python3.12/dist-packages (from torch>=1.11.0->sentence-transformers) (10.3.7.77)\n",
      "Requirement already satisfied: nvidia-cusolver-cu12==11.7.1.2 in /usr/local/lib/python3.12/dist-packages (from torch>=1.11.0->sentence-transformers) (11.7.1.2)\n",
      "Requirement already satisfied: nvidia-cusparse-cu12==12.5.4.2 in /usr/local/lib/python3.12/dist-packages (from torch>=1.11.0->sentence-transformers) (12.5.4.2)\n",
      "Requirement already satisfied: nvidia-cusparselt-cu12==0.7.1 in /usr/local/lib/python3.12/dist-packages (from torch>=1.11.0->sentence-transformers) (0.7.1)\n",
      "Requirement already satisfied: nvidia-nccl-cu12==2.27.3 in /usr/local/lib/python3.12/dist-packages (from torch>=1.11.0->sentence-transformers) (2.27.3)\n",
      "Requirement already satisfied: nvidia-nvtx-cu12==12.6.77 in /usr/local/lib/python3.12/dist-packages (from torch>=1.11.0->sentence-transformers) (12.6.77)\n",
      "Requirement already satisfied: nvidia-nvjitlink-cu12==12.6.85 in /usr/local/lib/python3.12/dist-packages (from torch>=1.11.0->sentence-transformers) (12.6.85)\n",
      "Requirement already satisfied: nvidia-cufile-cu12==1.11.1.6 in /usr/local/lib/python3.12/dist-packages (from torch>=1.11.0->sentence-transformers) (1.11.1.6)\n",
      "Requirement already satisfied: triton==3.4.0 in /usr/local/lib/python3.12/dist-packages (from torch>=1.11.0->sentence-transformers) (3.4.0)\n",
      "Requirement already satisfied: regex!=2019.12.17 in /usr/local/lib/python3.12/dist-packages (from transformers<5.0.0,>=4.41.0->sentence-transformers) (2024.11.6)\n",
      "Requirement already satisfied: safetensors>=0.4.3 in /usr/local/lib/python3.12/dist-packages (from transformers<5.0.0,>=4.41.0->sentence-transformers) (0.6.2)\n",
      "Requirement already satisfied: click>=8.0.0 in /usr/local/lib/python3.12/dist-packages (from typer>=0.9.0->chromadb) (8.3.0)\n",
      "Requirement already satisfied: shellingham>=1.3.0 in /usr/local/lib/python3.12/dist-packages (from typer>=0.9.0->chromadb) (1.5.4)\n",
      "Requirement already satisfied: python-multipart in /usr/local/lib/python3.12/dist-packages (from unstructured-inference>=1.0.5->unstructured[pdf]) (0.0.20)\n",
      "Requirement already satisfied: opencv-python!=4.7.0.68 in /usr/local/lib/python3.12/dist-packages (from unstructured-inference>=1.0.5->unstructured[pdf]) (4.12.0.88)\n",
      "Requirement already satisfied: matplotlib in /usr/local/lib/python3.12/dist-packages (from unstructured-inference>=1.0.5->unstructured[pdf]) (3.10.0)\n",
      "Requirement already satisfied: timm in /usr/local/lib/python3.12/dist-packages (from unstructured-inference>=1.0.5->unstructured[pdf]) (1.0.20)\n",
      "Requirement already satisfied: accelerate in /usr/local/lib/python3.12/dist-packages (from unstructured-inference>=1.0.5->unstructured[pdf]) (1.10.1)\n",
      "Requirement already satisfied: pandas in /usr/local/lib/python3.12/dist-packages (from unstructured-inference>=1.0.5->unstructured[pdf]) (2.2.2)\n",
      "Requirement already satisfied: pypdfium2 in /usr/local/lib/python3.12/dist-packages (from unstructured-inference>=1.0.5->unstructured[pdf]) (4.30.0)\n",
      "Requirement already satisfied: httptools>=0.6.3 in /usr/local/lib/python3.12/dist-packages (from uvicorn[standard]>=0.18.3->chromadb) (0.6.4)\n",
      "Requirement already satisfied: uvloop>=0.15.1 in /usr/local/lib/python3.12/dist-packages (from uvicorn[standard]>=0.18.3->chromadb) (0.21.0)\n",
      "Requirement already satisfied: watchfiles>=0.13 in /usr/local/lib/python3.12/dist-packages (from uvicorn[standard]>=0.18.3->chromadb) (1.1.0)\n",
      "Requirement already satisfied: websockets>=10.4 in /usr/local/lib/python3.12/dist-packages (from uvicorn[standard]>=0.18.3->chromadb) (15.0.1)\n",
      "Requirement already satisfied: soupsieve>1.2 in /usr/local/lib/python3.12/dist-packages (from beautifulsoup4->unstructured) (2.8)\n",
      "Requirement already satisfied: torchvision in /usr/local/lib/python3.12/dist-packages (from effdet->unstructured[pdf]) (0.23.0+cu126)\n",
      "Requirement already satisfied: pycocotools>=2.0.2 in /usr/local/lib/python3.12/dist-packages (from effdet->unstructured[pdf]) (2.0.10)\n",
      "Requirement already satisfied: omegaconf>=2.0 in /usr/local/lib/python3.12/dist-packages (from effdet->unstructured[pdf]) (2.3.0)\n",
      "Requirement already satisfied: webencodings in /usr/local/lib/python3.12/dist-packages (from html5lib->unstructured) (0.5.1)\n",
      "Requirement already satisfied: joblib in /usr/local/lib/python3.12/dist-packages (from nltk->unstructured) (1.5.2)\n",
      "Requirement already satisfied: Deprecated in /usr/local/lib/python3.12/dist-packages (from pikepdf->unstructured[pdf]) (1.2.18)\n",
      "Requirement already satisfied: olefile in /usr/local/lib/python3.12/dist-packages (from python-oxmsg->unstructured) (0.47)\n",
      "Requirement already satisfied: threadpoolctl>=3.1.0 in /usr/local/lib/python3.12/dist-packages (from scikit-learn->sentence-transformers) (3.6.0)\n",
      "Requirement already satisfied: aiofiles>=24.1.0 in /usr/local/lib/python3.12/dist-packages (from unstructured-client->unstructured) (24.1.0)\n",
      "Requirement already satisfied: pycparser in /usr/local/lib/python3.12/dist-packages (from cffi>=1.12->cryptography>=36.0.0->pdfminer.six) (2.23)\n",
      "Requirement already satisfied: grpcio-status<2.0.0,>=1.33.2 in /usr/local/lib/python3.12/dist-packages (from google-api-core[grpc]!=2.0.*,!=2.1.*,!=2.10.*,!=2.2.*,!=2.3.*,!=2.4.*,!=2.5.*,!=2.6.*,!=2.7.*,!=2.8.*,!=2.9.*,<3.0.0,>=1.34.1->google-ai-generativelanguage<1,>=0.7->langchain-google-genai) (1.71.2)\n",
      "Requirement already satisfied: cachetools<6.0,>=2.0.0 in /usr/local/lib/python3.12/dist-packages (from google-auth!=2.24.0,!=2.25.0,<3.0.0,>=2.14.1->google-ai-generativelanguage<1,>=0.7->langchain-google-genai) (5.5.2)\n",
      "Requirement already satisfied: pyasn1-modules>=0.2.1 in /usr/local/lib/python3.12/dist-packages (from google-auth!=2.24.0,!=2.25.0,<3.0.0,>=2.14.1->google-ai-generativelanguage<1,>=0.7->langchain-google-genai) (0.4.2)\n",
      "Requirement already satisfied: rsa<5,>=3.1.4 in /usr/local/lib/python3.12/dist-packages (from google-auth!=2.24.0,!=2.25.0,<3.0.0,>=2.14.1->google-ai-generativelanguage<1,>=0.7->langchain-google-genai) (4.9.1)\n",
      "Requirement already satisfied: zipp>=3.20 in /usr/local/lib/python3.12/dist-packages (from importlib-metadata<8.8.0,>=6.0->opentelemetry-api>=1.2.0->chromadb) (3.23.0)\n",
      "Requirement already satisfied: jsonpointer>=1.9 in /usr/local/lib/python3.12/dist-packages (from jsonpatch<2.0.0,>=1.33.0->langchain-core<2.0.0,>=0.3.78->langchain-community) (3.0.0)\n",
      "Requirement already satisfied: mdurl~=0.1 in /usr/local/lib/python3.12/dist-packages (from markdown-it-py>=2.2.0->rich>=10.11.0->chromadb) (0.1.2)\n",
      "Requirement already satisfied: antlr4-python3-runtime==4.9.* in /usr/local/lib/python3.12/dist-packages (from omegaconf>=2.0->effdet->unstructured[pdf]) (4.9.3)\n",
      "Requirement already satisfied: mpmath<1.4,>=1.1.0 in /usr/local/lib/python3.12/dist-packages (from sympy->onnxruntime>=1.14.1->chromadb) (1.3.0)\n",
      "Requirement already satisfied: mypy-extensions>=0.3.0 in /usr/local/lib/python3.12/dist-packages (from typing-inspect<1,>=0.4.0->dataclasses-json<0.7.0,>=0.6.7->langchain-community) (1.1.0)\n",
      "Requirement already satisfied: sniffio>=1.1 in /usr/local/lib/python3.12/dist-packages (from anyio->httpx>=0.27.0->chromadb) (1.3.1)\n",
      "Requirement already satisfied: humanfriendly>=9.1 in /usr/local/lib/python3.12/dist-packages (from coloredlogs->onnxruntime>=1.14.1->chromadb) (10.0)\n",
      "Requirement already satisfied: MarkupSafe>=2.0 in /usr/local/lib/python3.12/dist-packages (from jinja2->torch>=1.11.0->sentence-transformers) (3.0.3)\n",
      "Requirement already satisfied: contourpy>=1.0.1 in /usr/local/lib/python3.12/dist-packages (from matplotlib->unstructured-inference>=1.0.5->unstructured[pdf]) (1.3.3)\n",
      "Requirement already satisfied: cycler>=0.10 in /usr/local/lib/python3.12/dist-packages (from matplotlib->unstructured-inference>=1.0.5->unstructured[pdf]) (0.12.1)\n",
      "Requirement already satisfied: fonttools>=4.22.0 in /usr/local/lib/python3.12/dist-packages (from matplotlib->unstructured-inference>=1.0.5->unstructured[pdf]) (4.60.1)\n",
      "Requirement already satisfied: kiwisolver>=1.3.1 in /usr/local/lib/python3.12/dist-packages (from matplotlib->unstructured-inference>=1.0.5->unstructured[pdf]) (1.4.9)\n",
      "Requirement already satisfied: pyparsing>=2.3.1 in /usr/local/lib/python3.12/dist-packages (from matplotlib->unstructured-inference>=1.0.5->unstructured[pdf]) (3.2.5)\n",
      "Requirement already satisfied: pytz>=2020.1 in /usr/local/lib/python3.12/dist-packages (from pandas->unstructured-inference>=1.0.5->unstructured[pdf]) (2025.2)\n",
      "Requirement already satisfied: tzdata>=2022.7 in /usr/local/lib/python3.12/dist-packages (from pandas->unstructured-inference>=1.0.5->unstructured[pdf]) (2025.2)\n",
      "Requirement already satisfied: oauthlib>=3.0.0 in /usr/local/lib/python3.12/dist-packages (from requests-oauthlib->kubernetes>=28.1.0->chromadb) (3.3.1)\n",
      "Requirement already satisfied: pyasn1<0.7.0,>=0.6.1 in /usr/local/lib/python3.12/dist-packages (from pyasn1-modules>=0.2.1->google-auth!=2.24.0,!=2.25.0,<3.0.0,>=2.14.1->google-ai-generativelanguage<1,>=0.7->langchain-google-genai) (0.6.1)\n"
     ]
    }
   ],
   "source": [
    "!pip install -U langchain-community langchain-google-genai pypdf langchain_huggingface chromadb arabic-reshaper python-bidi unstructured pdfminer.six Pillow pi_heif \"unstructured[pdf]\" sentence-transformers"
   ]
  },
  {
   "cell_type": "code",
   "execution_count": 2,
   "metadata": {},
   "outputs": [],
   "source": [
    "import os\n",
    "import time\n",
    "from langchain.document_loaders import PyPDFLoader\n",
    "from langchain_community.document_loaders import UnstructuredPDFLoader\n",
    "from langchain.text_splitter import RecursiveCharacterTextSplitter\n",
    "from pathlib import Path\n",
    "from langchain.chains import create_history_aware_retriever, create_retrieval_chain, RetrievalQA\n",
    "from langchain_core.prompts import ChatPromptTemplate, MessagesPlaceholder\n",
    "from langchain.prompts import ChatPromptTemplate\n",
    "from langchain_core.output_parsers import StrOutputParser\n",
    "from langchain_core.runnables import RunnablePassthrough\n",
    "from langchain_core.runnables.history import RunnableWithMessageHistory\n",
    "from langchain_core.chat_history import InMemoryChatMessageHistory\n",
    "from langchain.chains.combine_documents import create_stuff_documents_chain\n",
    "from langchain.memory import ConversationBufferMemory\n",
    "from langchain_google_genai import ChatGoogleGenerativeAI\n",
    "from google.colab import userdata\n",
    "from langchain_huggingface import HuggingFaceEmbeddings\n",
    "from langchain.vectorstores import Chroma, FAISS\n",
    "import arabic_reshaper\n",
    "from bidi.algorithm import get_display\n",
    "\n",
    "import warnings\n",
    "warnings.filterwarnings(\"ignore\")"
   ]
  },
  {
   "cell_type": "code",
   "execution_count": 3,
   "metadata": {},
   "outputs": [
    {
     "name": "stdout",
     "output_type": "stream",
     "text": [
      "Using device: cpu\n"
     ]
    }
   ],
   "source": [
    "import torch\n",
    "print(\"Using device:\", torch.device(\"cuda\" if torch.cuda.is_available() else \"cpu\"))"
   ]
  },
  {
   "cell_type": "markdown",
   "metadata": {
    "id": "0jptV0EYYgsW"
   },
   "source": [
    "### Load PDF Document\n",
    "\n",
    "Loading the internal regulations document of the Faculty of Computers and Artificial Intelligence (October 2019) using PyPDFLoader."
   ]
  },
  {
   "cell_type": "code",
   "execution_count": 4,
   "metadata": {},
   "outputs": [
    {
     "name": "stdout",
     "output_type": "stream",
     "text": [
      "Using Colab cache for faster access to the 'fcai-usc-internal-regulations' dataset.\n",
      "Path to dataset files: /kaggle/input/fcai-usc-internal-regulations\n"
     ]
    }
   ],
   "source": [
    "import kagglehub\n",
    "\n",
    "# Download latest version\n",
    "path = kagglehub.dataset_download(\"ahmedayman7/fcai-usc-internal-regulations\")\n",
    "\n",
    "print(\"Path to dataset files:\", path)"
   ]
  },
  {
   "cell_type": "code",
   "execution_count": 5,
   "metadata": {},
   "outputs": [
    {
     "name": "stdout",
     "output_type": "stream",
     "text": [
      "74 pages loaded\n"
     ]
    }
   ],
   "source": [
    "pdf_path = \"/kaggle/input/fcai-usc-internal-regulations/2019.pdf\"\n",
    "\n",
    "loader = PyPDFLoader(pdf_path, mode=\"page\")\n",
    "docs = loader.load()\n",
    "\n",
    "# Each doc corresponds to a page\n",
    "print(len(docs), \"pages loaded\")"
   ]
  },
  {
   "cell_type": "markdown",
   "metadata": {
    "id": "LvJqYJSofu3O"
   },
   "source": [
    "### Fix Arabic Text Rendering\n",
    "\n",
    "Reshaping and reordering Arabic text in each document page to ensure proper visual display (connected characters and right-to-left layout). The corrected text is saved back into the `Document` objects.  \n",
    "Then, previewing the first three pages to verify the fix."
   ]
  },
  {
   "cell_type": "code",
   "execution_count": 7,
   "metadata": {},
   "outputs": [
    {
     "name": "stdout",
     "output_type": "stream",
     "text": [
      "✅ Arabic text has been reshaped, reordered, and stored back into docs.\n",
      "\n",
      "--- Page 1 ---\n",
      "ﺍﻟﻼﺋﺤﺔ ﺍﻟﺪﺍﺧﻠﻴﺔ \n",
      "ﻟﻜﻠﻴﺔ ﺍﻟﺤﺎﺳﺒﺎﺕ ﻭﺍﻟﺬﻛﺎﺀ ﺍﻻﺻﻄﻨﺎﻋﻲ \n",
      "Faculty of Computers and \n",
      " Artificial Intelligence\n",
      "(ﺑﻨﻈﺎﻡ ﺍﻟﺴﺎﻋﺎﺕ ﺍﻟﻤﻌﺘﻤﺪﺓ \n",
      " \n",
      "ﺟﺎﻣﻌﺔ ﻣﺪﻳﻨﺔ ﺍﻟﺴﺎﺩﺍﺕ \n",
      " \n",
      "ﺃﻛﺘﻮﺑﺮ 2019\n",
      "\n",
      "================================================================================\n",
      "\n",
      "--- Page 2 ---\n",
      "ﺟﺎﻣﻌﺔ ﻣﺪﻳﻨﺔ ﺍﻟﺴﺎﺩﺍﺕ \n",
      "ﻛﻠﻴﺔ ﺍﻟﺤﺎﺳﺒﺎﺕ ﻭﺍﻟﺬﻛﺎﺀ ﺍﻻﺻﻄﻨﺎﻋﻲ \n",
      "  \n",
      "Page 1 of 73        ﺍﻟﻼﺋﺤﺔ ﺍﻟﺪﺍﺧﻠﻴﺔ ﻟﻜﻠﻴﺔ ﺍﻟﺤﺎﺳﺒﺎﺕ ﻭﺍﻟﺬﻛﺎﺀ ﺍﻻﺻﻄﻨﺎﻋﻲ ﺑﻨﻈﺎﻡ ﺍﻟﺴﺎﻋﺎﺕ ﺍﻟﻤﻌﺘﻤﺪﺓ  2019          \n",
      "ﻗﺎﺋﻤﺔ ﺍﻟﻤﺤﺘﻮﻳﺎﺕ \n",
      "ﻣﺴﻠﺴﻞ  ﺍﻟﻤﻮﺿﻮﻉ  ﺭﻗﻢ ﺍﻟﺼﻔﺤﺔ  \n",
      "1  ﺗﻤﻬﻴﺪ 2 \n",
      "2  ﺭﺅﻳﺔ ﻭﺭﺳﺎﻟﺔ ﻭﺃﻫﺪﺍﻑ ﺍﻟﻜﻠﻴﺔ   3 \n",
      "3  ﻣﺎﺩﺓ1: ﻗﻮﺍﻋﺪ ﺍﻟﻘﺒﻮﻝ ﺑﺎﻟﻜﻠﻴﺔ 4 \n",
      "4  ﻣﺎﺩﺓ2: ﺃﻗﺴﺎﻡ ﺍﻟﻜﻠﻴﺔ ﻭﺍﻟﺪﺭﺟﺎﺕ ﺍﻟﻌﻠﻤﻴﺔ 4 \n",
      "5  ﻣﺎﺩﺓ3: ﻟﻐﺔ ﺍﻟﺘﺪﺭﻳﺲ 5 \n",
      "6  ﻣﺎﺩﺓ4: ﻧﻈﺎﻡ ﺍﻟﺴﺎﻋﺎﺗﺎﻟﻤﻌﺘﻤﺪﺓ 5 \n",
      "7  ﻣﺎﺩﺓ5: ﺍﻹﺭﺷﺎﺩ ﺍﻷﻛﺎﺩﻳﻤﻰ 6 \n",
      "8  ﻣﺎﺩﺓ6: ﺍﻟﺘﺴﺠﻴﻞ ﻭﺍﻟﺤﺬﻑ ﻭﺍﻹﺿﺎﻓﺔ 7 \n",
      "9  ﻣﺎﺩﺓ7: ﺍﻻﻧﺴﺤﺎﺏ ﻣﻦ ﺍﻟﻤﻘﺮﺭ 8 \n",
      "10  ﻣﺎﺩﺓ8 :ﻗﻮﺍﻋﺪﺍﻟﻤﻮﺍﻇﺒﺔ ﻭﺍﻟﻐﻴﺎﺏ 8 \n",
      "11  ﻣﺎﺩﺓ9: ﺍﻻﻧﺘﻘﺎﻝ ﺑﻴﻦ ﺍﻟﻤﺴﺘﻮﻳﺎﺕ 9 \n",
      "12  ﻣﺎﺩﺓ10: ﺍﻹﻧﻘﻄﺎﻉ ﻋﻦ ﺍﻟﺪﺭﺍﺳﺔ 9 \n",
      "13  ﻣﺎﺩﺓ11: ﺍﻟﻔﺼﻞ ﻣﻦ ﺍﻟﻜﻠﻴﺔ 9 \n",
      "14  ﻣﺎﺩﺓ12 :ﺍﻟﺘﺤﻮﻳﻞ ﻭﻧﻘﻞ ﺍﻟﻘﻴﺪ ﻣﻦ ﺍﻟﻜﻠﻴﺎﺕ ﺍﻷﺧﺮﻯ 10 \n",
      "15  ﻣﺎﺩﺓ13: ﻧﻈﺎﻡ ﺍﻹﻣﺘﺤﺎﻧﺎﺕ 10 \n",
      "16  ﻣﺎﺩﺓ14: ﻧﻈﺎﻡ ﺍﻟﺘﻘﻮﻳﻢ 11 \n",
      "17  ﻣﺎﺩﺓ15: ﺍﻟﺮﺳﻮﺏ ﻭﺍﻹﻋﺎﺩﺓ 12 \n",
      "18  ﻣﺎﺩﺓ16: ﻣﺘﻄﻠﺒﺎﺕ ﺍﻟﺤﺼﻮﻝ ﻋﻠﻰ ﺍﻟﺪﺭﺟﺔ 13 \n",
      "19  ﻣﺎﺩﺓ17: ﻣﺸﺮﻭﻉ ﺍﻟﺘﺨﺮﺝ 13 \n",
      "20  ﻣﺎﺩﺓ18: ﺍﻟﺘﺪﺭﻳﺐ ﺍﻟﻌﻤﻠﻲ ﻭﺍﻟﻤﻴﺪﺍﻧﻲ 14 \n",
      "21  ﻣﺎﺩﺓ19: ﻗﻮﺍﻋﺪﺍﻻﻧﺘﻈﺎﻡ ﻓﻲ ﺍﻟﺪﺭﺍﺳﺔ  14 \n",
      "22  ﻣﺎﺩﺓ20: ﺭﺳﻮﻡ ﺍﻟﺪﺭﺍﺳﺔ 14 \n",
      "23  ﻣﺎﺩﺓ21: ﻗﻮﺍﻋﺪ ﺍﻟﻨﻈﺎﻡ ﺍﻟﻜﻮﺩﯨﻠﻠﻤﻘﺮﺭﺍﺕ ﺍﻟﺪﺭﺍﺳﻴﺔ 15 \n",
      "24  ﻣﺎﺩﺓ22: ﻣﺠﻠﺲ ﺇﺩﺍﺭﺓ ﺍﻟﺒﺮﻧﺎﻣﺞ 15 \n",
      "25  ﻣﺎﺩﺓ23: ﺍﻹﺷﺮﺍﻑ ﺍﻟﻌﻠﻤﻲ ﻋﻠﻰ ﺗﺪﺭﻳﺲ ﺍﻟﻤﻘﺮﺭﺍﺕ 16 \n",
      "26  ﻣﺎﺩﺓ24: ﺑﻴﺎﻥ ﺍﻟﺪﺭﺟﺎﺕ 16 \n",
      "27  ﻣﺎﺩﺓ25: ﻧﻈﺎﻡ ﺍﻹﺳﺘﻤﺎﻉ 17 \n",
      "28  ﻣﺎﺩﺓ26 :ﺗﻄﺒﻴﻖ ﺍﻟﻼﺋﺤﺔ 17 \n",
      "29  ﻣﺎﺩﺓ27: ﺍﻹﻧﺬﺍﺭ ﺍﻷﻛﺎﺩﻳﻤﻲ 17 \n",
      "30  ﻣﺎﺩﺓ28: ﺍﻟﺘﻈﻠﻤﺎﺕ ﺍﻟﻄﻼﺑﻴﺔ 17 \n",
      "31  ﻣﺎﺩﺓ29: ﺍﻟﻠﻮﺍﺋﺢ ﻭﺍﻟﺘﻘﺎﻟﻴﺪ ﺍﻟﺠﺎﻣﻌﻴﺔ ﻭﻋﻘﻮﺑﺔ ﻣﺨﺎﻟﻔﺘﻬﺎ 17 \n",
      "32  ﻣﺎﺩﺓ30: ﺍﻟﻤﻘﺮﺭﺍﺕ ﺍﻻﺧﺘﻴﺎﺭﻳﺔ 18 \n",
      "33  ﻣﺎﺩﺓ31: ﻣﻘﺮﺭﺍﺕ ﺍﻟﻼﺋﺤﺔ ﺍﻟﺪﺭﺍﺳﻴﺔ 18 \n",
      "34  ﺍﻟﻤﺤﺘﻮﻱ ﺍﻟﻌﻠﻤﻲ ﻟﻤﺘﻄﻠﺒﺎﺕ ﺍﻟﺒﺮﺍﻣﺞ 30 \n",
      "35  ﻣﻠﺤﻘﺎﺕ 65\n",
      "\n",
      "================================================================================\n",
      "\n",
      "--- Page 3 ---\n",
      "ﺟﺎﻣﻌﺔ ﻣﺪﻳﻨﺔ ﺍﻟﺴﺎﺩﺍﺕ \n",
      "ﻛﻠﻴﺔ ﺍﻟﺤﺎﺳﺒﺎﺕ ﻭﺍﻟﺬﻛﺎﺀ ﺍﻻﺻﻄﻨﺎﻋﻲ \n",
      "  \n",
      "Page 2 of 73        ﺍﻟﻼﺋﺤﺔ ﺍﻟﺪﺍﺧﻠﻴﺔ ﻟﻜﻠﻴﺔ ﺍﻟﺤﺎﺳﺒﺎﺕ ﻭﺍﻟﺬﻛﺎﺀ ﺍﻻﺻﻄﻨﺎﻋﻲ ﺑﻨﻈﺎﻡ ﺍﻟﺴﺎﻋﺎﺕ ﺍﻟﻤﻌﺘﻤﺪﺓ  2019          \n",
      "ﺗﻤﻬﻴﺪ \n",
      "    ﺇﻥ ﺍﻟﺘﻌﻠﻴﻢ ﻟﻠﻤﺴﺘﻘﺒﻞ ﻫﻮ ﺍﻟﻐﺎﻳﺔ ﺍﻟﺘﻲ ﻳﺠﺐ ﺃﻥ ﻧﺴﻌﻰ ﺟﻤﻴﻌﺎ ﺇﻟﻴﻬﺎ، ﻭﺍﺿﻌﻴﻦ ﻧﺼﺐ ﺃﻋﻴﻨﻨﺎ  \n",
      "ﺗﻮﺟﻬﺎﺕ ﺍﻟﺪﻭﻟﺔ ﻟﻠﺘﺤﻮﻝ ﺇﻟﻰ ﺍﻟﺤﻜﻮﻣﺔ ﺍﻟﺮﻗﻤﻴﺔ، ﻭﻣﻴﻜﻨﺔ ﺧﺪﻣﺎﺗﻬﺎ ﻟﺘﻘﺪﻳﻢ ﺧﺪﻣﺎﺕ ﺫﻛﻴﺔ ﺗﻌﺘﻤﺪ ﻋﻠﻴﻬﺎ \n",
      "ﺍﻟﻤﺆﺳﺴﺎﺕ ﻭﺍﻟﺒﻨﻴﺔ ﺍﻟﺘﺤﺘﻴﺔ ﺍﻟﻤﺴﺘﻘﺒﻠﻴﺔ ﻟﻠﺪﻭﻟﺔ، ﻟﻠﺤﺪ ﻣﻦ ﺃﺳﺒﺎﺏ ﺍﻟﻔﻘﺮ ﻭﺍﻟﻜﻮﺍﺭﺙ ﻭﺍﻟﻤﺨﺎﻃﺮ ﺍﻟﺒﻴﺌﻴﺔ،  \n",
      "ﻭﺗﺤﻘﻴﻘﺎ ﻟﻤﺒﺪﺃ ﺗﻮﻓﻴﺮ ﺍﻟﻮﻗﺖ ﻭﺍﻟﺠﻬﺪ ﻭﻣﻜﺎﻓﺤﺔ ﺍﻟﻔﺴﺎﺩ، ﻭﻣﻮﺍﻛﺒﺔ ﺍﻟﺘﻄﻮﺭﺍﺕ ﺍﻟﻤﺘﺴﺎﺭﻋﺔ ﻓﻲ ﻋﺎﻟﻢ  \n",
      "ﺍﻟﺘﻜﻨﻮﻟﻮﺟﻴﺎ ﺍﻟﺮﻗﻤﻴﺔ؛ ﻟﺬﺍ ﻓﻘﺪ ﺟﺎﺀﺕ ﺍﺳﺘﺮﺍﺗﻴﺠﻴﺔ ﺍﻟﺘﻨﻤﻴﺔ ﺍﻟﻤﺴﺘﺪﺍﻣﺔ ﻣﺼﺮ 2030 ﻣﺆﻛﺪﺓ ﻋﻠﻰ ﻫﺬﺍ\n",
      "ﺍﻟﺠﺎﻧﺐ ﻓﻲ ﻛﻞ ﻣﺤﺎﻭﺭﻫﺎ.  \n",
      "   ﺇﻥ ﺍﻻﻫﺘﻤﺎﻡ ﺑﻌﻠﻮﻡ ﺍﻟﻤﺴﺘﻘﺒﻞ ﻭﺍﻟﻤﺒﺎﺩﺭﺓ ﻓﻲ ﺻﻴﺎﻏﺔ ﻣﺴﺘﻘﺒﻞ ﺍﻟﺘﻌﻠﻴﻢ  ﻭﺍﻟﺘﻌﻠﻢ ﺑﺎﺳﺘﺨﺪﺍﻡ ﺃﺳﺎﻟﻴﺐ \n",
      "ﺍﺑﺘﻜﺎﺭﻳﺔ ﻋﻦ ﻃﺮﻳﻖ ﺗﻮﻓﻴﺮ ﻓﺮﺹ ﺗﻌﻠﻴﻢ ﺭﻗﻤﻲ ﺫﻛﻲ ﺑﺠﻮﺩﺓ ﻋﺎﻟﻴﺔ ﺿﺮﻭﺭﺓ ﻣﻠﺤﺔ ﻓﻲ ﻋﺼﺮﻧﺎ ﺍﻟﺤﺪﻳﺚ، \n",
      "ﻭﺗﻘﻒ ﺍﻟﺠﺎﻣﻌﺎﺕ ﺍﻟﻤﺼﺮﻳﺔ ﻋﻼﻣﺔ ﻋﻠﻰ ﻫﺬﺍ ﺍﻟﻄﺮﻳﻖ ﺑﻤﺎ ﺗﻤﻠﻚ ﻣﻦ ﻃﺎﻗﺎﺕ ﺑﺸﺮﻳﺔ ﻭﺍﻣﻜﺎﻧﻴﺎﺕ ﻣﺎﺩﻳﺔ  \n",
      "ﻭﺭﺅﻯ ﻟﺘﻮﺟﻬﺎﺕ ﺍﻟﺤﻀﺎﺭﺍﺕ ﻭﺻﻨﺎﻋﺔ ﺍﻟﻤﺴﺘﻘﺒﻞ، ﻭﺟﺎﺀﺕ ﺗﻮﺟﻴﻬﺎﺕ ﻣﻌﺎﻟﻲ ﻭﺯﻳﺮ ﺍﻟﺘﻌﻠﻴﻢ ﺍﻟﻌﺎﻟﻲ  \n",
      "ﻟﻀﺮﻭﺭﺓ ﺇﻧﺸﺎﺀ ﻛﻠﻴﺎﺕ ﺍﻟﺤﺎﺳﺒﺎﺕ ﻭﺍﻟﺬﻛﺎﺀ ﺍﻻﺻﻄﻨﺎﻋﻲ ﺗﺤﻘﻴﻘﺎ ﻟﻬﺬﺍ ﺍﻟﻐﺮﺽ ﻭﻣﻮﺍﻛﺒﺔ ﻟﻮﻇﺎﺋﻒ  \n",
      "ﺍﻟﻤﺴﺘﻘﺒﻞ.   \n",
      "  ﻭﺍﻧﻄﻼﻗﺎ ﻣﻦ ﺗﻮﺟﻬﺎﺕ ﺍﻟﺪﻭﻟﺔ، ﻭﺭﺅﻳﺔ ﻭﺯﺍﺭﺓ ﺍﻟﺘﻌﻠﻴﻢ ﺍﻟﻌﺎﻟﻲ ﻭﺍﻟﺒﺤﺚ ﺍﻟﻌﻠﻤﻲ، ﻭﺗﺤﻘﻴﺎ ﻟﻐﺎﻳﺔ  \n",
      "ﻣﻦ ﻏﺎﻳﺎﺕ ﺍﻟﺠﺎﻣﻌﺔ (ﺟﺎﻣﻌﺔ ﻣﺪﻳﻨﺔ ﺍﻟﺴﺎﺩﺍﺕ ﺟﺎﻣﻌﺔ ﺭﻗﻤﻴﺔ) ﻓﻘﺪ ﺳﻌﺖ ﺍﻟﺠﺎﻣﻌﺔ ﺇﻟﻲ ﺇﻧﺸﺎﺀ ﻛﻠﻴﺔ  \n",
      "ﺍﻟﺤﺎﺳﺒﺎﺕ ﻭﺍﻟﺬﻛﺎﺀ ﺍﻻﺻﻄﻨﺎﻋﻲ ﻟﺘﺤﻘﻖ ﻣﻜﺎﻧﺔ ﺩﻭﻟﻴﺔ ﻣﺘﻤﻴﺰﺓ ﻓﻲ ﻣﺠﺎﻝ ﺍﻟﺤﻮﺳﺒﺔ ﻭﺍﻟﺬﻛﺎﺀ ﺍﻻﺻﻄﻨﺎﻋﻲ، \n",
      "ﺑﺪﺍﻳﺔ ﻣﻦ ﺗﻘﺪﻳﻢ ﺧﺪﻣﺎﺗﻬﺎ ﻟﻤﺠﺘﻤﻌﻬﺎ ﺍﻟﺼﻨﺎﻋﻲ ﻭﺍﻟﺰﺭﺍﻋﻲ ﺍﻟﺠﺪﻳﺪ،  ﺑﺒﻨﺎﺀ ﻗﺪﺭﺍﺕ ﺃﺟﻴﺎﻝ ﺟﺪﻳﺪﺓ ﺗﺘﻤﺘﻊ ﺑﻘﺪﺭ \n",
      "ﻭﺍﺳﻊ ﻣﻦ ﺍﻟﻤﻌﺮﻓﺔ ﺑﻤﺠﺎﻻﺕ ﺗﻜﻨﻮﻟﻮﺟﻴﺎ ﺍﻟﻤﻌﻠﻮﻣﺎﺕ ﻭﺍﻻﺗﺼﺎﻻﺕ ﻭﺍﻟﺬﻛﺎﺀ ﺍﻻﺻﻄﻨﺎﻉ ﻱ؛ ﻣﻮﺍﻛﺒﺔ  \n",
      "ﻟﻠﺘﻄﻮﺭﺍﺕ ﺍﻟﻌﻠﻤﻴﺔ ﺍﻟﻌﺎﻟﻤﻴﺔ ﻓﻲ ﻫﺬﺍ ﺍﻟﻤﺠﺎﻝ، ﺑﺎﺣﺜﺔ ﻋﻦ ﺃﻓﻜﺎﺭ ﻣﺴﺘﻘﺒﻠﻴﺔ ﺗﺘﻌﻠﻖ ﺑﺎﻟﻮﻇﺎﺋﻒ ﻭﺍﺣﺘﻴﺎﺟﺎﺕ  \n",
      "ﺳﻮﻕ ﺍﻟﻌﻤﻞ، ﻓﻲ ﻇﻞ ﺍﻧﺪﺛﺎﺭ ﺍﻟﻮﻇﺎﺋﻒ ﺍﻟﺘﻘﻠﻴﺪﻳﺔ ﺧﻼﻝ ﺍﻷﻋﻮﺍﻡ ﺍﻟﻤﻘﺒﻠﺔ.\n",
      "\n",
      "================================================================================\n",
      "\n"
     ]
    }
   ],
   "source": [
    "# Fix Arabic text inside each Document object\n",
    "for i, doc in enumerate(docs):\n",
    "    # Extract raw text from the page\n",
    "    text = doc.page_content\n",
    "\n",
    "    # Reshape Arabic characters to connect properly\n",
    "    reshaped_text = arabic_reshaper.reshape(text)\n",
    "\n",
    "    # Correct the right-to-left display order\n",
    "    bidi_text = get_display(reshaped_text)\n",
    "\n",
    "    # Save the fixed Arabic text back into the Document\n",
    "    doc.page_content = bidi_text\n",
    "\n",
    "print(\"✅ Arabic text has been reshaped, reordered, and stored back into docs.\\n\")\n",
    "\n",
    "# Display the content of the first few pages (example: first 3)\n",
    "for i, page in enumerate(docs[:3]):\n",
    "    print(f\"--- Page {i + 1} ---\")\n",
    "    print(page.page_content)\n",
    "    print(\"\\n\" + \"=\" * 80 + \"\\n\")"
   ]
  },
  {
   "cell_type": "markdown",
   "metadata": {
    "id": "CyfcsJj9hbb1"
   },
   "source": [
    "### Initialize Google Generative AI (Gemini)\n",
    "\n",
    "Configuring the `gemini-2.5-flash` model via LangChain with zero temperature for deterministic responses, retry logic, and integration with the provided Google API key from Colab secrets."
   ]
  },
  {
   "cell_type": "code",
   "execution_count": 8,
   "metadata": {},
   "outputs": [],
   "source": [
    "google_llm = ChatGoogleGenerativeAI(\n",
    "    model=\"gemini-2.5-flash\",\n",
    "    temperature=0.1,\n",
    "    max_tokens=None, # Max output tokens\n",
    "    timeout=None,\n",
    "    max_retries=2,\n",
    "    convert_system_message_to_human=True,\n",
    "    google_api_key=userdata.get('GOOGLE_API_KEY')\n",
    ")"
   ]
  },
  {
   "cell_type": "markdown",
   "metadata": {
    "id": "4MtzEJrIhd7Z"
   },
   "source": [
    "### Split Documents into Chunks\n",
    "\n",
    "Using `RecursiveCharacterTextSplitter` to break the cleaned Arabic documents into manageable chunks (2000 characters with 200-character overlap) while respecting natural text boundaries. This prepares the text for effective embedding and retrieval. A sample chunk is displayed for verification."
   ]
  },
  {
   "cell_type": "code",
   "execution_count": 9,
   "metadata": {},
   "outputs": [
    {
     "name": "stdout",
     "output_type": "stream",
     "text": [
      "✅ Successfully created 81 chunks.\n",
      "\n",
      "Sample Chunk Metadata: {'producer': 'Microsoft® Word لبرنامج Office 365', 'creator': 'Microsoft® Word لبرنامج Office 365', 'creationdate': '2019-10-27T13:59:27+02:00', 'author': 'Magda Abou El Safa', 'moddate': '2019-10-27T14:01:24+02:00', 'title': 'كلية الحاسبات والذكاء الاصطناعى FCaI-USC', 'source': '/kaggle/input/fcai-usc-internal-regulations/2019.pdf', 'total_pages': 74, 'page': 46, 'page_label': '47'}\n",
      "Sample Chunk Content:\n",
      " ﺟﺎﻣﻌﺔ ﻣﺪﻳﻨﺔ ﺍﻟﺴﺎﺩﺍﺕ \n",
      "ﻛﻠﻴﺔ ﺍﻟﺤﺎﺳﺒﺎﺕ ﻭﺍﻟﺬﻛﺎﺀ ﺍﻻﺻﻄﻨﺎﻋﻲ \n",
      "  \n",
      "Page 46 of 73        ﺍﻟﻼﺋﺤﺔ ﺍﻟﺪﺍﺧﻠﻴﺔ ﻟﻜﻠﻴﺔ ﺍﻟﺤﺎﺳﺒﺎﺕ ﻭﺍﻟﺬﻛﺎﺀ ﺍﻻﺻﻄﻨﺎﻋﻲ ﺑﻨﻈﺎﻡ ﺍﻟﺴﺎﻋﺎﺕ ﺍﻟﻤﻌﺘﻤﺪﺓ  2019          \n",
      " for Robotic systems, Topics include how robots move, sense, and\n",
      " perceive the world around them. The course introduces also constructing,\n",
      " planning and programming robots ability to Sensing, controlling, remote\n",
      " control and testing using computer languages for communication and\n",
      " advanced Input / Output programming for system practical programming\n",
      " and harmonious programming and fundamental knowledge to program a\n",
      " robotic system for specific applications.\n",
      " IS405\n",
      " Cloud Computing\n",
      "ﺣﻮﺳﺒﺔ ﺳﺤﺎﺑﻴﺔ \n",
      "This course provides a hands-on comprehensive study of cloud concepts \n",
      " and capabilities across the various cloud service models including\n",
      " Infrastructure as a Service (IaaS), Platform as a Service (PaaS), Software\n",
      " as a Service (SaaS), and Business Process as a Service (BPaaS).\n",
      " To build comprehensive end-to-end business solutions on the Cloud.  In\n",
      " addition, distributed data crunching  with MapReduce, cloud and\n",
      " datacenter file systems, virtualization, security & privacy, and interactive\n",
      " web-based applications are included as key topics of this course.\n",
      " BI405\n",
      " Bioinformatics\n",
      "ﺍﻟﻤﻌﻠﻮﻣﺎﺗﻴﺔ ﺍﻟﺤﻴﻮﻳﺔ \n",
      "Bioinformatics is the theory, application and development of computing \n",
      " tools to solve problems and create hypotheses in all areas of biological\n",
      " sciences. Biology in the post-genome world has been and continues to be\n",
      " transformed from a largely laboratory-based science to one that integrates\n",
      " experimental and information science.\n",
      " In this course, students learn fundamental concepts and methods in\n",
      " bioinformatics, a field at the intersection of biology and computing. It\n",
      " surveys a wide range of topics including computational sequence\n",
      " analysis, sequence homology searching and motif finding, gene finding\n",
      " and genome annotation, protein structure analysis and modeling,\n",
      " genomics and SNP analysis, DNA microarrays and gene expression\n",
      " analysis, Proteomics, network/systems biology, and biological\n",
      " knowledge discovery.\n",
      " CS208\n",
      " Selected Topics in Computer Science\n",
      "ﻣﻮﺿﻮﻋﺎﺕ ﻣﺨﺘﺎﺭﺓ ﻓﻰ ﻋﻠﻮﻡ ﺍﻟﺤﺎﺳﺐ  \n",
      "This course aims at introducing students to novel topics in computer \n",
      " science that need to be identified in a responsive manner as technology\n",
      " and its use evolve and develop. This course is essentially a flexibility\n",
      " .enhancing will be filled on a year-by-year basis\n",
      " \n",
      "ﺏ. ﺑﺮﻧﺎﻣﺞ ﻧﻈﻢ ﺍﻟﻤﻌﻠﻮﻣﺎﺕ \n",
      " \n",
      "IS305 \n",
      " Database Systems -2\n",
      "  ﻧﻈﻢ ﻗﻮﺍﻋﺪ ﺍﻟﺒﻴﺎﻧﺎﺕ-   2\n",
      "The main objective of this course is to provide students with an in -depth \n",
      "understanding of the design, management and implementation of database\n"
     ]
    }
   ],
   "source": [
    "# ⚙️ Configure the text splitter for balanced chunking\n",
    "splitter = RecursiveCharacterTextSplitter(\n",
    "    chunk_size=3000,          # Maximum number of characters per chunk\n",
    "    chunk_overlap=1000,        # Overlap to preserve context between chunks\n",
    "    separators=[\"\\n\\n\", \"\\n\", \".\", \" \"]  # Priority of text break points\n",
    ")\n",
    "\n",
    "# ✂️ Split the loaded and fixed documents into smaller chunks\n",
    "chunks = splitter.split_documents(docs)\n",
    "\n",
    "print(f\"✅ Successfully created {len(chunks)} chunks.\\n\")\n",
    "\n",
    "# 🧾 Optional: Preview a sample chunk\n",
    "sample = chunks[50]\n",
    "print(\"Sample Chunk Metadata:\", sample.metadata)\n",
    "print(\"Sample Chunk Content:\\n\", sample.page_content)"
   ]
  },
  {
   "cell_type": "markdown",
   "metadata": {
    "id": "qqWpYmtT4-nD"
   },
   "source": [
    "### Initialize Multilingual Embedding Model (E5 Base)\n",
    "\n",
    "Switching to the `intfloat/multilingual-e5-base` embedding model—a high-performing multilingual encoder that supports Arabic, English, and many other languages. Configured to run on GPU (`cuda`) with normalized embeddings to enhance retrieval quality in semantic search over the FCAI regulations document."
   ]
  },
  {
   "cell_type": "code",
   "execution_count": 10,
   "metadata": {},
   "outputs": [
    {
     "data": {
      "application/vnd.jupyter.widget-view+json": {
       "model_id": "72f77a9b669b491a875d9d1d808ea5a8",
       "version_major": 2,
       "version_minor": 0
      },
      "text/plain": [
       "modules.json:   0%|          | 0.00/387 [00:00<?, ?B/s]"
      ]
     },
     "metadata": {},
     "output_type": "display_data"
    },
    {
     "data": {
      "application/vnd.jupyter.widget-view+json": {
       "model_id": "08856c538961422589b8433f24518910",
       "version_major": 2,
       "version_minor": 0
      },
      "text/plain": [
       "README.md: 0.00B [00:00, ?B/s]"
      ]
     },
     "metadata": {},
     "output_type": "display_data"
    },
    {
     "data": {
      "application/vnd.jupyter.widget-view+json": {
       "model_id": "7d0b9e0e2ac945ac82c11dfa2fab4e86",
       "version_major": 2,
       "version_minor": 0
      },
      "text/plain": [
       "sentence_bert_config.json:   0%|          | 0.00/57.0 [00:00<?, ?B/s]"
      ]
     },
     "metadata": {},
     "output_type": "display_data"
    },
    {
     "data": {
      "application/vnd.jupyter.widget-view+json": {
       "model_id": "8e56871fb896451dbdf6e3348b9578b7",
       "version_major": 2,
       "version_minor": 0
      },
      "text/plain": [
       "config.json:   0%|          | 0.00/694 [00:00<?, ?B/s]"
      ]
     },
     "metadata": {},
     "output_type": "display_data"
    },
    {
     "data": {
      "application/vnd.jupyter.widget-view+json": {
       "model_id": "f72923b4ef8a4a0a8d784fc92d1ff527",
       "version_major": 2,
       "version_minor": 0
      },
      "text/plain": [
       "model.safetensors:   0%|          | 0.00/1.11G [00:00<?, ?B/s]"
      ]
     },
     "metadata": {},
     "output_type": "display_data"
    },
    {
     "data": {
      "application/vnd.jupyter.widget-view+json": {
       "model_id": "1c4470d577fd4accb99b3c9c54c09cb5",
       "version_major": 2,
       "version_minor": 0
      },
      "text/plain": [
       "tokenizer_config.json:   0%|          | 0.00/418 [00:00<?, ?B/s]"
      ]
     },
     "metadata": {},
     "output_type": "display_data"
    },
    {
     "data": {
      "application/vnd.jupyter.widget-view+json": {
       "model_id": "318bd19c3e8b422e96e53acdb1090f33",
       "version_major": 2,
       "version_minor": 0
      },
      "text/plain": [
       "sentencepiece.bpe.model:   0%|          | 0.00/5.07M [00:00<?, ?B/s]"
      ]
     },
     "metadata": {},
     "output_type": "display_data"
    },
    {
     "data": {
      "application/vnd.jupyter.widget-view+json": {
       "model_id": "ede50f11b9ec45a6a0d5380065f943db",
       "version_major": 2,
       "version_minor": 0
      },
      "text/plain": [
       "tokenizer.json:   0%|          | 0.00/17.1M [00:00<?, ?B/s]"
      ]
     },
     "metadata": {},
     "output_type": "display_data"
    },
    {
     "data": {
      "application/vnd.jupyter.widget-view+json": {
       "model_id": "41e80cefa48241f1ad98ea14ab2c2173",
       "version_major": 2,
       "version_minor": 0
      },
      "text/plain": [
       "special_tokens_map.json:   0%|          | 0.00/280 [00:00<?, ?B/s]"
      ]
     },
     "metadata": {},
     "output_type": "display_data"
    },
    {
     "data": {
      "application/vnd.jupyter.widget-view+json": {
       "model_id": "d9ccf6024eb941efa80829c1551c40cf",
       "version_major": 2,
       "version_minor": 0
      },
      "text/plain": [
       "config.json:   0%|          | 0.00/200 [00:00<?, ?B/s]"
      ]
     },
     "metadata": {},
     "output_type": "display_data"
    },
    {
     "name": "stdout",
     "output_type": "stream",
     "text": [
      "Loaded multilingual embedding model: intfloat/multilingual-e5-base (GPU enabled)\n"
     ]
    }
   ],
   "source": [
    "# Multilingual model (supports Arabic, English, etc.)\n",
    "model_name = \"intfloat/multilingual-e5-base\"\n",
    "\n",
    "# Configuration for GPU and embedding normalization\n",
    "model_kwargs = {'device': 'cpu'}  # Use 'cuda' for GPU; fallback to 'cpu' if no GPU available\n",
    "encode_kwargs = {'normalize_embeddings': True}  # Normalization improves semantic search accuracy\n",
    "\n",
    "# Initialize multilingual embedding model\n",
    "hf = HuggingFaceEmbeddings(\n",
    "    model_name=model_name,\n",
    "    model_kwargs=model_kwargs,\n",
    "    encode_kwargs=encode_kwargs\n",
    ")\n",
    "\n",
    "print(f\"Loaded multilingual embedding model: {model_name} (GPU enabled)\")\n"
   ]
  },
  {
   "cell_type": "markdown",
   "metadata": {
    "id": "ujsB5fhw5EdV"
   },
   "source": [
    "### Create and Persist Chroma Vector Store\n",
    "\n",
    "Building a local Chroma vector database from the document chunks using multilingual embeddings. The vector store is persisted to disk (`./chroma_fcai_regulations_db`) for future reuse—enabling efficient semantic search over the FCAI internal regulations without re-embedding. Total embedded chunks: `{len(chunks)}`."
   ]
  },
  {
   "cell_type": "code",
   "execution_count": 11,
   "metadata": {},
   "outputs": [
    {
     "name": "stdout",
     "output_type": "stream",
     "text": [
      "Chroma vector store for FCAI internal regulations created and saved successfully!\n",
      "Location: ./chroma_fcai_regulations_db\n",
      "Total embedded chunks: 81\n",
      "\n",
      "Vector store instance:\n",
      " <langchain_community.vectorstores.chroma.Chroma object at 0x7da526004710>\n"
     ]
    }
   ],
   "source": [
    "# Create a local Chroma vector store for the FCAI internal regulations document\n",
    "vectorstore = Chroma.from_documents(\n",
    "    documents=chunks,                               # The list of split document chunks\n",
    "    embedding=hf,                                   # HuggingFaceEmbeddings instance\n",
    "    persist_directory=\"./chroma_fcai_regulations_db\"  # Local storage directory\n",
    ")\n",
    "\n",
    "# Persist the embeddings to disk\n",
    "vectorstore.persist()\n",
    "\n",
    "print(\"Chroma vector store for FCAI internal regulations created and saved successfully!\")\n",
    "print(f\"Location: ./chroma_fcai_regulations_db\")\n",
    "print(f\"Total embedded chunks: {len(chunks)}\\n\")\n",
    "\n",
    "# To reload the vector store later (without re-embedding):\n",
    "# vectorstore = Chroma(\n",
    "#     persist_directory=\"./chroma_fcai_regulations_db\",\n",
    "#     embedding_function=hf\n",
    "# )\n",
    "\n",
    "# Optional: Display confirmation\n",
    "print(\"Vector store instance:\\n\", vectorstore)\n"
   ]
  },
  {
   "cell_type": "markdown",
   "metadata": {
    "id": "5XZ-YSoJ5LC6"
   },
   "source": [
    "### Set Up Retrieval-Augmented Generation (RAG) Pipeline\n",
    "\n",
    "Configured a similarity-based retriever from the Chroma vector store (top 6 relevant chunks) and integrated it with the Gemini LLM via a `RetrievalQA` chain. The `\"stuff\"` chain type combines all retrieved context into a single prompt, and source documents are returned for transparency and verification."
   ]
  },
  {
   "cell_type": "code",
   "execution_count": 20,
   "metadata": {},
   "outputs": [],
   "source": [
    "# Create retriever interface from your persisted Chroma vector store\n",
    "\n",
    "\n",
    "# retriever = vectorstore.as_retriever(\n",
    "#     search_type=\"similarity\",     # or \"mmr\" (diverse search)\n",
    "#     search_kwargs={\"k\": 6}  # fetch_k is how many candidates to consider for mmr or similarity\n",
    "# )\n",
    "\n",
    "retriever = vectorstore.as_retriever(\n",
    "    search_type=\"mmr\",  # Maximal Marginal Relevance\n",
    "    search_kwargs={\"k\": 10, \"fetch_k\": 20, \"lambda_mult\": 0.5}\n",
    ")\n",
    "\n",
    "\n",
    "# Create a RetrievalQA chain (LLM + Retriever)\n",
    "qa_chain = RetrievalQA.from_chain_type(\n",
    "    llm=google_llm,\n",
    "    retriever=retriever,\n",
    "    chain_type=\"stuff\",               # Concatenate all chunks into one prompt\n",
    "    return_source_documents=True      # Include retrieved chunks in results\n",
    ")"
   ]
  },
  {
   "cell_type": "code",
   "execution_count": 16,
   "metadata": {},
   "outputs": [
    {
     "name": "stdout",
     "output_type": "stream",
     "text": [
      "['query']\n"
     ]
    }
   ],
   "source": [
    "print(qa_chain.input_keys)"
   ]
  },
  {
   "cell_type": "markdown",
   "metadata": {
    "id": "oyhnlTmr5SoL"
   },
   "source": [
    "### 🧪 Evaluate RAG Chatbot on FCAI Regulations\n",
    "\n",
    "Testing the Retrieval-Augmented Generation (RAG) system with a mix of Arabic and English questions about the Faculty of Computers and Artificial Intelligence (FCAI) internal regulations. The system retrieves relevant document chunks and generates answers using the Gemini LLM, while citing source pages for verification."
   ]
  },
  {
   "cell_type": "code",
   "execution_count": 18,
   "metadata": {},
   "outputs": [
    {
     "name": "stdout",
     "output_type": "stream",
     "text": [
      "\n",
      "🧠 FCAI Internal Regulations RAG Evaluation\n",
      "\n",
      "🔹 Q1: ما هي التخصصات الأربعة المتاحة في كلية الحاسبات والذكاء الاصطناعي وفقًا للائحة الداخلية؟\n",
      "🧩 الإجابة: وفقًا للائحة الداخلية لكلية الحاسبات والذكاء الاصطناعي، التخصصات المتاحة هي:\n",
      "\n",
      "1.  **علوم الحاسب** (Computer Science) - مذكور كقسم في المادة 2.\n",
      "2.  **نظم المعلومات** (Information Systems) - مذكور كقسم في المادة 2.\n",
      "3.  **المعلوماتية الحيوية** (Bioinformatics) - مذكور كبرنامج في المادة 1 (قواعد القبول) والمادة 31 (المقررات التأهيلية).\n",
      "4.  **الذكاء الاصطناعي** (Artificial Intelligence) - مذكور في اسم الكلية نفسها، وفي المجالات العلمية لقسم علوم الحاسب (المادة 2)، وهناك مقررات اختيارية مخصصة له (صفحة 29).\n",
      "📚 المصادر:\n",
      "  - /kaggle/input/fcai-usc-internal-regulations/2019.pdf | صفحة 0\n",
      "  - /kaggle/input/fcai-usc-internal-regulations/2019.pdf | صفحة 16\n",
      "  - /kaggle/input/fcai-usc-internal-regulations/2019.pdf | صفحة 3\n",
      "  - /kaggle/input/fcai-usc-internal-regulations/2019.pdf | صفحة 2\n",
      "  - /kaggle/input/fcai-usc-internal-regulations/2019.pdf | صفحة 1\n",
      "  - /kaggle/input/fcai-usc-internal-regulations/2019.pdf | صفحة 18\n",
      "  - /kaggle/input/fcai-usc-internal-regulations/2019.pdf | صفحة 7\n",
      "  - /kaggle/input/fcai-usc-internal-regulations/2019.pdf | صفحة 29\n",
      "  - /kaggle/input/fcai-usc-internal-regulations/2019.pdf | صفحة 4\n",
      "  - /kaggle/input/fcai-usc-internal-regulations/2019.pdf | صفحة 19\n",
      "================================================================================\n",
      "🔹 Q2: كم عدد الساعات المعتمدة الإجمالية المطلوبة للتخرج من برنامج بكالوريوس علوم الحاسب؟\n",
      "🧩 الإجابة: للحصول على درجة البكالوريوس من كلية الحاسبات والذكاء الاصطناعي (بما في ذلك برنامج علوم الحاسب)، يجب أن يجتاز الطالب **145 ساعة معتمدة على الأقل**.\n",
      "📚 المصادر:\n",
      "  - /kaggle/input/fcai-usc-internal-regulations/2019.pdf | صفحة 13\n",
      "  - /kaggle/input/fcai-usc-internal-regulations/2019.pdf | صفحة 65\n",
      "  - /kaggle/input/fcai-usc-internal-regulations/2019.pdf | صفحة 7\n",
      "  - /kaggle/input/fcai-usc-internal-regulations/2019.pdf | صفحة 68\n",
      "  - /kaggle/input/fcai-usc-internal-regulations/2019.pdf | صفحة 22\n",
      "  - /kaggle/input/fcai-usc-internal-regulations/2019.pdf | صفحة 14\n",
      "  - /kaggle/input/fcai-usc-internal-regulations/2019.pdf | صفحة 6\n",
      "  - /kaggle/input/fcai-usc-internal-regulations/2019.pdf | صفحة 1\n",
      "  - /kaggle/input/fcai-usc-internal-regulations/2019.pdf | صفحة 15\n",
      "  - /kaggle/input/fcai-usc-internal-regulations/2019.pdf | صفحة 29\n",
      "================================================================================\n",
      "🔹 Q3: ما هو الحد الأدنى للمعدل التراكمي (CGPA) المطلوب للبقاء في الكلية وفقًا للائحة؟\n",
      "🧩 الإجابة: الحد الأدنى للمعدل التراكمي (CGPA) المطلوب للبقاء في الكلية هو 2.0 من 4.0. إذا قل المعدل التراكمي للطالب عن 2.0، يوضع على قائمة الإنذار الأكاديمي.\n",
      "📚 المصادر:\n",
      "  - /kaggle/input/fcai-usc-internal-regulations/2019.pdf | صفحة 7\n",
      "  - /kaggle/input/fcai-usc-internal-regulations/2019.pdf | صفحة 6\n",
      "  - /kaggle/input/fcai-usc-internal-regulations/2019.pdf | صفحة 15\n",
      "  - /kaggle/input/fcai-usc-internal-regulations/2019.pdf | صفحة 13\n",
      "  - /kaggle/input/fcai-usc-internal-regulations/2019.pdf | صفحة 8\n",
      "  - /kaggle/input/fcai-usc-internal-regulations/2019.pdf | صفحة 17\n",
      "  - /kaggle/input/fcai-usc-internal-regulations/2019.pdf | صفحة 11\n",
      "  - /kaggle/input/fcai-usc-internal-regulations/2019.pdf | صفحة 20\n",
      "  - /kaggle/input/fcai-usc-internal-regulations/2019.pdf | صفحة 18\n",
      "  - /kaggle/input/fcai-usc-internal-regulations/2019.pdf | صفحة 24\n",
      "================================================================================\n",
      "🔹 Q4: What is the percentage allocated for the final exam in a regular course according to the evaluation system?\n",
      "🧩 الإجابة: According to the evaluation system, the percentage allocated for the final written exam at the end of the semester in a regular course is **50%**.\n",
      "📚 المصادر:\n",
      "  - /kaggle/input/fcai-usc-internal-regulations/2019.pdf | صفحة 11\n",
      "  - /kaggle/input/fcai-usc-internal-regulations/2019.pdf | صفحة 10\n",
      "  - /kaggle/input/fcai-usc-internal-regulations/2019.pdf | صفحة 34\n",
      "  - /kaggle/input/fcai-usc-internal-regulations/2019.pdf | صفحة 35\n",
      "  - /kaggle/input/fcai-usc-internal-regulations/2019.pdf | صفحة 41\n",
      "  - /kaggle/input/fcai-usc-internal-regulations/2019.pdf | صفحة 43\n",
      "  - /kaggle/input/fcai-usc-internal-regulations/2019.pdf | صفحة 38\n",
      "  - /kaggle/input/fcai-usc-internal-regulations/2019.pdf | صفحة 56\n",
      "  - /kaggle/input/fcai-usc-internal-regulations/2019.pdf | صفحة 43\n",
      "  - /kaggle/input/fcai-usc-internal-regulations/2019.pdf | صفحة 59\n",
      "================================================================================\n",
      "🔹 Q5: What is the minimum cumulative GPA (CGPA) required to remain in the faculty according to the regulations?\n",
      "🧩 الإجابة: According to the regulations, students with a cumulative GPA (CGPA) of **less than 2** at the beginning of the semester are considered \"academically struggling\" (المتعثرين دراسيا) and are subject to academic monitoring, with a reduced maximum registration limit of 12 credit hours.\n",
      "\n",
      "While the text doesn't explicitly state a minimum CGPA for *dismissal* from the faculty, it implies that a CGPA of **2.0 or higher** is required to avoid being classified as academically struggling and to maintain normal academic standing.\n",
      "📚 المصادر:\n",
      "  - /kaggle/input/fcai-usc-internal-regulations/2019.pdf | صفحة 7\n",
      "  - /kaggle/input/fcai-usc-internal-regulations/2019.pdf | صفحة 30\n",
      "  - /kaggle/input/fcai-usc-internal-regulations/2019.pdf | صفحة 6\n",
      "  - /kaggle/input/fcai-usc-internal-regulations/2019.pdf | صفحة 24\n",
      "  - /kaggle/input/fcai-usc-internal-regulations/2019.pdf | صفحة 35\n",
      "  - /kaggle/input/fcai-usc-internal-regulations/2019.pdf | صفحة 70\n",
      "  - /kaggle/input/fcai-usc-internal-regulations/2019.pdf | صفحة 43\n",
      "  - /kaggle/input/fcai-usc-internal-regulations/2019.pdf | صفحة 27\n",
      "  - /kaggle/input/fcai-usc-internal-regulations/2019.pdf | صفحة 54\n",
      "  - /kaggle/input/fcai-usc-internal-regulations/2019.pdf | صفحة 8\n",
      "================================================================================\n",
      "✅ Evaluation completed.\n"
     ]
    }
   ],
   "source": [
    "# 🔍 Arabic RAG Chatbot Test – FCAI Internal Regulations\n",
    "\n",
    "questions = [\n",
    "    \"ما هي التخصصات الأربعة المتاحة في كلية الحاسبات والذكاء الاصطناعي وفقًا للائحة الداخلية؟\",\n",
    "    \"كم عدد الساعات المعتمدة الإجمالية المطلوبة للتخرج من برنامج بكالوريوس علوم الحاسب؟\",\n",
    "    \"ما هو الحد الأدنى للمعدل التراكمي (CGPA) المطلوب للبقاء في الكلية وفقًا للائحة؟\",\n",
    "    \"What is the percentage allocated for the final exam in a regular course according to the evaluation system?\",\n",
    "    \"What is the minimum cumulative GPA (CGPA) required to remain in the faculty according to the regulations?\"\n",
    "]\n",
    "\n",
    "print(\"\\n🧠 FCAI Internal Regulations RAG Evaluation\\n\")\n",
    "\n",
    "for i, q in enumerate(questions, 1):\n",
    "    print(f\"🔹 Q{i}: {q}\")\n",
    "    result = qa_chain.invoke({\"query\": q})\n",
    "    print(f\"🧩 الإجابة: {result['result']}\\n📚 المصادر:\")\n",
    "    for doc in result[\"source_documents\"]:\n",
    "        print(f\"  - {doc.metadata.get('source', 'Unknown')} | صفحة {doc.metadata.get('page', 'N/A')}\")\n",
    "    print(\"=\" * 80)\n",
    "    time.sleep(2)\n",
    "\n",
    "print(\"✅ Evaluation completed.\")"
   ]
  },
  {
   "cell_type": "code",
   "execution_count": 19,
   "metadata": {},
   "outputs": [
    {
     "name": "stdout",
     "output_type": "stream",
     "text": [
      "\n",
      "🧠 FCAI Internal Regulations RAG Evaluation\n",
      "\n",
      "🔹 Q1: عاوز اسجل ماده software engineering 2 اي المطلوب عشان اخدها او اي المواد الل المفروض اخدها قبلها في قسم نظم المعلومات\n",
      "🧩 الإجابة: لا توجد معلومات عن مقرر \"Software Engineering 2\" (هندسة البرمجيات-2) في سياق النص المقدم.\n",
      "\n",
      "المعلومات المتاحة هي عن مقرر \"Software Engineering-1\" (هندسة البرمجيات-1) الذي يحمل الكود CS301، ومتطلبه السابق هو \"Computer Programming-2\" (CS203).\n",
      "📚 المصادر:\n",
      "  - /kaggle/input/fcai-usc-internal-regulations/2019.pdf | صفحة 5\n",
      "  - /kaggle/input/fcai-usc-internal-regulations/2019.pdf | صفحة 36\n",
      "  - /kaggle/input/fcai-usc-internal-regulations/2019.pdf | صفحة 35\n",
      "  - /kaggle/input/fcai-usc-internal-regulations/2019.pdf | صفحة 10\n",
      "  - /kaggle/input/fcai-usc-internal-regulations/2019.pdf | صفحة 20\n",
      "  - /kaggle/input/fcai-usc-internal-regulations/2019.pdf | صفحة 8\n",
      "  - /kaggle/input/fcai-usc-internal-regulations/2019.pdf | صفحة 19\n",
      "  - /kaggle/input/fcai-usc-internal-regulations/2019.pdf | صفحة 50\n",
      "  - /kaggle/input/fcai-usc-internal-regulations/2019.pdf | صفحة 33\n",
      "  - /kaggle/input/fcai-usc-internal-regulations/2019.pdf | صفحة 46\n",
      "================================================================================\n",
      "✅ Evaluation completed.\n"
     ]
    }
   ],
   "source": [
    "# 🔍 Arabic RAG Chatbot Test – FCAI Internal Regulations\n",
    "\n",
    "questions = [\n",
    "    \"عاوز اسجل ماده software engineering 2 اي المطلوب عشان اخدها او اي المواد الل المفروض اخدها قبلها في قسم نظم المعلومات\"\n",
    "]\n",
    "\n",
    "print(\"\\n🧠 FCAI Internal Regulations RAG Evaluation\\n\")\n",
    "\n",
    "for i, q in enumerate(questions, 1):\n",
    "    print(f\"🔹 Q{i}: {q}\")\n",
    "    result = qa_chain.invoke({\"query\": q})\n",
    "    print(f\"🧩 الإجابة: {result['result']}\\n📚 المصادر:\")\n",
    "    for doc in result[\"source_documents\"]:\n",
    "        print(f\"  - {doc.metadata.get('source', 'Unknown')} | صفحة {doc.metadata.get('page', 'N/A')}\")\n",
    "    print(\"=\" * 80)\n",
    "    time.sleep(2)\n",
    "\n",
    "print(\"✅ Evaluation completed.\")"
   ]
  }
 ],
 "metadata": {
  "language_info": {
   "name": "python"
  }
 },
 "nbformat": 4,
 "nbformat_minor": 0
}
