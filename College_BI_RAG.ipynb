{
  "nbformat": 4,
  "nbformat_minor": 0,
  "metadata": {
    "colab": {
      "provenance": [],
      "gpuType": "T4"
    },
    "kernelspec": {
      "name": "python3",
      "display_name": "Python 3"
    },
    "language_info": {
      "name": "python"
    },
    "accelerator": "GPU"
  },
  "cells": [
    {
      "cell_type": "markdown",
      "source": [
        "### Environment Setup and Dependencies\n",
        "\n",
        "Importing necessary libraries for document loading, text splitting, vector embeddings, retrieval-augmented generation (RAG), and conversational memory. Configuring the environment to suppress warnings and prepare for processing the PDF document with LangChain and Google Generative AI."
      ],
      "metadata": {
        "id": "CejUDbUlZK-6"
      }
    },
    {
      "cell_type": "code",
      "source": [
        "!pip install -U langchain-community langchain-google-genai pypdf langchain_huggingface chromadb arabic-reshaper python-bidi"
      ],
      "metadata": {
        "colab": {
          "base_uri": "https://localhost:8080/"
        },
        "collapsed": true,
        "id": "7j7oKMqOWEeZ",
        "outputId": "9b97bd9e-3493-403f-e971-aaee45baf443"
      },
      "execution_count": 1,
      "outputs": [
        {
          "output_type": "stream",
          "name": "stdout",
          "text": [
            "Requirement already satisfied: langchain-community in /usr/local/lib/python3.12/dist-packages (0.3.30)\n",
            "Requirement already satisfied: langchain-google-genai in /usr/local/lib/python3.12/dist-packages (2.1.12)\n",
            "Requirement already satisfied: pypdf in /usr/local/lib/python3.12/dist-packages (6.1.1)\n",
            "Requirement already satisfied: langchain_huggingface in /usr/local/lib/python3.12/dist-packages (0.3.1)\n",
            "Requirement already satisfied: chromadb in /usr/local/lib/python3.12/dist-packages (1.1.1)\n",
            "Requirement already satisfied: arabic-reshaper in /usr/local/lib/python3.12/dist-packages (3.0.0)\n",
            "Requirement already satisfied: python-bidi in /usr/local/lib/python3.12/dist-packages (0.6.6)\n",
            "Requirement already satisfied: langchain-core<2.0.0,>=0.3.75 in /usr/local/lib/python3.12/dist-packages (from langchain-community) (0.3.77)\n",
            "Requirement already satisfied: langchain<2.0.0,>=0.3.27 in /usr/local/lib/python3.12/dist-packages (from langchain-community) (0.3.27)\n",
            "Requirement already satisfied: SQLAlchemy<3.0.0,>=1.4.0 in /usr/local/lib/python3.12/dist-packages (from langchain-community) (2.0.43)\n",
            "Requirement already satisfied: requests<3.0.0,>=2.32.5 in /usr/local/lib/python3.12/dist-packages (from langchain-community) (2.32.5)\n",
            "Requirement already satisfied: PyYAML<7.0.0,>=5.3.0 in /usr/local/lib/python3.12/dist-packages (from langchain-community) (6.0.3)\n",
            "Requirement already satisfied: aiohttp<4.0.0,>=3.8.3 in /usr/local/lib/python3.12/dist-packages (from langchain-community) (3.12.15)\n",
            "Requirement already satisfied: tenacity!=8.4.0,<10.0.0,>=8.1.0 in /usr/local/lib/python3.12/dist-packages (from langchain-community) (8.5.0)\n",
            "Requirement already satisfied: dataclasses-json<0.7.0,>=0.6.7 in /usr/local/lib/python3.12/dist-packages (from langchain-community) (0.6.7)\n",
            "Requirement already satisfied: pydantic-settings<3.0.0,>=2.10.1 in /usr/local/lib/python3.12/dist-packages (from langchain-community) (2.11.0)\n",
            "Requirement already satisfied: langsmith<1.0.0,>=0.1.125 in /usr/local/lib/python3.12/dist-packages (from langchain-community) (0.4.31)\n",
            "Requirement already satisfied: httpx-sse<1.0.0,>=0.4.0 in /usr/local/lib/python3.12/dist-packages (from langchain-community) (0.4.1)\n",
            "Requirement already satisfied: numpy>=1.26.2 in /usr/local/lib/python3.12/dist-packages (from langchain-community) (2.0.2)\n",
            "Requirement already satisfied: google-ai-generativelanguage<1,>=0.7 in /usr/local/lib/python3.12/dist-packages (from langchain-google-genai) (0.7.0)\n",
            "Requirement already satisfied: pydantic<3,>=2 in /usr/local/lib/python3.12/dist-packages (from langchain-google-genai) (2.11.9)\n",
            "Requirement already satisfied: filetype<2,>=1.2 in /usr/local/lib/python3.12/dist-packages (from langchain-google-genai) (1.2.0)\n",
            "Requirement already satisfied: tokenizers>=0.19.1 in /usr/local/lib/python3.12/dist-packages (from langchain_huggingface) (0.22.1)\n",
            "Requirement already satisfied: huggingface-hub>=0.33.4 in /usr/local/lib/python3.12/dist-packages (from langchain_huggingface) (0.35.3)\n",
            "Requirement already satisfied: build>=1.0.3 in /usr/local/lib/python3.12/dist-packages (from chromadb) (1.3.0)\n",
            "Requirement already satisfied: pybase64>=1.4.1 in /usr/local/lib/python3.12/dist-packages (from chromadb) (1.4.2)\n",
            "Requirement already satisfied: uvicorn>=0.18.3 in /usr/local/lib/python3.12/dist-packages (from uvicorn[standard]>=0.18.3->chromadb) (0.37.0)\n",
            "Requirement already satisfied: posthog<6.0.0,>=2.4.0 in /usr/local/lib/python3.12/dist-packages (from chromadb) (5.4.0)\n",
            "Requirement already satisfied: typing-extensions>=4.5.0 in /usr/local/lib/python3.12/dist-packages (from chromadb) (4.15.0)\n",
            "Requirement already satisfied: onnxruntime>=1.14.1 in /usr/local/lib/python3.12/dist-packages (from chromadb) (1.23.0)\n",
            "Requirement already satisfied: opentelemetry-api>=1.2.0 in /usr/local/lib/python3.12/dist-packages (from chromadb) (1.37.0)\n",
            "Requirement already satisfied: opentelemetry-exporter-otlp-proto-grpc>=1.2.0 in /usr/local/lib/python3.12/dist-packages (from chromadb) (1.37.0)\n",
            "Requirement already satisfied: opentelemetry-sdk>=1.2.0 in /usr/local/lib/python3.12/dist-packages (from chromadb) (1.37.0)\n",
            "Requirement already satisfied: pypika>=0.48.9 in /usr/local/lib/python3.12/dist-packages (from chromadb) (0.48.9)\n",
            "Requirement already satisfied: tqdm>=4.65.0 in /usr/local/lib/python3.12/dist-packages (from chromadb) (4.67.1)\n",
            "Requirement already satisfied: overrides>=7.3.1 in /usr/local/lib/python3.12/dist-packages (from chromadb) (7.7.0)\n",
            "Requirement already satisfied: importlib-resources in /usr/local/lib/python3.12/dist-packages (from chromadb) (6.5.2)\n",
            "Requirement already satisfied: grpcio>=1.58.0 in /usr/local/lib/python3.12/dist-packages (from chromadb) (1.75.1)\n",
            "Requirement already satisfied: bcrypt>=4.0.1 in /usr/local/lib/python3.12/dist-packages (from chromadb) (5.0.0)\n",
            "Requirement already satisfied: typer>=0.9.0 in /usr/local/lib/python3.12/dist-packages (from chromadb) (0.19.2)\n",
            "Requirement already satisfied: kubernetes>=28.1.0 in /usr/local/lib/python3.12/dist-packages (from chromadb) (34.1.0)\n",
            "Requirement already satisfied: mmh3>=4.0.1 in /usr/local/lib/python3.12/dist-packages (from chromadb) (5.2.0)\n",
            "Requirement already satisfied: orjson>=3.9.12 in /usr/local/lib/python3.12/dist-packages (from chromadb) (3.11.3)\n",
            "Requirement already satisfied: httpx>=0.27.0 in /usr/local/lib/python3.12/dist-packages (from chromadb) (0.28.1)\n",
            "Requirement already satisfied: rich>=10.11.0 in /usr/local/lib/python3.12/dist-packages (from chromadb) (13.9.4)\n",
            "Requirement already satisfied: jsonschema>=4.19.0 in /usr/local/lib/python3.12/dist-packages (from chromadb) (4.25.1)\n",
            "Requirement already satisfied: aiohappyeyeballs>=2.5.0 in /usr/local/lib/python3.12/dist-packages (from aiohttp<4.0.0,>=3.8.3->langchain-community) (2.6.1)\n",
            "Requirement already satisfied: aiosignal>=1.4.0 in /usr/local/lib/python3.12/dist-packages (from aiohttp<4.0.0,>=3.8.3->langchain-community) (1.4.0)\n",
            "Requirement already satisfied: attrs>=17.3.0 in /usr/local/lib/python3.12/dist-packages (from aiohttp<4.0.0,>=3.8.3->langchain-community) (25.3.0)\n",
            "Requirement already satisfied: frozenlist>=1.1.1 in /usr/local/lib/python3.12/dist-packages (from aiohttp<4.0.0,>=3.8.3->langchain-community) (1.7.0)\n",
            "Requirement already satisfied: multidict<7.0,>=4.5 in /usr/local/lib/python3.12/dist-packages (from aiohttp<4.0.0,>=3.8.3->langchain-community) (6.6.4)\n",
            "Requirement already satisfied: propcache>=0.2.0 in /usr/local/lib/python3.12/dist-packages (from aiohttp<4.0.0,>=3.8.3->langchain-community) (0.3.2)\n",
            "Requirement already satisfied: yarl<2.0,>=1.17.0 in /usr/local/lib/python3.12/dist-packages (from aiohttp<4.0.0,>=3.8.3->langchain-community) (1.20.1)\n",
            "Requirement already satisfied: packaging>=19.1 in /usr/local/lib/python3.12/dist-packages (from build>=1.0.3->chromadb) (25.0)\n",
            "Requirement already satisfied: pyproject_hooks in /usr/local/lib/python3.12/dist-packages (from build>=1.0.3->chromadb) (1.2.0)\n",
            "Requirement already satisfied: marshmallow<4.0.0,>=3.18.0 in /usr/local/lib/python3.12/dist-packages (from dataclasses-json<0.7.0,>=0.6.7->langchain-community) (3.26.1)\n",
            "Requirement already satisfied: typing-inspect<1,>=0.4.0 in /usr/local/lib/python3.12/dist-packages (from dataclasses-json<0.7.0,>=0.6.7->langchain-community) (0.9.0)\n",
            "Requirement already satisfied: google-api-core!=2.0.*,!=2.1.*,!=2.10.*,!=2.2.*,!=2.3.*,!=2.4.*,!=2.5.*,!=2.6.*,!=2.7.*,!=2.8.*,!=2.9.*,<3.0.0,>=1.34.1 in /usr/local/lib/python3.12/dist-packages (from google-api-core[grpc]!=2.0.*,!=2.1.*,!=2.10.*,!=2.2.*,!=2.3.*,!=2.4.*,!=2.5.*,!=2.6.*,!=2.7.*,!=2.8.*,!=2.9.*,<3.0.0,>=1.34.1->google-ai-generativelanguage<1,>=0.7->langchain-google-genai) (2.25.1)\n",
            "Requirement already satisfied: google-auth!=2.24.0,!=2.25.0,<3.0.0,>=2.14.1 in /usr/local/lib/python3.12/dist-packages (from google-ai-generativelanguage<1,>=0.7->langchain-google-genai) (2.38.0)\n",
            "Requirement already satisfied: proto-plus<2.0.0,>=1.22.3 in /usr/local/lib/python3.12/dist-packages (from google-ai-generativelanguage<1,>=0.7->langchain-google-genai) (1.26.1)\n",
            "Requirement already satisfied: protobuf!=4.21.0,!=4.21.1,!=4.21.2,!=4.21.3,!=4.21.4,!=4.21.5,<7.0.0,>=3.20.2 in /usr/local/lib/python3.12/dist-packages (from google-ai-generativelanguage<1,>=0.7->langchain-google-genai) (5.29.5)\n",
            "Requirement already satisfied: anyio in /usr/local/lib/python3.12/dist-packages (from httpx>=0.27.0->chromadb) (4.11.0)\n",
            "Requirement already satisfied: certifi in /usr/local/lib/python3.12/dist-packages (from httpx>=0.27.0->chromadb) (2025.8.3)\n",
            "Requirement already satisfied: httpcore==1.* in /usr/local/lib/python3.12/dist-packages (from httpx>=0.27.0->chromadb) (1.0.9)\n",
            "Requirement already satisfied: idna in /usr/local/lib/python3.12/dist-packages (from httpx>=0.27.0->chromadb) (3.10)\n",
            "Requirement already satisfied: h11>=0.16 in /usr/local/lib/python3.12/dist-packages (from httpcore==1.*->httpx>=0.27.0->chromadb) (0.16.0)\n",
            "Requirement already satisfied: filelock in /usr/local/lib/python3.12/dist-packages (from huggingface-hub>=0.33.4->langchain_huggingface) (3.19.1)\n",
            "Requirement already satisfied: fsspec>=2023.5.0 in /usr/local/lib/python3.12/dist-packages (from huggingface-hub>=0.33.4->langchain_huggingface) (2025.3.0)\n",
            "Requirement already satisfied: hf-xet<2.0.0,>=1.1.3 in /usr/local/lib/python3.12/dist-packages (from huggingface-hub>=0.33.4->langchain_huggingface) (1.1.10)\n",
            "Requirement already satisfied: jsonschema-specifications>=2023.03.6 in /usr/local/lib/python3.12/dist-packages (from jsonschema>=4.19.0->chromadb) (2025.9.1)\n",
            "Requirement already satisfied: referencing>=0.28.4 in /usr/local/lib/python3.12/dist-packages (from jsonschema>=4.19.0->chromadb) (0.36.2)\n",
            "Requirement already satisfied: rpds-py>=0.7.1 in /usr/local/lib/python3.12/dist-packages (from jsonschema>=4.19.0->chromadb) (0.27.1)\n",
            "Requirement already satisfied: six>=1.9.0 in /usr/local/lib/python3.12/dist-packages (from kubernetes>=28.1.0->chromadb) (1.17.0)\n",
            "Requirement already satisfied: python-dateutil>=2.5.3 in /usr/local/lib/python3.12/dist-packages (from kubernetes>=28.1.0->chromadb) (2.9.0.post0)\n",
            "Requirement already satisfied: websocket-client!=0.40.0,!=0.41.*,!=0.42.*,>=0.32.0 in /usr/local/lib/python3.12/dist-packages (from kubernetes>=28.1.0->chromadb) (1.8.0)\n",
            "Requirement already satisfied: requests-oauthlib in /usr/local/lib/python3.12/dist-packages (from kubernetes>=28.1.0->chromadb) (2.0.0)\n",
            "Requirement already satisfied: urllib3<2.4.0,>=1.24.2 in /usr/local/lib/python3.12/dist-packages (from kubernetes>=28.1.0->chromadb) (2.3.0)\n",
            "Requirement already satisfied: durationpy>=0.7 in /usr/local/lib/python3.12/dist-packages (from kubernetes>=28.1.0->chromadb) (0.10)\n",
            "Requirement already satisfied: langchain-text-splitters<1.0.0,>=0.3.9 in /usr/local/lib/python3.12/dist-packages (from langchain<2.0.0,>=0.3.27->langchain-community) (0.3.11)\n",
            "Requirement already satisfied: jsonpatch<2.0.0,>=1.33.0 in /usr/local/lib/python3.12/dist-packages (from langchain-core<2.0.0,>=0.3.75->langchain-community) (1.33)\n",
            "Requirement already satisfied: requests-toolbelt>=1.0.0 in /usr/local/lib/python3.12/dist-packages (from langsmith<1.0.0,>=0.1.125->langchain-community) (1.0.0)\n",
            "Requirement already satisfied: zstandard>=0.23.0 in /usr/local/lib/python3.12/dist-packages (from langsmith<1.0.0,>=0.1.125->langchain-community) (0.25.0)\n",
            "Requirement already satisfied: coloredlogs in /usr/local/lib/python3.12/dist-packages (from onnxruntime>=1.14.1->chromadb) (15.0.1)\n",
            "Requirement already satisfied: flatbuffers in /usr/local/lib/python3.12/dist-packages (from onnxruntime>=1.14.1->chromadb) (25.9.23)\n",
            "Requirement already satisfied: sympy in /usr/local/lib/python3.12/dist-packages (from onnxruntime>=1.14.1->chromadb) (1.13.3)\n",
            "Requirement already satisfied: importlib-metadata<8.8.0,>=6.0 in /usr/local/lib/python3.12/dist-packages (from opentelemetry-api>=1.2.0->chromadb) (8.7.0)\n",
            "Requirement already satisfied: googleapis-common-protos~=1.57 in /usr/local/lib/python3.12/dist-packages (from opentelemetry-exporter-otlp-proto-grpc>=1.2.0->chromadb) (1.70.0)\n",
            "Requirement already satisfied: opentelemetry-exporter-otlp-proto-common==1.37.0 in /usr/local/lib/python3.12/dist-packages (from opentelemetry-exporter-otlp-proto-grpc>=1.2.0->chromadb) (1.37.0)\n",
            "Requirement already satisfied: opentelemetry-proto==1.37.0 in /usr/local/lib/python3.12/dist-packages (from opentelemetry-exporter-otlp-proto-grpc>=1.2.0->chromadb) (1.37.0)\n",
            "Requirement already satisfied: opentelemetry-semantic-conventions==0.58b0 in /usr/local/lib/python3.12/dist-packages (from opentelemetry-sdk>=1.2.0->chromadb) (0.58b0)\n",
            "Requirement already satisfied: backoff>=1.10.0 in /usr/local/lib/python3.12/dist-packages (from posthog<6.0.0,>=2.4.0->chromadb) (2.2.1)\n",
            "Requirement already satisfied: distro>=1.5.0 in /usr/local/lib/python3.12/dist-packages (from posthog<6.0.0,>=2.4.0->chromadb) (1.9.0)\n",
            "Requirement already satisfied: annotated-types>=0.6.0 in /usr/local/lib/python3.12/dist-packages (from pydantic<3,>=2->langchain-google-genai) (0.7.0)\n",
            "Requirement already satisfied: pydantic-core==2.33.2 in /usr/local/lib/python3.12/dist-packages (from pydantic<3,>=2->langchain-google-genai) (2.33.2)\n",
            "Requirement already satisfied: typing-inspection>=0.4.0 in /usr/local/lib/python3.12/dist-packages (from pydantic<3,>=2->langchain-google-genai) (0.4.2)\n",
            "Requirement already satisfied: python-dotenv>=0.21.0 in /usr/local/lib/python3.12/dist-packages (from pydantic-settings<3.0.0,>=2.10.1->langchain-community) (1.1.1)\n",
            "Requirement already satisfied: charset_normalizer<4,>=2 in /usr/local/lib/python3.12/dist-packages (from requests<3.0.0,>=2.32.5->langchain-community) (3.4.3)\n",
            "Requirement already satisfied: markdown-it-py>=2.2.0 in /usr/local/lib/python3.12/dist-packages (from rich>=10.11.0->chromadb) (4.0.0)\n",
            "Requirement already satisfied: pygments<3.0.0,>=2.13.0 in /usr/local/lib/python3.12/dist-packages (from rich>=10.11.0->chromadb) (2.19.2)\n",
            "Requirement already satisfied: greenlet>=1 in /usr/local/lib/python3.12/dist-packages (from SQLAlchemy<3.0.0,>=1.4.0->langchain-community) (3.2.4)\n",
            "Requirement already satisfied: click>=8.0.0 in /usr/local/lib/python3.12/dist-packages (from typer>=0.9.0->chromadb) (8.3.0)\n",
            "Requirement already satisfied: shellingham>=1.3.0 in /usr/local/lib/python3.12/dist-packages (from typer>=0.9.0->chromadb) (1.5.4)\n",
            "Requirement already satisfied: httptools>=0.6.3 in /usr/local/lib/python3.12/dist-packages (from uvicorn[standard]>=0.18.3->chromadb) (0.6.4)\n",
            "Requirement already satisfied: uvloop>=0.15.1 in /usr/local/lib/python3.12/dist-packages (from uvicorn[standard]>=0.18.3->chromadb) (0.21.0)\n",
            "Requirement already satisfied: watchfiles>=0.13 in /usr/local/lib/python3.12/dist-packages (from uvicorn[standard]>=0.18.3->chromadb) (1.1.0)\n",
            "Requirement already satisfied: websockets>=10.4 in /usr/local/lib/python3.12/dist-packages (from uvicorn[standard]>=0.18.3->chromadb) (15.0.1)\n",
            "Requirement already satisfied: grpcio-status<2.0.0,>=1.33.2 in /usr/local/lib/python3.12/dist-packages (from google-api-core[grpc]!=2.0.*,!=2.1.*,!=2.10.*,!=2.2.*,!=2.3.*,!=2.4.*,!=2.5.*,!=2.6.*,!=2.7.*,!=2.8.*,!=2.9.*,<3.0.0,>=1.34.1->google-ai-generativelanguage<1,>=0.7->langchain-google-genai) (1.71.2)\n",
            "Requirement already satisfied: cachetools<6.0,>=2.0.0 in /usr/local/lib/python3.12/dist-packages (from google-auth!=2.24.0,!=2.25.0,<3.0.0,>=2.14.1->google-ai-generativelanguage<1,>=0.7->langchain-google-genai) (5.5.2)\n",
            "Requirement already satisfied: pyasn1-modules>=0.2.1 in /usr/local/lib/python3.12/dist-packages (from google-auth!=2.24.0,!=2.25.0,<3.0.0,>=2.14.1->google-ai-generativelanguage<1,>=0.7->langchain-google-genai) (0.4.2)\n",
            "Requirement already satisfied: rsa<5,>=3.1.4 in /usr/local/lib/python3.12/dist-packages (from google-auth!=2.24.0,!=2.25.0,<3.0.0,>=2.14.1->google-ai-generativelanguage<1,>=0.7->langchain-google-genai) (4.9.1)\n",
            "Requirement already satisfied: zipp>=3.20 in /usr/local/lib/python3.12/dist-packages (from importlib-metadata<8.8.0,>=6.0->opentelemetry-api>=1.2.0->chromadb) (3.23.0)\n",
            "Requirement already satisfied: jsonpointer>=1.9 in /usr/local/lib/python3.12/dist-packages (from jsonpatch<2.0.0,>=1.33.0->langchain-core<2.0.0,>=0.3.75->langchain-community) (3.0.0)\n",
            "Requirement already satisfied: mdurl~=0.1 in /usr/local/lib/python3.12/dist-packages (from markdown-it-py>=2.2.0->rich>=10.11.0->chromadb) (0.1.2)\n",
            "Requirement already satisfied: mypy-extensions>=0.3.0 in /usr/local/lib/python3.12/dist-packages (from typing-inspect<1,>=0.4.0->dataclasses-json<0.7.0,>=0.6.7->langchain-community) (1.1.0)\n",
            "Requirement already satisfied: sniffio>=1.1 in /usr/local/lib/python3.12/dist-packages (from anyio->httpx>=0.27.0->chromadb) (1.3.1)\n",
            "Requirement already satisfied: humanfriendly>=9.1 in /usr/local/lib/python3.12/dist-packages (from coloredlogs->onnxruntime>=1.14.1->chromadb) (10.0)\n",
            "Requirement already satisfied: oauthlib>=3.0.0 in /usr/local/lib/python3.12/dist-packages (from requests-oauthlib->kubernetes>=28.1.0->chromadb) (3.3.1)\n",
            "Requirement already satisfied: mpmath<1.4,>=1.1.0 in /usr/local/lib/python3.12/dist-packages (from sympy->onnxruntime>=1.14.1->chromadb) (1.3.0)\n",
            "Requirement already satisfied: pyasn1<0.7.0,>=0.6.1 in /usr/local/lib/python3.12/dist-packages (from pyasn1-modules>=0.2.1->google-auth!=2.24.0,!=2.25.0,<3.0.0,>=2.14.1->google-ai-generativelanguage<1,>=0.7->langchain-google-genai) (0.6.1)\n"
          ]
        }
      ]
    },
    {
      "cell_type": "code",
      "execution_count": 2,
      "metadata": {
        "id": "cBCceoiOMTkz"
      },
      "outputs": [],
      "source": [
        "import os\n",
        "import time\n",
        "from langchain.document_loaders import PyPDFLoader\n",
        "from langchain.text_splitter import RecursiveCharacterTextSplitter\n",
        "from pathlib import Path\n",
        "from langchain.chains import create_history_aware_retriever, create_retrieval_chain, RetrievalQA\n",
        "from langchain_core.prompts import ChatPromptTemplate, MessagesPlaceholder\n",
        "from langchain_core.output_parsers import StrOutputParser\n",
        "from langchain_core.runnables import RunnablePassthrough\n",
        "from langchain_core.runnables.history import RunnableWithMessageHistory\n",
        "from langchain_core.chat_history import InMemoryChatMessageHistory\n",
        "from langchain.chains.combine_documents import create_stuff_documents_chain\n",
        "from langchain.memory import ConversationBufferMemory\n",
        "from langchain_google_genai import ChatGoogleGenerativeAI\n",
        "from google.colab import userdata\n",
        "from langchain_huggingface import HuggingFaceEmbeddings\n",
        "from langchain.vectorstores import Chroma, FAISS\n",
        "import arabic_reshaper\n",
        "from bidi.algorithm import get_display\n",
        "\n",
        "import warnings\n",
        "warnings.filterwarnings(\"ignore\")"
      ]
    },
    {
      "cell_type": "code",
      "source": [
        "import torch\n",
        "print(\"Using device:\", torch.device(\"cuda\" if torch.cuda.is_available() else \"cpu\"))"
      ],
      "metadata": {
        "colab": {
          "base_uri": "https://localhost:8080/"
        },
        "id": "pp2HFrxkjQt8",
        "outputId": "b901fa82-a073-4baf-c18d-85eae93fe142"
      },
      "execution_count": 3,
      "outputs": [
        {
          "output_type": "stream",
          "name": "stdout",
          "text": [
            "Using device: cuda\n"
          ]
        }
      ]
    },
    {
      "cell_type": "markdown",
      "source": [
        "### Load PDF Document\n",
        "\n",
        "Loading the internal regulations document of the Faculty of Computers and Artificial Intelligence (October 2019) using PyPDFLoader."
      ],
      "metadata": {
        "id": "0jptV0EYYgsW"
      }
    },
    {
      "cell_type": "code",
      "source": [
        "loader = PyPDFLoader(\"/content/اللائحة الداخلية لكلية الحاسبات والذكاء الاصطناعي أكتوبر 2019.pdf\")\n",
        "docs = loader.load()"
      ],
      "metadata": {
        "id": "i1J95BKbX4WP"
      },
      "execution_count": 4,
      "outputs": []
    },
    {
      "cell_type": "code",
      "source": [
        "# Each doc corresponds to a page\n",
        "print(len(docs), \"pages loaded\")"
      ],
      "metadata": {
        "colab": {
          "base_uri": "https://localhost:8080/"
        },
        "id": "kH6mwvNRbi5s",
        "outputId": "37137f2e-77e1-4166-9e81-a852765b50d4"
      },
      "execution_count": 5,
      "outputs": [
        {
          "output_type": "stream",
          "name": "stdout",
          "text": [
            "74 pages loaded\n"
          ]
        }
      ]
    },
    {
      "cell_type": "markdown",
      "source": [
        "### Fix Arabic Text Rendering\n",
        "\n",
        "Reshaping and reordering Arabic text in each document page to ensure proper visual display (connected characters and right-to-left layout). The corrected text is saved back into the `Document` objects.  \n",
        "Then, previewing the first three pages to verify the fix."
      ],
      "metadata": {
        "id": "LvJqYJSofu3O"
      }
    },
    {
      "cell_type": "code",
      "source": [
        "# Fix Arabic text inside each Document object\n",
        "for i, doc in enumerate(docs):\n",
        "    # Extract raw text from the page\n",
        "    text = doc.page_content\n",
        "\n",
        "    # Reshape Arabic characters to connect properly\n",
        "    reshaped_text = arabic_reshaper.reshape(text)\n",
        "\n",
        "    # Correct the right-to-left display order\n",
        "    bidi_text = get_display(reshaped_text)\n",
        "\n",
        "    # Save the fixed Arabic text back into the Document\n",
        "    doc.page_content = bidi_text\n",
        "\n",
        "print(\"✅ Arabic text has been reshaped, reordered, and stored back into docs.\\n\")\n",
        "\n",
        "# Display the content of the first few pages (example: first 3)\n",
        "for i, page in enumerate(docs[:3]):\n",
        "    print(f\"--- Page {i + 1} ---\")\n",
        "    print(page.page_content)\n",
        "    print(\"\\n\" + \"=\" * 80 + \"\\n\")"
      ],
      "metadata": {
        "colab": {
          "base_uri": "https://localhost:8080/"
        },
        "id": "RVmfMqpJbrlm",
        "outputId": "a72ed7cf-ac34-4e23-af06-817daa91d801"
      },
      "execution_count": 7,
      "outputs": [
        {
          "output_type": "stream",
          "name": "stdout",
          "text": [
            "✅ Arabic text has been reshaped, reordered, and stored back into docs.\n",
            "\n",
            "--- Page 1 ---\n",
            "ﺍﻟﻼﺋﺤﺔ ﺍﻟﺪﺍﺧﻠﻴﺔ \n",
            "ﻟﻜﻠﻴﺔ ﺍﻟﺤﺎﺳﺒﺎﺕ ﻭﺍﻟﺬﻛﺎﺀ ﺍﻻﺻﻄﻨﺎﻋﻲ \n",
            "Faculty of Computers and \n",
            " Artificial Intelligence\n",
            "(ﺑﻨﻈﺎﻡ ﺍﻟﺴﺎﻋﺎﺕ ﺍﻟﻤﻌﺘﻤﺪﺓ \n",
            " \n",
            "ﺟﺎﻣﻌﺔ ﻣﺪﻳﻨﺔ ﺍﻟﺴﺎﺩﺍﺕ \n",
            " \n",
            "ﺃﻛﺘﻮﺑﺮ 2019\n",
            "\n",
            "================================================================================\n",
            "\n",
            "--- Page 2 ---\n",
            "ﺟﺎﻣﻌﺔ ﻣﺪﻳﻨﺔ ﺍﻟﺴﺎﺩﺍﺕ \n",
            "ﻛﻠﻴﺔ ﺍﻟﺤﺎﺳﺒﺎﺕ ﻭﺍﻟﺬﻛﺎﺀ ﺍﻻﺻﻄﻨﺎﻋﻲ \n",
            "  \n",
            "Page 1 of 73        ﺍﻟﻼﺋﺤﺔ ﺍﻟﺪﺍﺧﻠﻴﺔ ﻟﻜﻠﻴﺔ ﺍﻟﺤﺎﺳﺒﺎﺕ ﻭﺍﻟﺬﻛﺎﺀ ﺍﻻﺻﻄﻨﺎﻋﻲ ﺑﻨﻈﺎﻡ ﺍﻟﺴﺎﻋﺎﺕ ﺍﻟﻤﻌﺘﻤﺪﺓ  2019          \n",
            "ﻗﺎﺋﻤﺔ ﺍﻟﻤﺤﺘﻮﻳﺎﺕ \n",
            "ﻣﺴﻠﺴﻞ  ﺍﻟﻤﻮﺿﻮﻉ  ﺭﻗﻢ ﺍﻟﺼﻔﺤﺔ  \n",
            "1  ﺗﻤﻬﻴﺪ 2 \n",
            "2  ﺭﺅﻳﺔ ﻭﺭﺳﺎﻟﺔ ﻭﺃﻫﺪﺍﻑ ﺍﻟﻜﻠﻴﺔ   3 \n",
            "3  ﻣﺎﺩﺓ1: ﻗﻮﺍﻋﺪ ﺍﻟﻘﺒﻮﻝ ﺑﺎﻟﻜﻠﻴﺔ 4 \n",
            "4  ﻣﺎﺩﺓ2: ﺃﻗﺴﺎﻡ ﺍﻟﻜﻠﻴﺔ ﻭﺍﻟﺪﺭﺟﺎﺕ ﺍﻟﻌﻠﻤﻴﺔ 4 \n",
            "5  ﻣﺎﺩﺓ3: ﻟﻐﺔ ﺍﻟﺘﺪﺭﻳﺲ 5 \n",
            "6  ﻣﺎﺩﺓ4: ﻧﻈﺎﻡ ﺍﻟﺴﺎﻋﺎﺗﺎﻟﻤﻌﺘﻤﺪﺓ 5 \n",
            "7  ﻣﺎﺩﺓ5: ﺍﻹﺭﺷﺎﺩ ﺍﻷﻛﺎﺩﻳﻤﻰ 6 \n",
            "8  ﻣﺎﺩﺓ6: ﺍﻟﺘﺴﺠﻴﻞ ﻭﺍﻟﺤﺬﻑ ﻭﺍﻹﺿﺎﻓﺔ 7 \n",
            "9  ﻣﺎﺩﺓ7: ﺍﻻﻧﺴﺤﺎﺏ ﻣﻦ ﺍﻟﻤﻘﺮﺭ 8 \n",
            "10  ﻣﺎﺩﺓ8 :ﻗﻮﺍﻋﺪﺍﻟﻤﻮﺍﻇﺒﺔ ﻭﺍﻟﻐﻴﺎﺏ 8 \n",
            "11  ﻣﺎﺩﺓ9: ﺍﻻﻧﺘﻘﺎﻝ ﺑﻴﻦ ﺍﻟﻤﺴﺘﻮﻳﺎﺕ 9 \n",
            "12  ﻣﺎﺩﺓ10: ﺍﻹﻧﻘﻄﺎﻉ ﻋﻦ ﺍﻟﺪﺭﺍﺳﺔ 9 \n",
            "13  ﻣﺎﺩﺓ11: ﺍﻟﻔﺼﻞ ﻣﻦ ﺍﻟﻜﻠﻴﺔ 9 \n",
            "14  ﻣﺎﺩﺓ12 :ﺍﻟﺘﺤﻮﻳﻞ ﻭﻧﻘﻞ ﺍﻟﻘﻴﺪ ﻣﻦ ﺍﻟﻜﻠﻴﺎﺕ ﺍﻷﺧﺮﻯ 10 \n",
            "15  ﻣﺎﺩﺓ13: ﻧﻈﺎﻡ ﺍﻹﻣﺘﺤﺎﻧﺎﺕ 10 \n",
            "16  ﻣﺎﺩﺓ14: ﻧﻈﺎﻡ ﺍﻟﺘﻘﻮﻳﻢ 11 \n",
            "17  ﻣﺎﺩﺓ15: ﺍﻟﺮﺳﻮﺏ ﻭﺍﻹﻋﺎﺩﺓ 12 \n",
            "18  ﻣﺎﺩﺓ16: ﻣﺘﻄﻠﺒﺎﺕ ﺍﻟﺤﺼﻮﻝ ﻋﻠﻰ ﺍﻟﺪﺭﺟﺔ 13 \n",
            "19  ﻣﺎﺩﺓ17: ﻣﺸﺮﻭﻉ ﺍﻟﺘﺨﺮﺝ 13 \n",
            "20  ﻣﺎﺩﺓ18: ﺍﻟﺘﺪﺭﻳﺐ ﺍﻟﻌﻤﻠﻲ ﻭﺍﻟﻤﻴﺪﺍﻧﻲ 14 \n",
            "21  ﻣﺎﺩﺓ19: ﻗﻮﺍﻋﺪﺍﻻﻧﺘﻈﺎﻡ ﻓﻲ ﺍﻟﺪﺭﺍﺳﺔ  14 \n",
            "22  ﻣﺎﺩﺓ20: ﺭﺳﻮﻡ ﺍﻟﺪﺭﺍﺳﺔ 14 \n",
            "23  ﻣﺎﺩﺓ21: ﻗﻮﺍﻋﺪ ﺍﻟﻨﻈﺎﻡ ﺍﻟﻜﻮﺩﯨﻠﻠﻤﻘﺮﺭﺍﺕ ﺍﻟﺪﺭﺍﺳﻴﺔ 15 \n",
            "24  ﻣﺎﺩﺓ22: ﻣﺠﻠﺲ ﺇﺩﺍﺭﺓ ﺍﻟﺒﺮﻧﺎﻣﺞ 15 \n",
            "25  ﻣﺎﺩﺓ23: ﺍﻹﺷﺮﺍﻑ ﺍﻟﻌﻠﻤﻲ ﻋﻠﻰ ﺗﺪﺭﻳﺲ ﺍﻟﻤﻘﺮﺭﺍﺕ 16 \n",
            "26  ﻣﺎﺩﺓ24: ﺑﻴﺎﻥ ﺍﻟﺪﺭﺟﺎﺕ 16 \n",
            "27  ﻣﺎﺩﺓ25: ﻧﻈﺎﻡ ﺍﻹﺳﺘﻤﺎﻉ 17 \n",
            "28  ﻣﺎﺩﺓ26 :ﺗﻄﺒﻴﻖ ﺍﻟﻼﺋﺤﺔ 17 \n",
            "29  ﻣﺎﺩﺓ27: ﺍﻹﻧﺬﺍﺭ ﺍﻷﻛﺎﺩﻳﻤﻲ 17 \n",
            "30  ﻣﺎﺩﺓ28: ﺍﻟﺘﻈﻠﻤﺎﺕ ﺍﻟﻄﻼﺑﻴﺔ 17 \n",
            "31  ﻣﺎﺩﺓ29: ﺍﻟﻠﻮﺍﺋﺢ ﻭﺍﻟﺘﻘﺎﻟﻴﺪ ﺍﻟﺠﺎﻣﻌﻴﺔ ﻭﻋﻘﻮﺑﺔ ﻣﺨﺎﻟﻔﺘﻬﺎ 17 \n",
            "32  ﻣﺎﺩﺓ30: ﺍﻟﻤﻘﺮﺭﺍﺕ ﺍﻻﺧﺘﻴﺎﺭﻳﺔ 18 \n",
            "33  ﻣﺎﺩﺓ31: ﻣﻘﺮﺭﺍﺕ ﺍﻟﻼﺋﺤﺔ ﺍﻟﺪﺭﺍﺳﻴﺔ 18 \n",
            "34  ﺍﻟﻤﺤﺘﻮﻱ ﺍﻟﻌﻠﻤﻲ ﻟﻤﺘﻄﻠﺒﺎﺕ ﺍﻟﺒﺮﺍﻣﺞ 30 \n",
            "35  ﻣﻠﺤﻘﺎﺕ 65\n",
            "\n",
            "================================================================================\n",
            "\n",
            "--- Page 3 ---\n",
            "ﺟﺎﻣﻌﺔ ﻣﺪﻳﻨﺔ ﺍﻟﺴﺎﺩﺍﺕ \n",
            "ﻛﻠﻴﺔ ﺍﻟﺤﺎﺳﺒﺎﺕ ﻭﺍﻟﺬﻛﺎﺀ ﺍﻻﺻﻄﻨﺎﻋﻲ \n",
            "  \n",
            "Page 2 of 73        ﺍﻟﻼﺋﺤﺔ ﺍﻟﺪﺍﺧﻠﻴﺔ ﻟﻜﻠﻴﺔ ﺍﻟﺤﺎﺳﺒﺎﺕ ﻭﺍﻟﺬﻛﺎﺀ ﺍﻻﺻﻄﻨﺎﻋﻲ ﺑﻨﻈﺎﻡ ﺍﻟﺴﺎﻋﺎﺕ ﺍﻟﻤﻌﺘﻤﺪﺓ  2019          \n",
            "ﺗﻤﻬﻴﺪ \n",
            "    ﺇﻥ ﺍﻟﺘﻌﻠﻴﻢ ﻟﻠﻤﺴﺘﻘﺒﻞ ﻫﻮ ﺍﻟﻐﺎﻳﺔ ﺍﻟﺘﻲ ﻳﺠﺐ ﺃﻥ ﻧﺴﻌﻰ ﺟﻤﻴﻌﺎ ﺇﻟﻴﻬﺎ، ﻭﺍﺿﻌﻴﻦ ﻧﺼﺐ ﺃﻋﻴﻨﻨﺎ  \n",
            "ﺗﻮﺟﻬﺎﺕ ﺍﻟﺪﻭﻟﺔ ﻟﻠﺘﺤﻮﻝ ﺇﻟﻰ ﺍﻟﺤﻜﻮﻣﺔ ﺍﻟﺮﻗﻤﻴﺔ، ﻭﻣﻴﻜﻨﺔ ﺧﺪﻣﺎﺗﻬﺎ ﻟﺘﻘﺪﻳﻢ ﺧﺪﻣﺎﺕ ﺫﻛﻴﺔ ﺗﻌﺘﻤﺪ ﻋﻠﻴﻬﺎ \n",
            "ﺍﻟﻤﺆﺳﺴﺎﺕ ﻭﺍﻟﺒﻨﻴﺔ ﺍﻟﺘﺤﺘﻴﺔ ﺍﻟﻤﺴﺘﻘﺒﻠﻴﺔ ﻟﻠﺪﻭﻟﺔ، ﻟﻠﺤﺪ ﻣﻦ ﺃﺳﺒﺎﺏ ﺍﻟﻔﻘﺮ ﻭﺍﻟﻜﻮﺍﺭﺙ ﻭﺍﻟﻤﺨﺎﻃﺮ ﺍﻟﺒﻴﺌﻴﺔ،  \n",
            "ﻭﺗﺤﻘﻴﻘﺎ ﻟﻤﺒﺪﺃ ﺗﻮﻓﻴﺮ ﺍﻟﻮﻗﺖ ﻭﺍﻟﺠﻬﺪ ﻭﻣﻜﺎﻓﺤﺔ ﺍﻟﻔﺴﺎﺩ، ﻭﻣﻮﺍﻛﺒﺔ ﺍﻟﺘﻄﻮﺭﺍﺕ ﺍﻟﻤﺘﺴﺎﺭﻋﺔ ﻓﻲ ﻋﺎﻟﻢ  \n",
            "ﺍﻟﺘﻜﻨﻮﻟﻮﺟﻴﺎ ﺍﻟﺮﻗﻤﻴﺔ؛ ﻟﺬﺍ ﻓﻘﺪ ﺟﺎﺀﺕ ﺍﺳﺘﺮﺍﺗﻴﺠﻴﺔ ﺍﻟﺘﻨﻤﻴﺔ ﺍﻟﻤﺴﺘﺪﺍﻣﺔ ﻣﺼﺮ 2030 ﻣﺆﻛﺪﺓ ﻋﻠﻰ ﻫﺬﺍ\n",
            "ﺍﻟﺠﺎﻧﺐ ﻓﻲ ﻛﻞ ﻣﺤﺎﻭﺭﻫﺎ.  \n",
            "   ﺇﻥ ﺍﻻﻫﺘﻤﺎﻡ ﺑﻌﻠﻮﻡ ﺍﻟﻤﺴﺘﻘﺒﻞ ﻭﺍﻟﻤﺒﺎﺩﺭﺓ ﻓﻲ ﺻﻴﺎﻏﺔ ﻣﺴﺘﻘﺒﻞ ﺍﻟﺘﻌﻠﻴﻢ  ﻭﺍﻟﺘﻌﻠﻢ ﺑﺎﺳﺘﺨﺪﺍﻡ ﺃﺳﺎﻟﻴﺐ \n",
            "ﺍﺑﺘﻜﺎﺭﻳﺔ ﻋﻦ ﻃﺮﻳﻖ ﺗﻮﻓﻴﺮ ﻓﺮﺹ ﺗﻌﻠﻴﻢ ﺭﻗﻤﻲ ﺫﻛﻲ ﺑﺠﻮﺩﺓ ﻋﺎﻟﻴﺔ ﺿﺮﻭﺭﺓ ﻣﻠﺤﺔ ﻓﻲ ﻋﺼﺮﻧﺎ ﺍﻟﺤﺪﻳﺚ، \n",
            "ﻭﺗﻘﻒ ﺍﻟﺠﺎﻣﻌﺎﺕ ﺍﻟﻤﺼﺮﻳﺔ ﻋﻼﻣﺔ ﻋﻠﻰ ﻫﺬﺍ ﺍﻟﻄﺮﻳﻖ ﺑﻤﺎ ﺗﻤﻠﻚ ﻣﻦ ﻃﺎﻗﺎﺕ ﺑﺸﺮﻳﺔ ﻭﺍﻣﻜﺎﻧﻴﺎﺕ ﻣﺎﺩﻳﺔ  \n",
            "ﻭﺭﺅﻯ ﻟﺘﻮﺟﻬﺎﺕ ﺍﻟﺤﻀﺎﺭﺍﺕ ﻭﺻﻨﺎﻋﺔ ﺍﻟﻤﺴﺘﻘﺒﻞ، ﻭﺟﺎﺀﺕ ﺗﻮﺟﻴﻬﺎﺕ ﻣﻌﺎﻟﻲ ﻭﺯﻳﺮ ﺍﻟﺘﻌﻠﻴﻢ ﺍﻟﻌﺎﻟﻲ  \n",
            "ﻟﻀﺮﻭﺭﺓ ﺇﻧﺸﺎﺀ ﻛﻠﻴﺎﺕ ﺍﻟﺤﺎﺳﺒﺎﺕ ﻭﺍﻟﺬﻛﺎﺀ ﺍﻻﺻﻄﻨﺎﻋﻲ ﺗﺤﻘﻴﻘﺎ ﻟﻬﺬﺍ ﺍﻟﻐﺮﺽ ﻭﻣﻮﺍﻛﺒﺔ ﻟﻮﻇﺎﺋﻒ  \n",
            "ﺍﻟﻤﺴﺘﻘﺒﻞ.   \n",
            "  ﻭﺍﻧﻄﻼﻗﺎ ﻣﻦ ﺗﻮﺟﻬﺎﺕ ﺍﻟﺪﻭﻟﺔ، ﻭﺭﺅﻳﺔ ﻭﺯﺍﺭﺓ ﺍﻟﺘﻌﻠﻴﻢ ﺍﻟﻌﺎﻟﻲ ﻭﺍﻟﺒﺤﺚ ﺍﻟﻌﻠﻤﻲ، ﻭﺗﺤﻘﻴﺎ ﻟﻐﺎﻳﺔ  \n",
            "ﻣﻦ ﻏﺎﻳﺎﺕ ﺍﻟﺠﺎﻣﻌﺔ (ﺟﺎﻣﻌﺔ ﻣﺪﻳﻨﺔ ﺍﻟﺴﺎﺩﺍﺕ ﺟﺎﻣﻌﺔ ﺭﻗﻤﻴﺔ) ﻓﻘﺪ ﺳﻌﺖ ﺍﻟﺠﺎﻣﻌﺔ ﺇﻟﻲ ﺇﻧﺸﺎﺀ ﻛﻠﻴﺔ  \n",
            "ﺍﻟﺤﺎﺳﺒﺎﺕ ﻭﺍﻟﺬﻛﺎﺀ ﺍﻻﺻﻄﻨﺎﻋﻲ ﻟﺘﺤﻘﻖ ﻣﻜﺎﻧﺔ ﺩﻭﻟﻴﺔ ﻣﺘﻤﻴﺰﺓ ﻓﻲ ﻣﺠﺎﻝ ﺍﻟﺤﻮﺳﺒﺔ ﻭﺍﻟﺬﻛﺎﺀ ﺍﻻﺻﻄﻨﺎﻋﻲ، \n",
            "ﺑﺪﺍﻳﺔ ﻣﻦ ﺗﻘﺪﻳﻢ ﺧﺪﻣﺎﺗﻬﺎ ﻟﻤﺠﺘﻤﻌﻬﺎ ﺍﻟﺼﻨﺎﻋﻲ ﻭﺍﻟﺰﺭﺍﻋﻲ ﺍﻟﺠﺪﻳﺪ،  ﺑﺒﻨﺎﺀ ﻗﺪﺭﺍﺕ ﺃﺟﻴﺎﻝ ﺟﺪﻳﺪﺓ ﺗﺘﻤﺘﻊ ﺑﻘﺪﺭ \n",
            "ﻭﺍﺳﻊ ﻣﻦ ﺍﻟﻤﻌﺮﻓﺔ ﺑﻤﺠﺎﻻﺕ ﺗﻜﻨﻮﻟﻮﺟﻴﺎ ﺍﻟﻤﻌﻠﻮﻣﺎﺕ ﻭﺍﻻﺗﺼﺎﻻﺕ ﻭﺍﻟﺬﻛﺎﺀ ﺍﻻﺻﻄﻨﺎﻉ ﻱ؛ ﻣﻮﺍﻛﺒﺔ  \n",
            "ﻟﻠﺘﻄﻮﺭﺍﺕ ﺍﻟﻌﻠﻤﻴﺔ ﺍﻟﻌﺎﻟﻤﻴﺔ ﻓﻲ ﻫﺬﺍ ﺍﻟﻤﺠﺎﻝ، ﺑﺎﺣﺜﺔ ﻋﻦ ﺃﻓﻜﺎﺭ ﻣﺴﺘﻘﺒﻠﻴﺔ ﺗﺘﻌﻠﻖ ﺑﺎﻟﻮﻇﺎﺋﻒ ﻭﺍﺣﺘﻴﺎﺟﺎﺕ  \n",
            "ﺳﻮﻕ ﺍﻟﻌﻤﻞ، ﻓﻲ ﻇﻞ ﺍﻧﺪﺛﺎﺭ ﺍﻟﻮﻇﺎﺋﻒ ﺍﻟﺘﻘﻠﻴﺪﻳﺔ ﺧﻼﻝ ﺍﻷﻋﻮﺍﻡ ﺍﻟﻤﻘﺒﻠﺔ.\n",
            "\n",
            "================================================================================\n",
            "\n"
          ]
        }
      ]
    },
    {
      "cell_type": "markdown",
      "source": [
        "### Initialize Google Generative AI (Gemini)\n",
        "\n",
        "Configuring the `gemini-2.5-flash` model via LangChain with zero temperature for deterministic responses, retry logic, and integration with the provided Google API key from Colab secrets."
      ],
      "metadata": {
        "id": "CyfcsJj9hbb1"
      }
    },
    {
      "cell_type": "code",
      "source": [
        "google_llm = ChatGoogleGenerativeAI(\n",
        "    model=\"gemini-2.5-flash\",\n",
        "    temperature=0.1,\n",
        "    max_tokens=None, # Max output tokens\n",
        "    timeout=None,\n",
        "    max_retries=2,\n",
        "    convert_system_message_to_human=True,\n",
        "    google_api_key=userdata.get('GOOGLE_API_KEY')\n",
        ")"
      ],
      "metadata": {
        "id": "4-XhCSGPfhrN"
      },
      "execution_count": 9,
      "outputs": []
    },
    {
      "cell_type": "markdown",
      "source": [
        "### Split Documents into Chunks\n",
        "\n",
        "Using `RecursiveCharacterTextSplitter` to break the cleaned Arabic documents into manageable chunks (2000 characters with 200-character overlap) while respecting natural text boundaries. This prepares the text for effective embedding and retrieval. A sample chunk is displayed for verification."
      ],
      "metadata": {
        "id": "4MtzEJrIhd7Z"
      }
    },
    {
      "cell_type": "code",
      "source": [
        "# ⚙️ Configure the text splitter for balanced chunking\n",
        "splitter = RecursiveCharacterTextSplitter(\n",
        "    chunk_size=800,          # Maximum number of characters per chunk\n",
        "    chunk_overlap=100,        # Overlap to preserve context between chunks\n",
        "    separators=[\"\\n\\n\", \"\\n\", \".\", \" \"]  # Priority of text break points\n",
        ")\n",
        "\n",
        "# ✂️ Split the loaded and fixed documents into smaller chunks\n",
        "chunks = splitter.split_documents(docs)\n",
        "\n",
        "print(f\"✅ Successfully created {len(chunks)} chunks.\\n\")\n",
        "\n",
        "# 🧾 Optional: Preview a sample chunk\n",
        "sample = chunks[0]\n",
        "print(\"Sample Chunk Metadata:\", sample.metadata)\n",
        "print(\"Sample Chunk Content:\\n\", sample.page_content)"
      ],
      "metadata": {
        "colab": {
          "base_uri": "https://localhost:8080/"
        },
        "id": "fBXioYCVgFCO",
        "outputId": "1ded3cd3-07e3-4714-cb50-549b44a967eb"
      },
      "execution_count": 10,
      "outputs": [
        {
          "output_type": "stream",
          "name": "stdout",
          "text": [
            "✅ Successfully created 258 chunks.\n",
            "\n",
            "Sample Chunk Metadata: {'producer': 'Microsoft® Word لبرنامج Office 365', 'creator': 'Microsoft® Word لبرنامج Office 365', 'creationdate': '2019-10-27T13:59:27+02:00', 'author': 'Magda Abou El Safa', 'moddate': '2019-10-27T14:01:24+02:00', 'title': 'كلية الحاسبات والذكاء الاصطناعى FCaI-USC', 'source': '/content/اللائحة الداخلية لكلية الحاسبات والذكاء الاصطناعي أكتوبر 2019.pdf', 'total_pages': 74, 'page': 0, 'page_label': '1'}\n",
            "Sample Chunk Content:\n",
            " ﺍﻟﻼﺋﺤﺔ ﺍﻟﺪﺍﺧﻠﻴﺔ \n",
            "ﻟﻜﻠﻴﺔ ﺍﻟﺤﺎﺳﺒﺎﺕ ﻭﺍﻟﺬﻛﺎﺀ ﺍﻻﺻﻄﻨﺎﻋﻲ \n",
            "Faculty of Computers and \n",
            " Artificial Intelligence\n",
            "(ﺑﻨﻈﺎﻡ ﺍﻟﺴﺎﻋﺎﺕ ﺍﻟﻤﻌﺘﻤﺪﺓ \n",
            " \n",
            "ﺟﺎﻣﻌﺔ ﻣﺪﻳﻨﺔ ﺍﻟﺴﺎﺩﺍﺕ \n",
            " \n",
            "ﺃﻛﺘﻮﺑﺮ 2019\n"
          ]
        }
      ]
    },
    {
      "cell_type": "markdown",
      "source": [
        "### Initialize Multilingual Embedding Model\n",
        "\n",
        "Loading the `paraphrase-multilingual-MiniLM-L12-v2` sentence transformer model to generate embeddings for both Arabic and English text. Configured to run on GPU (`cuda`) with normalized embeddings for improved semantic similarity and retrieval performance."
      ],
      "metadata": {
        "id": "qqWpYmtT4-nD"
      }
    },
    {
      "cell_type": "code",
      "source": [
        "# Multilingual model (supports Arabic, English, etc.)\n",
        "model_name = \"sentence-transformers/paraphrase-multilingual-MiniLM-L12-v2\"\n",
        "\n",
        "# Configuration for GPU and embedding normalization\n",
        "model_kwargs = {'device': 'cuda'}  # Use 'cuda' for GPU; fallback to 'cpu' if no GPU available\n",
        "encode_kwargs = {'normalize_embeddings': True}  # Normalization improves semantic search accuracy\n",
        "\n",
        "# Initialize multilingual embedding model\n",
        "hf = HuggingFaceEmbeddings(\n",
        "    model_name=model_name,\n",
        "    model_kwargs=model_kwargs,\n",
        "    encode_kwargs=encode_kwargs\n",
        ")\n",
        "\n",
        "print(f\"Loaded multilingual embedding model: {model_name} (GPU enabled)\")\n"
      ],
      "metadata": {
        "colab": {
          "base_uri": "https://localhost:8080/"
        },
        "id": "ANp-KjQLkCiq",
        "outputId": "9e59ce71-aada-4cf9-ddfb-47fa2112bf03"
      },
      "execution_count": 11,
      "outputs": [
        {
          "output_type": "stream",
          "name": "stdout",
          "text": [
            "Loaded multilingual embedding model: sentence-transformers/paraphrase-multilingual-MiniLM-L12-v2 (GPU enabled)\n"
          ]
        }
      ]
    },
    {
      "cell_type": "markdown",
      "source": [
        "### Create and Persist Chroma Vector Store\n",
        "\n",
        "Building a local Chroma vector database from the document chunks using multilingual embeddings. The vector store is persisted to disk (`./chroma_fcai_regulations_db`) for future reuse—enabling efficient semantic search over the FCAI internal regulations without re-embedding. Total embedded chunks: `{len(chunks)}`."
      ],
      "metadata": {
        "id": "ujsB5fhw5EdV"
      }
    },
    {
      "cell_type": "code",
      "source": [
        "# Create a local Chroma vector store for the FCAI internal regulations document\n",
        "vectorstore = Chroma.from_documents(\n",
        "    documents=chunks,                               # The list of split document chunks\n",
        "    embedding=hf,                                   # HuggingFaceEmbeddings instance\n",
        "    persist_directory=\"./chroma_fcai_regulations_db\"  # Local storage directory\n",
        ")\n",
        "\n",
        "# Persist the embeddings to disk\n",
        "vectorstore.persist()\n",
        "\n",
        "print(\"Chroma vector store for FCAI internal regulations created and saved successfully!\")\n",
        "print(f\"Location: ./chroma_fcai_regulations_db\")\n",
        "print(f\"Total embedded chunks: {len(chunks)}\\n\")\n",
        "\n",
        "# To reload the vector store later (without re-embedding):\n",
        "# vectorstore = Chroma(\n",
        "#     persist_directory=\"./chroma_fcai_regulations_db\",\n",
        "#     embedding_function=hf\n",
        "# )\n",
        "\n",
        "# Optional: Display confirmation\n",
        "print(\"Vector store instance:\\n\", vectorstore)\n"
      ],
      "metadata": {
        "colab": {
          "base_uri": "https://localhost:8080/"
        },
        "id": "E4IP2U7FkKH8",
        "outputId": "e1726168-3441-47d7-a509-5b2c1c043376"
      },
      "execution_count": 13,
      "outputs": [
        {
          "output_type": "stream",
          "name": "stdout",
          "text": [
            "Chroma vector store for FCAI internal regulations created and saved successfully!\n",
            "Location: ./chroma_fcai_regulations_db\n",
            "Total embedded chunks: 258\n",
            "\n",
            "Vector store instance:\n",
            " <langchain_community.vectorstores.chroma.Chroma object at 0x788045315760>\n"
          ]
        }
      ]
    },
    {
      "cell_type": "markdown",
      "source": [],
      "metadata": {
        "id": "U93Sg6kE5Gda"
      }
    },
    {
      "cell_type": "markdown",
      "source": [
        "### Set Up Retrieval-Augmented Generation (RAG) Pipeline\n",
        "\n",
        "Configured a similarity-based retriever from the Chroma vector store (top 6 relevant chunks) and integrated it with the Gemini LLM via a `RetrievalQA` chain. The `\"stuff\"` chain type combines all retrieved context into a single prompt, and source documents are returned for transparency and verification."
      ],
      "metadata": {
        "id": "5XZ-YSoJ5LC6"
      }
    },
    {
      "cell_type": "code",
      "source": [
        "# Create retriever interface from your persisted Chroma vector store\n",
        "retriever = vectorstore.as_retriever(\n",
        "    search_type=\"similarity\",     # or \"mmr\" (diverse search)\n",
        "    search_kwargs={\"k\": 6}  # fetch_k is how many candidates to consider for mmr or similarity\n",
        ")\n",
        "\n",
        "# Create a RetrievalQA chain (LLM + Retriever)\n",
        "qa_chain = RetrievalQA.from_chain_type(\n",
        "    llm=google_llm,\n",
        "    retriever=retriever,\n",
        "    chain_type=\"stuff\",               # Simple concatenation of retrieved texts\n",
        "    return_source_documents=True      # Include retrieved chunks in results\n",
        ")"
      ],
      "metadata": {
        "id": "y65gGCbWl7BW"
      },
      "execution_count": 27,
      "outputs": []
    },
    {
      "cell_type": "code",
      "source": [
        "print(qa_chain.input_keys)"
      ],
      "metadata": {
        "colab": {
          "base_uri": "https://localhost:8080/"
        },
        "id": "NOj3uuW1xx_X",
        "outputId": "7515fed5-7938-4da2-bca9-0ccee3eddcce"
      },
      "execution_count": 26,
      "outputs": [
        {
          "output_type": "stream",
          "name": "stdout",
          "text": [
            "['query']\n"
          ]
        }
      ]
    },
    {
      "cell_type": "markdown",
      "source": [
        "### 🧪 Evaluate RAG Chatbot on FCAI Regulations\n",
        "\n",
        "Testing the Retrieval-Augmented Generation (RAG) system with a mix of Arabic and English questions about the Faculty of Computers and Artificial Intelligence (FCAI) internal regulations. The system retrieves relevant document chunks and generates answers using the Gemini LLM, while citing source pages for verification."
      ],
      "metadata": {
        "id": "oyhnlTmr5SoL"
      }
    },
    {
      "cell_type": "code",
      "source": [
        "# 🔍 Arabic RAG Chatbot Test – FCAI Internal Regulations\n",
        "\n",
        "questions = [\n",
        "    \"ما هي التخصصات الأربعة المتاحة في كلية الحاسبات والذكاء الاصطناعي وفقًا للائحة الداخلية؟\",\n",
        "    \"كم عدد الساعات المعتمدة الإجمالية المطلوبة للتخرج من برنامج بكالوريوس علوم الحاسب؟\",\n",
        "    \"ما هو الحد الأدنى للمعدل التراكمي (CGPA) المطلوب للبقاء في الكلية وفقًا للائحة؟\",\n",
        "    \"What is the percentage allocated for the final exam in a regular course according to the evaluation system?\",\n",
        "    \"What is the minimum cumulative GPA (CGPA) required to remain in the faculty according to the regulations?\"\n",
        "]\n",
        "\n",
        "print(\"\\n🧠 FCAI Internal Regulations RAG Evaluation\\n\")\n",
        "\n",
        "for i, q in enumerate(questions, 1):\n",
        "    print(f\"🔹 Q{i}: {q}\")\n",
        "    result = qa_chain.invoke({\"query\": q})\n",
        "    print(f\"🧩 الإجابة: {result['result']}\\n📚 المصادر:\")\n",
        "    for doc in result[\"source_documents\"]:\n",
        "        print(f\"  - {doc.metadata.get('source', 'Unknown')} | صفحة {doc.metadata.get('page', 'N/A')}\")\n",
        "    print(\"=\" * 80)\n",
        "    time.sleep(2)\n",
        "\n",
        "print(\"✅ Evaluation completed.\")"
      ],
      "metadata": {
        "colab": {
          "base_uri": "https://localhost:8080/"
        },
        "id": "1EdTvBkgnXgv",
        "outputId": "4f9b0360-dfdd-4ac9-b2f3-ed28f6a15cec"
      },
      "execution_count": 32,
      "outputs": [
        {
          "output_type": "stream",
          "name": "stdout",
          "text": [
            "\n",
            "🧠 FCAI Internal Regulations RAG Evaluation\n",
            "\n",
            "🔹 Q1: ما هي التخصصات الأربعة المتاحة في كلية الحاسبات والذكاء الاصطناعي وفقًا للائحة الداخلية؟\n",
            "🧩 الإجابة: وفقًا للائحة الداخلية، التخصصات الأربعة المتاحة في كلية الحاسبات والذكاء الاصطناعي هي:\n",
            "1.  علوم الحاسب\n",
            "2.  نظم المعلومات\n",
            "3.  الذكاء الاصطناعي\n",
            "4.  المعلوماتية الحيوية\n",
            "📚 المصادر:\n",
            "  - /content/اللائحة الداخلية لكلية الحاسبات والذكاء الاصطناعي أكتوبر 2019.pdf | صفحة 0\n",
            "  - /content/اللائحة الداخلية لكلية الحاسبات والذكاء الاصطناعي أكتوبر 2019.pdf | صفحة 0\n",
            "  - /content/اللائحة الداخلية لكلية الحاسبات والذكاء الاصطناعي أكتوبر 2019.pdf | صفحة 0\n",
            "  - /content/اللائحة الداخلية لكلية الحاسبات والذكاء الاصطناعي أكتوبر 2019.pdf | صفحة 0\n",
            "  - /content/اللائحة الداخلية لكلية الحاسبات والذكاء الاصطناعي أكتوبر 2019.pdf | صفحة 5\n",
            "  - /content/اللائحة الداخلية لكلية الحاسبات والذكاء الاصطناعي أكتوبر 2019.pdf | صفحة 5\n",
            "================================================================================\n",
            "🔹 Q2: كم عدد الساعات المعتمدة الإجمالية المطلوبة للتخرج من برنامج بكالوريوس علوم الحاسب؟\n",
            "🧩 الإجابة: للحصول على درجة البكالوريوس، يجب أن يجتاز الطالب 145 ساعة معتمدة على الأقل.\n",
            "📚 المصادر:\n",
            "  - /content/اللائحة الداخلية لكلية الحاسبات والذكاء الاصطناعي أكتوبر 2019.pdf | صفحة 13\n",
            "  - /content/اللائحة الداخلية لكلية الحاسبات والذكاء الاصطناعي أكتوبر 2019.pdf | صفحة 13\n",
            "  - /content/اللائحة الداخلية لكلية الحاسبات والذكاء الاصطناعي أكتوبر 2019.pdf | صفحة 13\n",
            "  - /content/اللائحة الداخلية لكلية الحاسبات والذكاء الاصطناعي أكتوبر 2019.pdf | صفحة 13\n",
            "  - /content/اللائحة الداخلية لكلية الحاسبات والذكاء الاصطناعي أكتوبر 2019.pdf | صفحة 67\n",
            "  - /content/اللائحة الداخلية لكلية الحاسبات والذكاء الاصطناعي أكتوبر 2019.pdf | صفحة 67\n",
            "================================================================================\n",
            "🔹 Q3: ما هو الحد الأدنى للمعدل التراكمي (CGPA) المطلوب للبقاء في الكلية وفقًا للائحة؟\n",
            "🧩 الإجابة: لا يحدد النص المقدم متطلبات المعدل التراكمي (CGPA) للسماح للطلاب بتحمل ساعات معتمدة إضافية في الحالات الاستثنائية، وهي:\n",
            "*   ألا يقل المعدل التراكمي عن 3.5 في غير حالات التخرج.\n",
            "*   أو ألا يقل عن 2.0 في حالات التخرج.\n",
            "\n",
            "لكن النص لا يذكر الحد الأدنى للمعدل التراكمي المطلوب للبقاء في الكلية بشكل عام.\n",
            "📚 المصادر:\n",
            "  - /content/اللائحة الداخلية لكلية الحاسبات والذكاء الاصطناعي أكتوبر 2019.pdf | صفحة 65\n",
            "  - /content/اللائحة الداخلية لكلية الحاسبات والذكاء الاصطناعي أكتوبر 2019.pdf | صفحة 65\n",
            "  - /content/اللائحة الداخلية لكلية الحاسبات والذكاء الاصطناعي أكتوبر 2019.pdf | صفحة 65\n",
            "  - /content/اللائحة الداخلية لكلية الحاسبات والذكاء الاصطناعي أكتوبر 2019.pdf | صفحة 6\n",
            "  - /content/اللائحة الداخلية لكلية الحاسبات والذكاء الاصطناعي أكتوبر 2019.pdf | صفحة 6\n",
            "  - /content/اللائحة الداخلية لكلية الحاسبات والذكاء الاصطناعي أكتوبر 2019.pdf | صفحة 6\n",
            "================================================================================\n",
            "🔹 Q4: What is the percentage allocated for the final exam in a regular course according to the evaluation system?\n",
            "🧩 الإجابة: According to the evaluation system, the percentage allocated for the final written exam at the end of the academic semester in a regular course is **50%**.\n",
            "📚 المصادر:\n",
            "  - /content/اللائحة الداخلية لكلية الحاسبات والذكاء الاصطناعي أكتوبر 2019.pdf | صفحة 10\n",
            "  - /content/اللائحة الداخلية لكلية الحاسبات والذكاء الاصطناعي أكتوبر 2019.pdf | صفحة 10\n",
            "  - /content/اللائحة الداخلية لكلية الحاسبات والذكاء الاصطناعي أكتوبر 2019.pdf | صفحة 10\n",
            "  - /content/اللائحة الداخلية لكلية الحاسبات والذكاء الاصطناعي أكتوبر 2019.pdf | صفحة 8\n",
            "  - /content/اللائحة الداخلية لكلية الحاسبات والذكاء الاصطناعي أكتوبر 2019.pdf | صفحة 8\n",
            "  - /content/اللائحة الداخلية لكلية الحاسبات والذكاء الاصطناعي أكتوبر 2019.pdf | صفحة 8\n",
            "================================================================================\n",
            "🔹 Q5: What is the minimum cumulative GPA (CGPA) required to remain in the faculty according to the regulations?\n",
            "🧩 الإجابة: I don't know the answer. The provided context specifies CGPA requirements for students to take more than the maximum allowed credit hours in exceptional cases (3.5 for non-graduation cases or 2.0 for graduation cases), but it does not state a minimum cumulative GPA required to remain in the faculty.\n",
            "📚 المصادر:\n",
            "  - /content/اللائحة الداخلية لكلية الحاسبات والذكاء الاصطناعي أكتوبر 2019.pdf | صفحة 65\n",
            "  - /content/اللائحة الداخلية لكلية الحاسبات والذكاء الاصطناعي أكتوبر 2019.pdf | صفحة 65\n",
            "  - /content/اللائحة الداخلية لكلية الحاسبات والذكاء الاصطناعي أكتوبر 2019.pdf | صفحة 65\n",
            "  - /content/اللائحة الداخلية لكلية الحاسبات والذكاء الاصطناعي أكتوبر 2019.pdf | صفحة 6\n",
            "  - /content/اللائحة الداخلية لكلية الحاسبات والذكاء الاصطناعي أكتوبر 2019.pdf | صفحة 6\n",
            "  - /content/اللائحة الداخلية لكلية الحاسبات والذكاء الاصطناعي أكتوبر 2019.pdf | صفحة 6\n",
            "================================================================================\n",
            "✅ Evaluation completed.\n"
          ]
        }
      ]
    }
  ]
}