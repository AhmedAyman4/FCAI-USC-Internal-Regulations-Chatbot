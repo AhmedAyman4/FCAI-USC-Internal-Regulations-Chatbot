{
  "nbformat": 4,
  "nbformat_minor": 0,
  "metadata": {
    "colab": {
      "provenance": []
    },
    "kernelspec": {
      "name": "python3",
      "display_name": "Python 3"
    },
    "language_info": {
      "name": "python"
    }
  },
  "cells": [
    {
      "cell_type": "markdown",
      "source": [
        "### Environment Setup and Dependencies\n",
        "\n",
        "Importing necessary libraries for document loading, text splitting, vector embeddings, retrieval-augmented generation (RAG), and conversational memory. Configuring the environment to suppress warnings and prepare for processing the PDF document with LangChain and Google Generative AI."
      ],
      "metadata": {
        "id": "CejUDbUlZK-6"
      }
    },
    {
      "cell_type": "code",
      "source": [
        "!pip install -U langchain-community langchain-google-genai pypdf langchain_huggingface chromadb arabic-reshaper python-bidi unstructured pdfminer.six Pillow pi_heif \"unstructured[pdf]\" sentence-transformers deep_translator"
      ],
      "metadata": {
        "collapsed": true,
        "id": "7j7oKMqOWEeZ"
      },
      "execution_count": null,
      "outputs": []
    },
    {
      "cell_type": "code",
      "execution_count": 2,
      "metadata": {
        "id": "cBCceoiOMTkz"
      },
      "outputs": [],
      "source": [
        "import os\n",
        "import time\n",
        "from langchain.document_loaders import PyPDFLoader\n",
        "from langchain_community.document_loaders import UnstructuredPDFLoader\n",
        "from langchain.text_splitter import RecursiveCharacterTextSplitter\n",
        "from pathlib import Path\n",
        "from langchain.chains import create_history_aware_retriever, create_retrieval_chain, RetrievalQA\n",
        "from langchain_core.prompts import ChatPromptTemplate, MessagesPlaceholder\n",
        "from langchain.prompts import ChatPromptTemplate\n",
        "from langchain_core.output_parsers import StrOutputParser\n",
        "from langchain_core.runnables import RunnablePassthrough\n",
        "from langchain_core.runnables.history import RunnableWithMessageHistory\n",
        "from langchain_core.chat_history import InMemoryChatMessageHistory\n",
        "from langchain.chains.combine_documents import create_stuff_documents_chain\n",
        "from langchain.memory import ConversationBufferMemory\n",
        "from langchain_google_genai import ChatGoogleGenerativeAI\n",
        "from google.colab import userdata\n",
        "from langchain_huggingface import HuggingFaceEmbeddings\n",
        "from langchain.vectorstores import Chroma, FAISS\n",
        "import arabic_reshaper\n",
        "from bidi.algorithm import get_display\n",
        "\n",
        "import warnings\n",
        "warnings.filterwarnings(\"ignore\")"
      ]
    },
    {
      "cell_type": "code",
      "source": [
        "import torch\n",
        "print(\"Using device:\", torch.device(\"cuda\" if torch.cuda.is_available() else \"cpu\"))"
      ],
      "metadata": {
        "colab": {
          "base_uri": "https://localhost:8080/"
        },
        "id": "pp2HFrxkjQt8",
        "outputId": "2e0ffe8c-5ca3-4ca8-ff0c-a0073279fec3"
      },
      "execution_count": 3,
      "outputs": [
        {
          "output_type": "stream",
          "name": "stdout",
          "text": [
            "Using device: cpu\n"
          ]
        }
      ]
    },
    {
      "cell_type": "markdown",
      "source": [
        "### Load PDF Document\n",
        "\n",
        "Loading the internal regulations document of the Faculty of Computers and Artificial Intelligence (October 2019) using PyPDFLoader."
      ],
      "metadata": {
        "id": "0jptV0EYYgsW"
      }
    },
    {
      "cell_type": "code",
      "source": [
        "import kagglehub\n",
        "\n",
        "# Download latest version\n",
        "path = kagglehub.dataset_download(\"ahmedayman7/fcai-usc-internal-regulations\")\n",
        "\n",
        "print(\"Path to dataset files:\", path)"
      ],
      "metadata": {
        "colab": {
          "base_uri": "https://localhost:8080/"
        },
        "id": "5pAshQukxSif",
        "outputId": "70a3e33c-c313-44f0-d9b2-0074812e1f6b"
      },
      "execution_count": 4,
      "outputs": [
        {
          "output_type": "stream",
          "name": "stdout",
          "text": [
            "Using Colab cache for faster access to the 'fcai-usc-internal-regulations' dataset.\n",
            "Path to dataset files: /kaggle/input/fcai-usc-internal-regulations\n"
          ]
        }
      ]
    },
    {
      "cell_type": "code",
      "source": [
        "pdf_path = \"/kaggle/input/fcai-usc-internal-regulations/2019.pdf\"\n",
        "\n",
        "loader = PyPDFLoader(pdf_path, mode=\"page\")\n",
        "docs = loader.load()\n",
        "\n",
        "# Each doc corresponds to a page\n",
        "print(len(docs), \"pages loaded\")"
      ],
      "metadata": {
        "id": "i1J95BKbX4WP",
        "colab": {
          "base_uri": "https://localhost:8080/"
        },
        "outputId": "008d70d5-f404-4ac8-af47-2a74d78d1db8"
      },
      "execution_count": 5,
      "outputs": [
        {
          "output_type": "stream",
          "name": "stdout",
          "text": [
            "74 pages loaded\n"
          ]
        }
      ]
    },
    {
      "cell_type": "markdown",
      "source": [
        "### Fix Arabic Text Rendering\n",
        "\n",
        "Reshaping and reordering Arabic text in each document page to ensure proper visual display (connected characters and right-to-left layout). The corrected text is saved back into the `Document` objects.  \n",
        "Then, previewing the first three pages to verify the fix."
      ],
      "metadata": {
        "id": "LvJqYJSofu3O"
      }
    },
    {
      "cell_type": "code",
      "source": [
        "# Fix Arabic text inside each Document object\n",
        "for i, doc in enumerate(docs):\n",
        "    # Extract raw text from the page\n",
        "    text = doc.page_content\n",
        "\n",
        "    # Reshape Arabic characters to connect properly\n",
        "    reshaped_text = arabic_reshaper.reshape(text)\n",
        "\n",
        "    # Correct the right-to-left display order\n",
        "    bidi_text = get_display(reshaped_text)\n",
        "\n",
        "    # Save the fixed Arabic text back into the Document\n",
        "    doc.page_content = bidi_text\n",
        "\n",
        "print(\"✅ Arabic text has been reshaped, reordered, and stored back into docs.\\n\")\n",
        "\n",
        "# Display the content of the first few pages (example: first 3)\n",
        "for i, page in enumerate(docs[:3]):\n",
        "    print(f\"--- Page {i + 1} ---\")\n",
        "    print(page.page_content)\n",
        "    print(\"\\n\" + \"=\" * 80 + \"\\n\")"
      ],
      "metadata": {
        "colab": {
          "base_uri": "https://localhost:8080/"
        },
        "id": "RVmfMqpJbrlm",
        "outputId": "d1e086da-4195-46ce-9e81-378a80646358"
      },
      "execution_count": 7,
      "outputs": [
        {
          "output_type": "stream",
          "name": "stdout",
          "text": [
            "✅ Arabic text has been reshaped, reordered, and stored back into docs.\n",
            "\n",
            "--- Page 1 ---\n",
            "ﺍﻟﻼﺋﺤﺔ ﺍﻟﺪﺍﺧﻠﻴﺔ \n",
            "ﻟﻜﻠﻴﺔ ﺍﻟﺤﺎﺳﺒﺎﺕ ﻭﺍﻟﺬﻛﺎﺀ ﺍﻻﺻﻄﻨﺎﻋﻲ \n",
            "Faculty of Computers and \n",
            " Artificial Intelligence\n",
            "(ﺑﻨﻈﺎﻡ ﺍﻟﺴﺎﻋﺎﺕ ﺍﻟﻤﻌﺘﻤﺪﺓ \n",
            " \n",
            "ﺟﺎﻣﻌﺔ ﻣﺪﻳﻨﺔ ﺍﻟﺴﺎﺩﺍﺕ \n",
            " \n",
            "ﺃﻛﺘﻮﺑﺮ 2019\n",
            "\n",
            "================================================================================\n",
            "\n",
            "--- Page 2 ---\n",
            "ﺟﺎﻣﻌﺔ ﻣﺪﻳﻨﺔ ﺍﻟﺴﺎﺩﺍﺕ \n",
            "ﻛﻠﻴﺔ ﺍﻟﺤﺎﺳﺒﺎﺕ ﻭﺍﻟﺬﻛﺎﺀ ﺍﻻﺻﻄﻨﺎﻋﻲ \n",
            "  \n",
            "Page 1 of 73        ﺍﻟﻼﺋﺤﺔ ﺍﻟﺪﺍﺧﻠﻴﺔ ﻟﻜﻠﻴﺔ ﺍﻟﺤﺎﺳﺒﺎﺕ ﻭﺍﻟﺬﻛﺎﺀ ﺍﻻﺻﻄﻨﺎﻋﻲ ﺑﻨﻈﺎﻡ ﺍﻟﺴﺎﻋﺎﺕ ﺍﻟﻤﻌﺘﻤﺪﺓ  2019          \n",
            "ﻗﺎﺋﻤﺔ ﺍﻟﻤﺤﺘﻮﻳﺎﺕ \n",
            "ﻣﺴﻠﺴﻞ  ﺍﻟﻤﻮﺿﻮﻉ  ﺭﻗﻢ ﺍﻟﺼﻔﺤﺔ  \n",
            "1  ﺗﻤﻬﻴﺪ 2 \n",
            "2  ﺭﺅﻳﺔ ﻭﺭﺳﺎﻟﺔ ﻭﺃﻫﺪﺍﻑ ﺍﻟﻜﻠﻴﺔ   3 \n",
            "3  ﻣﺎﺩﺓ1: ﻗﻮﺍﻋﺪ ﺍﻟﻘﺒﻮﻝ ﺑﺎﻟﻜﻠﻴﺔ 4 \n",
            "4  ﻣﺎﺩﺓ2: ﺃﻗﺴﺎﻡ ﺍﻟﻜﻠﻴﺔ ﻭﺍﻟﺪﺭﺟﺎﺕ ﺍﻟﻌﻠﻤﻴﺔ 4 \n",
            "5  ﻣﺎﺩﺓ3: ﻟﻐﺔ ﺍﻟﺘﺪﺭﻳﺲ 5 \n",
            "6  ﻣﺎﺩﺓ4: ﻧﻈﺎﻡ ﺍﻟﺴﺎﻋﺎﺗﺎﻟﻤﻌﺘﻤﺪﺓ 5 \n",
            "7  ﻣﺎﺩﺓ5: ﺍﻹﺭﺷﺎﺩ ﺍﻷﻛﺎﺩﻳﻤﻰ 6 \n",
            "8  ﻣﺎﺩﺓ6: ﺍﻟﺘﺴﺠﻴﻞ ﻭﺍﻟﺤﺬﻑ ﻭﺍﻹﺿﺎﻓﺔ 7 \n",
            "9  ﻣﺎﺩﺓ7: ﺍﻻﻧﺴﺤﺎﺏ ﻣﻦ ﺍﻟﻤﻘﺮﺭ 8 \n",
            "10  ﻣﺎﺩﺓ8 :ﻗﻮﺍﻋﺪﺍﻟﻤﻮﺍﻇﺒﺔ ﻭﺍﻟﻐﻴﺎﺏ 8 \n",
            "11  ﻣﺎﺩﺓ9: ﺍﻻﻧﺘﻘﺎﻝ ﺑﻴﻦ ﺍﻟﻤﺴﺘﻮﻳﺎﺕ 9 \n",
            "12  ﻣﺎﺩﺓ10: ﺍﻹﻧﻘﻄﺎﻉ ﻋﻦ ﺍﻟﺪﺭﺍﺳﺔ 9 \n",
            "13  ﻣﺎﺩﺓ11: ﺍﻟﻔﺼﻞ ﻣﻦ ﺍﻟﻜﻠﻴﺔ 9 \n",
            "14  ﻣﺎﺩﺓ12 :ﺍﻟﺘﺤﻮﻳﻞ ﻭﻧﻘﻞ ﺍﻟﻘﻴﺪ ﻣﻦ ﺍﻟﻜﻠﻴﺎﺕ ﺍﻷﺧﺮﻯ 10 \n",
            "15  ﻣﺎﺩﺓ13: ﻧﻈﺎﻡ ﺍﻹﻣﺘﺤﺎﻧﺎﺕ 10 \n",
            "16  ﻣﺎﺩﺓ14: ﻧﻈﺎﻡ ﺍﻟﺘﻘﻮﻳﻢ 11 \n",
            "17  ﻣﺎﺩﺓ15: ﺍﻟﺮﺳﻮﺏ ﻭﺍﻹﻋﺎﺩﺓ 12 \n",
            "18  ﻣﺎﺩﺓ16: ﻣﺘﻄﻠﺒﺎﺕ ﺍﻟﺤﺼﻮﻝ ﻋﻠﻰ ﺍﻟﺪﺭﺟﺔ 13 \n",
            "19  ﻣﺎﺩﺓ17: ﻣﺸﺮﻭﻉ ﺍﻟﺘﺨﺮﺝ 13 \n",
            "20  ﻣﺎﺩﺓ18: ﺍﻟﺘﺪﺭﻳﺐ ﺍﻟﻌﻤﻠﻲ ﻭﺍﻟﻤﻴﺪﺍﻧﻲ 14 \n",
            "21  ﻣﺎﺩﺓ19: ﻗﻮﺍﻋﺪﺍﻻﻧﺘﻈﺎﻡ ﻓﻲ ﺍﻟﺪﺭﺍﺳﺔ  14 \n",
            "22  ﻣﺎﺩﺓ20: ﺭﺳﻮﻡ ﺍﻟﺪﺭﺍﺳﺔ 14 \n",
            "23  ﻣﺎﺩﺓ21: ﻗﻮﺍﻋﺪ ﺍﻟﻨﻈﺎﻡ ﺍﻟﻜﻮﺩﯨﻠﻠﻤﻘﺮﺭﺍﺕ ﺍﻟﺪﺭﺍﺳﻴﺔ 15 \n",
            "24  ﻣﺎﺩﺓ22: ﻣﺠﻠﺲ ﺇﺩﺍﺭﺓ ﺍﻟﺒﺮﻧﺎﻣﺞ 15 \n",
            "25  ﻣﺎﺩﺓ23: ﺍﻹﺷﺮﺍﻑ ﺍﻟﻌﻠﻤﻲ ﻋﻠﻰ ﺗﺪﺭﻳﺲ ﺍﻟﻤﻘﺮﺭﺍﺕ 16 \n",
            "26  ﻣﺎﺩﺓ24: ﺑﻴﺎﻥ ﺍﻟﺪﺭﺟﺎﺕ 16 \n",
            "27  ﻣﺎﺩﺓ25: ﻧﻈﺎﻡ ﺍﻹﺳﺘﻤﺎﻉ 17 \n",
            "28  ﻣﺎﺩﺓ26 :ﺗﻄﺒﻴﻖ ﺍﻟﻼﺋﺤﺔ 17 \n",
            "29  ﻣﺎﺩﺓ27: ﺍﻹﻧﺬﺍﺭ ﺍﻷﻛﺎﺩﻳﻤﻲ 17 \n",
            "30  ﻣﺎﺩﺓ28: ﺍﻟﺘﻈﻠﻤﺎﺕ ﺍﻟﻄﻼﺑﻴﺔ 17 \n",
            "31  ﻣﺎﺩﺓ29: ﺍﻟﻠﻮﺍﺋﺢ ﻭﺍﻟﺘﻘﺎﻟﻴﺪ ﺍﻟﺠﺎﻣﻌﻴﺔ ﻭﻋﻘﻮﺑﺔ ﻣﺨﺎﻟﻔﺘﻬﺎ 17 \n",
            "32  ﻣﺎﺩﺓ30: ﺍﻟﻤﻘﺮﺭﺍﺕ ﺍﻻﺧﺘﻴﺎﺭﻳﺔ 18 \n",
            "33  ﻣﺎﺩﺓ31: ﻣﻘﺮﺭﺍﺕ ﺍﻟﻼﺋﺤﺔ ﺍﻟﺪﺭﺍﺳﻴﺔ 18 \n",
            "34  ﺍﻟﻤﺤﺘﻮﻱ ﺍﻟﻌﻠﻤﻲ ﻟﻤﺘﻄﻠﺒﺎﺕ ﺍﻟﺒﺮﺍﻣﺞ 30 \n",
            "35  ﻣﻠﺤﻘﺎﺕ 65\n",
            "\n",
            "================================================================================\n",
            "\n",
            "--- Page 3 ---\n",
            "ﺟﺎﻣﻌﺔ ﻣﺪﻳﻨﺔ ﺍﻟﺴﺎﺩﺍﺕ \n",
            "ﻛﻠﻴﺔ ﺍﻟﺤﺎﺳﺒﺎﺕ ﻭﺍﻟﺬﻛﺎﺀ ﺍﻻﺻﻄﻨﺎﻋﻲ \n",
            "  \n",
            "Page 2 of 73        ﺍﻟﻼﺋﺤﺔ ﺍﻟﺪﺍﺧﻠﻴﺔ ﻟﻜﻠﻴﺔ ﺍﻟﺤﺎﺳﺒﺎﺕ ﻭﺍﻟﺬﻛﺎﺀ ﺍﻻﺻﻄﻨﺎﻋﻲ ﺑﻨﻈﺎﻡ ﺍﻟﺴﺎﻋﺎﺕ ﺍﻟﻤﻌﺘﻤﺪﺓ  2019          \n",
            "ﺗﻤﻬﻴﺪ \n",
            "    ﺇﻥ ﺍﻟﺘﻌﻠﻴﻢ ﻟﻠﻤﺴﺘﻘﺒﻞ ﻫﻮ ﺍﻟﻐﺎﻳﺔ ﺍﻟﺘﻲ ﻳﺠﺐ ﺃﻥ ﻧﺴﻌﻰ ﺟﻤﻴﻌﺎ ﺇﻟﻴﻬﺎ، ﻭﺍﺿﻌﻴﻦ ﻧﺼﺐ ﺃﻋﻴﻨﻨﺎ  \n",
            "ﺗﻮﺟﻬﺎﺕ ﺍﻟﺪﻭﻟﺔ ﻟﻠﺘﺤﻮﻝ ﺇﻟﻰ ﺍﻟﺤﻜﻮﻣﺔ ﺍﻟﺮﻗﻤﻴﺔ، ﻭﻣﻴﻜﻨﺔ ﺧﺪﻣﺎﺗﻬﺎ ﻟﺘﻘﺪﻳﻢ ﺧﺪﻣﺎﺕ ﺫﻛﻴﺔ ﺗﻌﺘﻤﺪ ﻋﻠﻴﻬﺎ \n",
            "ﺍﻟﻤﺆﺳﺴﺎﺕ ﻭﺍﻟﺒﻨﻴﺔ ﺍﻟﺘﺤﺘﻴﺔ ﺍﻟﻤﺴﺘﻘﺒﻠﻴﺔ ﻟﻠﺪﻭﻟﺔ، ﻟﻠﺤﺪ ﻣﻦ ﺃﺳﺒﺎﺏ ﺍﻟﻔﻘﺮ ﻭﺍﻟﻜﻮﺍﺭﺙ ﻭﺍﻟﻤﺨﺎﻃﺮ ﺍﻟﺒﻴﺌﻴﺔ،  \n",
            "ﻭﺗﺤﻘﻴﻘﺎ ﻟﻤﺒﺪﺃ ﺗﻮﻓﻴﺮ ﺍﻟﻮﻗﺖ ﻭﺍﻟﺠﻬﺪ ﻭﻣﻜﺎﻓﺤﺔ ﺍﻟﻔﺴﺎﺩ، ﻭﻣﻮﺍﻛﺒﺔ ﺍﻟﺘﻄﻮﺭﺍﺕ ﺍﻟﻤﺘﺴﺎﺭﻋﺔ ﻓﻲ ﻋﺎﻟﻢ  \n",
            "ﺍﻟﺘﻜﻨﻮﻟﻮﺟﻴﺎ ﺍﻟﺮﻗﻤﻴﺔ؛ ﻟﺬﺍ ﻓﻘﺪ ﺟﺎﺀﺕ ﺍﺳﺘﺮﺍﺗﻴﺠﻴﺔ ﺍﻟﺘﻨﻤﻴﺔ ﺍﻟﻤﺴﺘﺪﺍﻣﺔ ﻣﺼﺮ 2030 ﻣﺆﻛﺪﺓ ﻋﻠﻰ ﻫﺬﺍ\n",
            "ﺍﻟﺠﺎﻧﺐ ﻓﻲ ﻛﻞ ﻣﺤﺎﻭﺭﻫﺎ.  \n",
            "   ﺇﻥ ﺍﻻﻫﺘﻤﺎﻡ ﺑﻌﻠﻮﻡ ﺍﻟﻤﺴﺘﻘﺒﻞ ﻭﺍﻟﻤﺒﺎﺩﺭﺓ ﻓﻲ ﺻﻴﺎﻏﺔ ﻣﺴﺘﻘﺒﻞ ﺍﻟﺘﻌﻠﻴﻢ  ﻭﺍﻟﺘﻌﻠﻢ ﺑﺎﺳﺘﺨﺪﺍﻡ ﺃﺳﺎﻟﻴﺐ \n",
            "ﺍﺑﺘﻜﺎﺭﻳﺔ ﻋﻦ ﻃﺮﻳﻖ ﺗﻮﻓﻴﺮ ﻓﺮﺹ ﺗﻌﻠﻴﻢ ﺭﻗﻤﻲ ﺫﻛﻲ ﺑﺠﻮﺩﺓ ﻋﺎﻟﻴﺔ ﺿﺮﻭﺭﺓ ﻣﻠﺤﺔ ﻓﻲ ﻋﺼﺮﻧﺎ ﺍﻟﺤﺪﻳﺚ، \n",
            "ﻭﺗﻘﻒ ﺍﻟﺠﺎﻣﻌﺎﺕ ﺍﻟﻤﺼﺮﻳﺔ ﻋﻼﻣﺔ ﻋﻠﻰ ﻫﺬﺍ ﺍﻟﻄﺮﻳﻖ ﺑﻤﺎ ﺗﻤﻠﻚ ﻣﻦ ﻃﺎﻗﺎﺕ ﺑﺸﺮﻳﺔ ﻭﺍﻣﻜﺎﻧﻴﺎﺕ ﻣﺎﺩﻳﺔ  \n",
            "ﻭﺭﺅﻯ ﻟﺘﻮﺟﻬﺎﺕ ﺍﻟﺤﻀﺎﺭﺍﺕ ﻭﺻﻨﺎﻋﺔ ﺍﻟﻤﺴﺘﻘﺒﻞ، ﻭﺟﺎﺀﺕ ﺗﻮﺟﻴﻬﺎﺕ ﻣﻌﺎﻟﻲ ﻭﺯﻳﺮ ﺍﻟﺘﻌﻠﻴﻢ ﺍﻟﻌﺎﻟﻲ  \n",
            "ﻟﻀﺮﻭﺭﺓ ﺇﻧﺸﺎﺀ ﻛﻠﻴﺎﺕ ﺍﻟﺤﺎﺳﺒﺎﺕ ﻭﺍﻟﺬﻛﺎﺀ ﺍﻻﺻﻄﻨﺎﻋﻲ ﺗﺤﻘﻴﻘﺎ ﻟﻬﺬﺍ ﺍﻟﻐﺮﺽ ﻭﻣﻮﺍﻛﺒﺔ ﻟﻮﻇﺎﺋﻒ  \n",
            "ﺍﻟﻤﺴﺘﻘﺒﻞ.   \n",
            "  ﻭﺍﻧﻄﻼﻗﺎ ﻣﻦ ﺗﻮﺟﻬﺎﺕ ﺍﻟﺪﻭﻟﺔ، ﻭﺭﺅﻳﺔ ﻭﺯﺍﺭﺓ ﺍﻟﺘﻌﻠﻴﻢ ﺍﻟﻌﺎﻟﻲ ﻭﺍﻟﺒﺤﺚ ﺍﻟﻌﻠﻤﻲ، ﻭﺗﺤﻘﻴﺎ ﻟﻐﺎﻳﺔ  \n",
            "ﻣﻦ ﻏﺎﻳﺎﺕ ﺍﻟﺠﺎﻣﻌﺔ (ﺟﺎﻣﻌﺔ ﻣﺪﻳﻨﺔ ﺍﻟﺴﺎﺩﺍﺕ ﺟﺎﻣﻌﺔ ﺭﻗﻤﻴﺔ) ﻓﻘﺪ ﺳﻌﺖ ﺍﻟﺠﺎﻣﻌﺔ ﺇﻟﻲ ﺇﻧﺸﺎﺀ ﻛﻠﻴﺔ  \n",
            "ﺍﻟﺤﺎﺳﺒﺎﺕ ﻭﺍﻟﺬﻛﺎﺀ ﺍﻻﺻﻄﻨﺎﻋﻲ ﻟﺘﺤﻘﻖ ﻣﻜﺎﻧﺔ ﺩﻭﻟﻴﺔ ﻣﺘﻤﻴﺰﺓ ﻓﻲ ﻣﺠﺎﻝ ﺍﻟﺤﻮﺳﺒﺔ ﻭﺍﻟﺬﻛﺎﺀ ﺍﻻﺻﻄﻨﺎﻋﻲ، \n",
            "ﺑﺪﺍﻳﺔ ﻣﻦ ﺗﻘﺪﻳﻢ ﺧﺪﻣﺎﺗﻬﺎ ﻟﻤﺠﺘﻤﻌﻬﺎ ﺍﻟﺼﻨﺎﻋﻲ ﻭﺍﻟﺰﺭﺍﻋﻲ ﺍﻟﺠﺪﻳﺪ،  ﺑﺒﻨﺎﺀ ﻗﺪﺭﺍﺕ ﺃﺟﻴﺎﻝ ﺟﺪﻳﺪﺓ ﺗﺘﻤﺘﻊ ﺑﻘﺪﺭ \n",
            "ﻭﺍﺳﻊ ﻣﻦ ﺍﻟﻤﻌﺮﻓﺔ ﺑﻤﺠﺎﻻﺕ ﺗﻜﻨﻮﻟﻮﺟﻴﺎ ﺍﻟﻤﻌﻠﻮﻣﺎﺕ ﻭﺍﻻﺗﺼﺎﻻﺕ ﻭﺍﻟﺬﻛﺎﺀ ﺍﻻﺻﻄﻨﺎﻉ ﻱ؛ ﻣﻮﺍﻛﺒﺔ  \n",
            "ﻟﻠﺘﻄﻮﺭﺍﺕ ﺍﻟﻌﻠﻤﻴﺔ ﺍﻟﻌﺎﻟﻤﻴﺔ ﻓﻲ ﻫﺬﺍ ﺍﻟﻤﺠﺎﻝ، ﺑﺎﺣﺜﺔ ﻋﻦ ﺃﻓﻜﺎﺭ ﻣﺴﺘﻘﺒﻠﻴﺔ ﺗﺘﻌﻠﻖ ﺑﺎﻟﻮﻇﺎﺋﻒ ﻭﺍﺣﺘﻴﺎﺟﺎﺕ  \n",
            "ﺳﻮﻕ ﺍﻟﻌﻤﻞ، ﻓﻲ ﻇﻞ ﺍﻧﺪﺛﺎﺭ ﺍﻟﻮﻇﺎﺋﻒ ﺍﻟﺘﻘﻠﻴﺪﻳﺔ ﺧﻼﻝ ﺍﻷﻋﻮﺍﻡ ﺍﻟﻤﻘﺒﻠﺔ.\n",
            "\n",
            "================================================================================\n",
            "\n"
          ]
        }
      ]
    },
    {
      "cell_type": "markdown",
      "source": [
        "### Initialize Google Generative AI (Gemini)\n",
        "\n",
        "Configuring the `gemini-2.5-flash` model via LangChain with zero temperature for deterministic responses, retry logic, and integration with the provided Google API key from Colab secrets."
      ],
      "metadata": {
        "id": "CyfcsJj9hbb1"
      }
    },
    {
      "cell_type": "code",
      "source": [
        "google_llm = ChatGoogleGenerativeAI(\n",
        "    model=\"gemini-2.5-flash\",\n",
        "    temperature=0.0,\n",
        "    max_tokens=None, # Max output tokens\n",
        "    timeout=None,\n",
        "    max_retries=2,\n",
        "    convert_system_message_to_human=True,\n",
        "    google_api_key=userdata.get('GOOGLE_API_KEY')\n",
        ")"
      ],
      "metadata": {
        "id": "4-XhCSGPfhrN"
      },
      "execution_count": 9,
      "outputs": []
    },
    {
      "cell_type": "markdown",
      "source": [
        "### Split Documents into Chunks\n",
        "\n",
        "Using `RecursiveCharacterTextSplitter` to break the cleaned Arabic documents into manageable chunks (2000 characters with 200-character overlap) while respecting natural text boundaries. This prepares the text for effective embedding and retrieval. A sample chunk is displayed for verification."
      ],
      "metadata": {
        "id": "4MtzEJrIhd7Z"
      }
    },
    {
      "cell_type": "code",
      "source": [
        "# ⚙️ Configure the text splitter for balanced chunking\n",
        "splitter = RecursiveCharacterTextSplitter(\n",
        "    chunk_size=3000,          # Maximum number of characters per chunk\n",
        "    chunk_overlap=1000,        # Overlap to preserve context between chunks\n",
        "    separators=[\"\\n\\n\", \"\\n\", \".\", \" \"]  # Priority of text break points\n",
        ")\n",
        "\n",
        "# ✂️ Split the loaded and fixed documents into smaller chunks\n",
        "chunks = splitter.split_documents(docs)\n",
        "\n",
        "print(f\"✅ Successfully created {len(chunks)} chunks.\\n\")\n",
        "\n",
        "# 🧾 Optional: Preview a sample chunk\n",
        "sample = chunks[0]\n",
        "print(\"Sample Chunk Metadata:\", sample.metadata)\n",
        "print(\"Sample Chunk Content:\\n\", sample.page_content)"
      ],
      "metadata": {
        "colab": {
          "base_uri": "https://localhost:8080/"
        },
        "id": "fBXioYCVgFCO",
        "outputId": "8b184fd9-4f89-4f0a-d695-47c486cc03ad"
      },
      "execution_count": 11,
      "outputs": [
        {
          "output_type": "stream",
          "name": "stdout",
          "text": [
            "✅ Successfully created 81 chunks.\n",
            "\n",
            "Sample Chunk Metadata: {'producer': 'Microsoft® Word لبرنامج Office 365', 'creator': 'Microsoft® Word لبرنامج Office 365', 'creationdate': '2019-10-27T13:59:27+02:00', 'author': 'Magda Abou El Safa', 'moddate': '2019-10-27T14:01:24+02:00', 'title': 'كلية الحاسبات والذكاء الاصطناعى FCaI-USC', 'source': '/kaggle/input/fcai-usc-internal-regulations/2019.pdf', 'total_pages': 74, 'page': 0, 'page_label': '1'}\n",
            "Sample Chunk Content:\n",
            " ﺍﻟﻼﺋﺤﺔ ﺍﻟﺪﺍﺧﻠﻴﺔ \n",
            "ﻟﻜﻠﻴﺔ ﺍﻟﺤﺎﺳﺒﺎﺕ ﻭﺍﻟﺬﻛﺎﺀ ﺍﻻﺻﻄﻨﺎﻋﻲ \n",
            "Faculty of Computers and \n",
            " Artificial Intelligence\n",
            "(ﺑﻨﻈﺎﻡ ﺍﻟﺴﺎﻋﺎﺕ ﺍﻟﻤﻌﺘﻤﺪﺓ \n",
            " \n",
            "ﺟﺎﻣﻌﺔ ﻣﺪﻳﻨﺔ ﺍﻟﺴﺎﺩﺍﺕ \n",
            " \n",
            "ﺃﻛﺘﻮﺑﺮ 2019\n"
          ]
        }
      ]
    },
    {
      "cell_type": "markdown",
      "source": [
        "### 🌍 Bilingual Document Augmentation\n",
        "\n",
        "Enhancing each document chunk by appending an English translation (using Google Translate) to the original Arabic text. This creates bilingual context for the LLM, improving cross-lingual retrieval and enabling more robust answers to questions in either language."
      ],
      "metadata": {
        "id": "DCxwLDIzSvfl"
      }
    },
    {
      "cell_type": "code",
      "source": [
        "from deep_translator import GoogleTranslator\n",
        "\n",
        "for doc in chunks:\n",
        "    english = GoogleTranslator(source='auto', target='en').translate(doc.page_content)\n",
        "    doc.page_content += \"\\n\\n\" + english"
      ],
      "metadata": {
        "id": "ZuGhTGydLO1d"
      },
      "execution_count": 12,
      "outputs": []
    },
    {
      "cell_type": "markdown",
      "source": [
        "### Initialize Multilingual Embedding Model (E5 Base)\n",
        "\n",
        "Switching to the `intfloat/multilingual-e5-base` embedding model—a high-performing multilingual encoder that supports Arabic, English, and many other languages. Configured to run on GPU (`cuda`) with normalized embeddings to enhance retrieval quality in semantic search over the FCAI regulations document."
      ],
      "metadata": {
        "id": "qqWpYmtT4-nD"
      }
    },
    {
      "cell_type": "code",
      "source": [
        "# Multilingual model (supports Arabic, English, etc.)\n",
        "model_name = \"intfloat/multilingual-e5-base\"\n",
        "\n",
        "# Configuration for GPU and embedding normalization\n",
        "model_kwargs = {'device': 'cpu'}  # Use 'cuda' for GPU; fallback to 'cpu' if no GPU available\n",
        "encode_kwargs = {'normalize_embeddings': True}  # Normalization improves semantic search accuracy\n",
        "\n",
        "# Initialize multilingual embedding model\n",
        "hf = HuggingFaceEmbeddings(\n",
        "    model_name=model_name,\n",
        "    model_kwargs=model_kwargs,\n",
        "    encode_kwargs=encode_kwargs\n",
        ")\n",
        "\n",
        "print(f\"Loaded multilingual embedding model: {model_name} (GPU enabled)\")\n"
      ],
      "metadata": {
        "colab": {
          "base_uri": "https://localhost:8080/"
        },
        "id": "ANp-KjQLkCiq",
        "outputId": "bac103fe-cec6-4149-8442-beb1d3bb6515"
      },
      "execution_count": 13,
      "outputs": [
        {
          "output_type": "stream",
          "name": "stdout",
          "text": [
            "Loaded multilingual embedding model: intfloat/multilingual-e5-base (GPU enabled)\n"
          ]
        }
      ]
    },
    {
      "cell_type": "markdown",
      "source": [
        "### Create and Persist Chroma Vector Store\n",
        "\n",
        "Building a local Chroma vector database from the document chunks using multilingual embeddings. The vector store is persisted to disk (`./chroma_fcai_regulations_db`) for future reuse—enabling efficient semantic search over the FCAI internal regulations without re-embedding. Total embedded chunks: `{len(chunks)}`."
      ],
      "metadata": {
        "id": "ujsB5fhw5EdV"
      }
    },
    {
      "cell_type": "code",
      "source": [
        "# Create a local Chroma vector store for the FCAI internal regulations document\n",
        "vectorstore = Chroma.from_documents(\n",
        "    documents=chunks,                               # The list of split document chunks\n",
        "    embedding=hf,                                   # HuggingFaceEmbeddings instance\n",
        "    persist_directory=\"./chroma_fcai_regulations_db\"  # Local storage directory\n",
        ")\n",
        "\n",
        "# Persist the embeddings to disk\n",
        "vectorstore.persist()\n",
        "\n",
        "print(\"Chroma vector store for FCAI internal regulations created and saved successfully!\")\n",
        "print(f\"Location: ./chroma_fcai_regulations_db\")\n",
        "print(f\"Total embedded chunks: {len(chunks)}\\n\")\n",
        "\n",
        "# To reload the vector store later (without re-embedding):\n",
        "# vectorstore = Chroma(\n",
        "#     persist_directory=\"./chroma_fcai_regulations_db\",\n",
        "#     embedding_function=hf\n",
        "# )\n",
        "\n",
        "# Optional: Display confirmation\n",
        "print(\"Vector store instance:\\n\", vectorstore)\n"
      ],
      "metadata": {
        "id": "E4IP2U7FkKH8",
        "colab": {
          "base_uri": "https://localhost:8080/"
        },
        "outputId": "667464ed-6b94-4f8a-f89a-6521e62f9a2d"
      },
      "execution_count": 14,
      "outputs": [
        {
          "output_type": "stream",
          "name": "stdout",
          "text": [
            "Chroma vector store for FCAI internal regulations created and saved successfully!\n",
            "Location: ./chroma_fcai_regulations_db\n",
            "Total embedded chunks: 81\n",
            "\n",
            "Vector store instance:\n",
            " <langchain_community.vectorstores.chroma.Chroma object at 0x7c7d5dd853d0>\n"
          ]
        }
      ]
    },
    {
      "cell_type": "markdown",
      "source": [
        "### Custom Multilingual Prompt Template for RAG\n",
        "\n",
        "Defined a bilingual (Arabic/English) prompt template that instructs the LLM to act as a knowledgeable assistant on the FCAI internal regulations. The prompt emphasizes context-based reasoning, inference with transparency, language consistency, and professional tone—ensuring accurate, detailed, and well-grounded responses in both Arabic and English."
      ],
      "metadata": {
        "id": "3Nr4FzdBSmjY"
      }
    },
    {
      "cell_type": "code",
      "source": [
        "prompt_template = \"\"\"\n",
        "أنت مساعد ذكي ومتعمق في التحليل، متخصص في الإجابة على الأسئلة المتعلقة باللائحة الداخلية لكلية الحاسبات والذكاء الاصطناعي.\n",
        "\n",
        "You are an intelligent and thoughtful assistant specialized in answering questions about the Faculty of Computer and Artificial Intelligence Internal Regulations.\n",
        "\n",
        "**Instructions:**\n",
        "1. Analyze the provided context carefully and extract key information.\n",
        "2. If the answer is not stated explicitly, infer it logically **based on the meaning and structure** of the context.\n",
        "3. Combine information from multiple parts of the context when necessary to form a coherent, detailed answer.\n",
        "4. Use reasoning and general understanding of academic or regulatory structures to fill in small gaps **only when it makes sense**.\n",
        "5. Always clarify if a part of your answer is inferred or partially uncertain (for example: \"يبدو من السياق أن ...\" / \"It can be inferred that ...\").\n",
        "6. Be slightly verbose — provide clear explanations or examples when helpful.\n",
        "7. Maintain a professional and informative tone.\n",
        "8. Answer in the same language as the question (Arabic or English).\n",
        "9. Avoid adding any external information unrelated to the provided context.\n",
        "\n",
        "**Context from Regulations:**\n",
        "{context}\n",
        "\n",
        "**Question:** {question}\n",
        "\n",
        "**Answer (reasoned and detailed):**\n",
        "\"\"\"\n",
        "prompt = ChatPromptTemplate.from_template(prompt_template)"
      ],
      "metadata": {
        "id": "Xjg1fOLERBbo"
      },
      "execution_count": 15,
      "outputs": []
    },
    {
      "cell_type": "markdown",
      "source": [
        "### Set Up Retrieval-Augmented Generation (RAG) Pipeline\n",
        "\n",
        "Configured a similarity-based retriever from the Chroma vector store (top 6 relevant chunks) and integrated it with the Gemini LLM via a `RetrievalQA` chain. The `\"stuff\"` chain type combines all retrieved context into a single prompt, and source documents are returned for transparency and verification."
      ],
      "metadata": {
        "id": "5XZ-YSoJ5LC6"
      }
    },
    {
      "cell_type": "code",
      "source": [
        "# Create retriever interface from your persisted Chroma vector store\n",
        "\n",
        "\n",
        "# retriever = vectorstore.as_retriever(\n",
        "#     search_type=\"similarity\",     # or \"mmr\" (diverse search)\n",
        "#     search_kwargs={\"k\": 6}  # fetch_k is how many candidates to consider for mmr or similarity\n",
        "# )\n",
        "\n",
        "retriever = vectorstore.as_retriever(\n",
        "    search_type=\"mmr\",\n",
        "    search_kwargs={\n",
        "        \"k\": 8,  # Reduced from 10 for more focused context\n",
        "        \"fetch_k\": 25,  # Increased for better initial candidates\n",
        "        \"lambda_mult\": 0.7  # Higher diversity\n",
        "    }\n",
        ")\n",
        "\n",
        "\n",
        "# Create a RetrievalQA chain (LLM + Retriever)\n",
        "qa_chain = RetrievalQA.from_chain_type(\n",
        "    llm=google_llm,\n",
        "    retriever=retriever,\n",
        "    chain_type_kwargs={\"prompt\": prompt},\n",
        "    chain_type=\"stuff\",               # Concatenate all chunks into one prompt\n",
        "    return_source_documents=True      # Include retrieved chunks in results\n",
        ")"
      ],
      "metadata": {
        "id": "y65gGCbWl7BW"
      },
      "execution_count": 16,
      "outputs": []
    },
    {
      "cell_type": "code",
      "source": [
        "print(qa_chain.input_keys)"
      ],
      "metadata": {
        "id": "NOj3uuW1xx_X",
        "colab": {
          "base_uri": "https://localhost:8080/"
        },
        "outputId": "520c4a3f-0037-4a09-ce08-14b179365a51"
      },
      "execution_count": 17,
      "outputs": [
        {
          "output_type": "stream",
          "name": "stdout",
          "text": [
            "['query']\n"
          ]
        }
      ]
    },
    {
      "cell_type": "markdown",
      "source": [
        "### 🧪 Evaluate RAG Chatbot on FCAI Regulations\n",
        "\n",
        "Testing the Retrieval-Augmented Generation (RAG) system with a mix of Arabic and English questions about the Faculty of Computers and Artificial Intelligence (FCAI) internal regulations. The system retrieves relevant document chunks and generates answers using the Gemini LLM, while citing source pages for verification."
      ],
      "metadata": {
        "id": "oyhnlTmr5SoL"
      }
    },
    {
      "cell_type": "code",
      "source": [
        "# 🔍 Arabic RAG Chatbot Test – FCAI Internal Regulations\n",
        "\n",
        "questions = [\n",
        "    \"ما هي التخصصات الأربعة المتاحة في كلية الحاسبات والذكاء الاصطناعي وفقًا للائحة الداخلية؟\",\n",
        "    \"what are the faculty departments ?\",\n",
        "    \"كم عدد الساعات المعتمدة الإجمالية المطلوبة للتخرج من برنامج بكالوريوس علوم الحاسب؟\",\n",
        "    \"ما هو الحد الأدنى للمعدل التراكمي (CGPA) المطلوب للبقاء في الكلية وفقًا للائحة؟\",\n",
        "    \"What is the percentage allocated for the final exam in a regular course according to the evaluation system?\",\n",
        "    \"What is the minimum cumulative GPA (CGPA) required to remain in the faculty according to the regulations?\",\n",
        "    \"عاوز اسجل ماده software engineering 2 اي المطلوب عشان اخدها او اي المواد الل المفروض اخدها قبلها في قسم نظم المعلومات\"\n",
        "]\n",
        "\n",
        "print(\"\\n🧠 FCAI Internal Regulations RAG Evaluation\\n\")\n",
        "\n",
        "for i, q in enumerate(questions, 1):\n",
        "    print(f\"🔹 Q{i}: {q}\")\n",
        "    result = qa_chain.invoke({\"query\": q})\n",
        "    print(f\"🧩 الإجابة: {result['result']}\\n📚 المصادر:\")\n",
        "    for doc in result[\"source_documents\"]:\n",
        "        print(f\"  - {doc.metadata.get('source', 'Unknown')} | صفحة {doc.metadata.get('page', 'N/A')}\")\n",
        "    print(\"=\" * 80)\n",
        "    time.sleep(2)\n",
        "\n",
        "print(\"✅ Evaluation completed.\")"
      ],
      "metadata": {
        "id": "1EdTvBkgnXgv",
        "colab": {
          "base_uri": "https://localhost:8080/"
        },
        "outputId": "033dad47-286e-4bdb-ca24-ba1503244b17"
      },
      "execution_count": 18,
      "outputs": [
        {
          "output_type": "stream",
          "name": "stdout",
          "text": [
            "\n",
            "🧠 FCAI Internal Regulations RAG Evaluation\n",
            "\n",
            "🔹 Q1: ما هي التخصصات الأربعة المتاحة في كلية الحاسبات والذكاء الاصطناعي وفقًا للائحة الداخلية؟\n",
            "🧩 الإجابة: وفقًا للائحة الداخلية لكلية الحاسبات والذكاء الاصطناعي، تمنح جامعة مدينة السادات درجة البكالوريوس في الحاسبات والذكاء الاصطناعي في أربعة تخصصات رئيسية. هذه التخصصات هي:\n",
            "\n",
            "1.  **علوم الحاسب (Computer Science):** يُقدم هذا التخصص ضمن البرامج الأساسية للكلية.\n",
            "2.  **نظم المعلومات (Information Systems):** يُقدم هذا التخصص أيضًا ضمن البرامج الأساسية للكلية.\n",
            "3.  **الذكاء الاصطناعي (Artificial Intelligence):** يُقدم هذا التخصص ضمن البرامج الجديدة بمصروفات.\n",
            "4.  **المعلوماتية الحيوية (Bioinformatics):** يُقدم هذا التخصص ضمن البرامج الجديدة بمصروفات.\n",
            "\n",
            "وقد ورد ذلك صراحة في المادة المتعلقة بمنح درجة البكالوريوس، حيث تذكر اللائحة أن الجامعة تمنح درجة البكالوريوس في الحاسبات والذكاء الاصطناعي \"تخصص علوم الحاساب، نظم المعلومات، الذكاء الاصطناعي، والمعلوماتية الحيوية من خلال البرامج التالية\".\n",
            "📚 المصادر:\n",
            "  - /kaggle/input/fcai-usc-internal-regulations/2019.pdf | صفحة 0\n",
            "  - /kaggle/input/fcai-usc-internal-regulations/2019.pdf | صفحة 0\n",
            "  - /kaggle/input/fcai-usc-internal-regulations/2019.pdf | صفحة 16\n",
            "  - /kaggle/input/fcai-usc-internal-regulations/2019.pdf | صفحة 3\n",
            "  - /kaggle/input/fcai-usc-internal-regulations/2019.pdf | صفحة 5\n",
            "  - /kaggle/input/fcai-usc-internal-regulations/2019.pdf | صفحة 2\n",
            "  - /kaggle/input/fcai-usc-internal-regulations/2019.pdf | صفحة 7\n",
            "  - /kaggle/input/fcai-usc-internal-regulations/2019.pdf | صفحة 29\n",
            "================================================================================\n",
            "🔹 Q2: what are the faculty departments ?\n",
            "🧩 الإجابة: بناءً على السياق المقدم، لا تذكر اللائحة الداخلية لكلية الحاسبات والذكاء الاصطناعي أسماء الأقسام صراحةً. ومع ذلك، يمكن الاستدلال على المجالات الأكاديمية الرئيسية التي تغطيها الكلية، والتي عادةً ما تُنظم في أقسام، من خلال اسم الكلية ورموز المقررات الدراسية المذكورة.\n",
            "\n",
            "**الاستدلال من اسم الكلية:**\n",
            "اسم الكلية هو \"كلية الحاسبات والذكاء الاصطناعي\" (Faculty of Computers and Artificial Intelligence). هذا يشير بوضوح إلى مجالين رئيسيين هما:\n",
            "1.  **الحاسبات (Computers):** وهو مجال واسع يشمل عادةً تخصصات مثل علوم الحاسب ونظم المعلومات.\n",
            "2.  **الذكاء الاصطناعي (Artificial Intelligence):** وهو تخصص مذكور بشكل مباشر في اسم الكلية.\n",
            "\n",
            "**الاستدلال من رموز المقررات الدراسية:**\n",
            "تستخدم اللائحة رموزًا مختلفة للمقررات، والتي غالبًا ما تشير إلى الأقسام أو التخصصات الأكاديمية التي تنتمي إليها هذه المقررات. هذه الرموز تشمل:\n",
            "*   **CS (Computer Science):** مثل \"برمجة حاسبات\" (Computer Programming) و\"هياكل بيانات\" (Data Structure).\n",
            "*   **IS (Information Systems):** مثل \"مقدمة نظم معلومات\" (Introduction to IS) و\"تحليل وتصميم نظم\" (Systems Analysis & Design).\n",
            "*   **AI (Artificial Intelligence):** مثل \"الذكاء الاصطناعي\" (Artificial Intelligence) و\"المنطق الضبابي والأنظمة الذكية\" (Fuzzy Logic and Intelligent Systems).\n",
            "*   **BI (Bioinformatics):** مثل \"المعلوماتية الحيوية\" (Bioinformatics) و\"الفيزياء الحيوية\" (Biophysics).\n",
            "*   **MA (Mathematics) و ST (Statistics):** وهي مقررات أساسية داعمة لمختلف التخصصات.\n",
            "\n",
            "**الخلاصة (استنتاج):**\n",
            "على الرغم من أن اللائحة لا تحدد الأقسام بشكل مباشر، إلا أنه يمكن الاستنتاج المنطقي، بناءً على اسم الكلية وتصنيف المقررات الدراسية، أن الكلية تضم أقسامًا أو تخصصات رئيسية في المجالات التالية:\n",
            "\n",
            "1.  **قسم/تخصص علوم الحاسب (Computer Science).**\n",
            "2.  **قسم/تخصص نظم المعلومات (Information Systems).**\n",
            "3.  **قسم/تخصص الذكاء الاصطناعي (Artificial Intelligence).**\n",
            "4.  **قسم/تخصص المعلوماتية الحيوية (Bioinformatics).**\n",
            "\n",
            "هذه التخصصات تمثل المجالات الأساسية التي تقدمها الكلية، مع الأخذ في الاعتبار أن \"الحاسبات\" في اسم الكلية قد يكون مظلة لتخصصي علوم الحاسب ونظم المعلومات، بالإضافة إلى المعلوماتية الحيوية التي تعتمد بشكل كبير على الحوسبة.\n",
            "📚 المصادر:\n",
            "  - /kaggle/input/fcai-usc-internal-regulations/2019.pdf | صفحة 0\n",
            "  - /kaggle/input/fcai-usc-internal-regulations/2019.pdf | صفحة 25\n",
            "  - /kaggle/input/fcai-usc-internal-regulations/2019.pdf | صفحة 29\n",
            "  - /kaggle/input/fcai-usc-internal-regulations/2019.pdf | صفحة 35\n",
            "  - /kaggle/input/fcai-usc-internal-regulations/2019.pdf | صفحة 27\n",
            "  - /kaggle/input/fcai-usc-internal-regulations/2019.pdf | صفحة 21\n",
            "  - /kaggle/input/fcai-usc-internal-regulations/2019.pdf | صفحة 20\n",
            "  - /kaggle/input/fcai-usc-internal-regulations/2019.pdf | صفحة 23\n",
            "================================================================================\n",
            "🔹 Q3: كم عدد الساعات المعتمدة الإجمالية المطلوبة للتخرج من برنامج بكالوريوس علوم الحاسب؟\n",
            "🧩 الإجابة: للحصول على درجة البكالوريوس من كلية الحاسبات والذكاء الاصطناعي، بما في ذلك برنامج علوم الحاسب، يجب على الطالب اجتياز ما لا يقل عن 145 ساعة معتمدة.\n",
            "\n",
            "يتم تفصيل هذه الساعات المعتمدة على النحو التالي، كما هو مذكور في المادة 16 من اللائحة الداخلية (صفحة 13) وفي الإرشادات العامة (صفحة 65):\n",
            "\n",
            "1.  **المتطلبات العامة:** 12 ساعة معتمدة، مقسمة إلى:\n",
            "    *   6 ساعات معتمدة إجبارية.\n",
            "    *   6 ساعات معتمدة اختيارية.\n",
            "    *   (يُضاف إليها مقرر حقوق الإنسان كمتطلب جامعة ولا يُحسب ضمن إجمالي ساعات التخرج المطلوبة، كما هو مذكور في صفحة 65).\n",
            "\n",
            "2.  **متطلبات الكلية:** 72 ساعة معتمدة، مقسمة إلى:\n",
            "    *   66 ساعة معتمدة إجبارية.\n",
            "    *   6 ساعات معتمدة اختيارية.\n",
            "\n",
            "3.  **متطلبات الأقسام العلمية (التخصص):** 57 ساعة معتمدة، مقسمة إلى:\n",
            "    *   42 ساعة معتمدة إجبارية (متضمنة مشروع التخرج الذي يُحسب بـ 6 ساعات معتمدة، كما هو مذكور في المادة 17 بصفحة 13 وفي متطلبات القسم العلمي بصفحة 22).\n",
            "    *   15 ساعة معتمدة اختيارية.\n",
            "\n",
            "4.  **التدريب العملي والميداني:** 4 ساعات معتمدة (كما هو مذكور في المادة 16 بصفحة 13 والمادة 18 بصفحة 14).\n",
            "\n",
            "بجمع هذه المتطلبات، يكون الإجمالي: 12 (متطلبات عامة) + 72 (متطلبات الكلية) + 57 (متطلبات التخصص) + 4 (التدريب العملي والميداني) = 145 ساعة معتمدة.\n",
            "\n",
            "بالإضافة إلى ذلك، يجب أن يكون المعدل التراكمي للطالب لا يقل عن 2.00 (مقبول) للتخرج.\n",
            "📚 المصادر:\n",
            "  - /kaggle/input/fcai-usc-internal-regulations/2019.pdf | صفحة 13\n",
            "  - /kaggle/input/fcai-usc-internal-regulations/2019.pdf | صفحة 65\n",
            "  - /kaggle/input/fcai-usc-internal-regulations/2019.pdf | صفحة 13\n",
            "  - /kaggle/input/fcai-usc-internal-regulations/2019.pdf | صفحة 7\n",
            "  - /kaggle/input/fcai-usc-internal-regulations/2019.pdf | صفحة 66\n",
            "  - /kaggle/input/fcai-usc-internal-regulations/2019.pdf | صفحة 22\n",
            "  - /kaggle/input/fcai-usc-internal-regulations/2019.pdf | صفحة 14\n",
            "  - /kaggle/input/fcai-usc-internal-regulations/2019.pdf | صفحة 6\n",
            "================================================================================\n",
            "🔹 Q4: ما هو الحد الأدنى للمعدل التراكمي (CGPA) المطلوب للبقاء في الكلية وفقًا للائحة؟\n",
            "🧩 الإجابة: وفقًا للائحة الداخلية لكلية الحاسبات والذكاء الاصطناعي، الحد الأدنى للمعدل التراكمي (CGPA) المطلوب للبقاء في الكلية هو **2.00**.\n",
            "\n",
            "توضح المادة 11 \"الفصل من الكلية\" أن:\n",
            "*   إذا انخفض المعدل التراكمي للطالب إلى أقل من 2.00 في أي فصل دراسي (باستثناء المستوى الأول)، يتم توجيه إنذار أكاديمي له.\n",
            "*   يتطلب هذا الإنذار من الطالب رفع معدله التراكمي إلى 2.00 على الأقل.\n",
            "*   يمكن فصل الطالب المنذر أكاديميًا من الدراسة في البرنامج إذا تكرر انخفاض معدله التراكمي عن 2.00 في أربعة فصول دراسية رئيسية متتالية (باستثناء أول فصلين دراسيين).\n",
            "\n",
            "كما تشير اللائحة في المادة 6 \"التسجيل والحذف والإضافة\" إلى أن الطلاب \"المراقبين علميًا\" (المتعثرين دراسيًا) هم الحاصلون على متوسط نقاط تراكمية (CGPA) أقل من 2.00 في بداية الفصل الدراسي.\n",
            "\n",
            "بالإضافة إلى ذلك، تنص المادة 16 \"متطلبات الحصول على الدرجة\" على أن الحصول على درجة البكالوريوس يتطلب اجتياز 145 ساعة معتمدة على الأقل \"وبمعدل تراكمي لا يقل عن 2.00 (مقبول)\".\n",
            "\n",
            "بناءً على هذه المواد، يتضح أن المعدل التراكمي 2.00 هو الحد الأدنى للحفاظ على الوضع الأكاديمي الجيد وتجنب الإنذارات الأكاديمية التي قد تؤدي إلى الفصل من الكلية.\n",
            "📚 المصادر:\n",
            "  - /kaggle/input/fcai-usc-internal-regulations/2019.pdf | صفحة 7\n",
            "  - /kaggle/input/fcai-usc-internal-regulations/2019.pdf | صفحة 7\n",
            "  - /kaggle/input/fcai-usc-internal-regulations/2019.pdf | صفحة 7\n",
            "  - /kaggle/input/fcai-usc-internal-regulations/2019.pdf | صفحة 12\n",
            "  - /kaggle/input/fcai-usc-internal-regulations/2019.pdf | صفحة 6\n",
            "  - /kaggle/input/fcai-usc-internal-regulations/2019.pdf | صفحة 9\n",
            "  - /kaggle/input/fcai-usc-internal-regulations/2019.pdf | صفحة 15\n",
            "  - /kaggle/input/fcai-usc-internal-regulations/2019.pdf | صفحة 13\n",
            "================================================================================\n",
            "🔹 Q5: What is the percentage allocated for the final exam in a regular course according to the evaluation system?\n",
            "🧩 الإجابة: وفقًا للائحة الداخلية لكلية الحاسبات والذكاء الاصطناعي، المادة 13 الخاصة بنظام الامتحانات، يتم توزيع درجات الامتحان في كل مقرر دراسي على النحو التالي:\n",
            "\n",
            "*   **50% للامتحان التحريري النهائي** الذي يُجرى في نهاية الفصل الدراسي.\n",
            "*   50% المتبقية يتم توزيعها على الأعمال الفصلية، وتشمل:\n",
            "    *   20% للامتحانات الدورية والعملية أو الأعمال المكلف بها الطلاب.\n",
            "    *   20% لامتحان منتصف الفصل الدراسي.\n",
            "    *   10% للامتحانات الشفوية.\n",
            "\n",
            "بناءً عليه، فإن النسبة المخصصة للامتحان النهائي في المقرر الدراسي العادي هي **50%**.\n",
            "\n",
            "(يُستثنى من هذا التوزيع المقررات ذات الطبيعة الخاصة مثل مشروع التخرج والتدريب الصيفي، حيث يكون لها توزيع درجات مختلف كما هو موضح في نفس المادة).\n",
            "📚 المصادر:\n",
            "  - /kaggle/input/fcai-usc-internal-regulations/2019.pdf | صفحة 11\n",
            "  - /kaggle/input/fcai-usc-internal-regulations/2019.pdf | صفحة 11\n",
            "  - /kaggle/input/fcai-usc-internal-regulations/2019.pdf | صفحة 10\n",
            "  - /kaggle/input/fcai-usc-internal-regulations/2019.pdf | صفحة 34\n",
            "  - /kaggle/input/fcai-usc-internal-regulations/2019.pdf | صفحة 35\n",
            "  - /kaggle/input/fcai-usc-internal-regulations/2019.pdf | صفحة 8\n",
            "  - /kaggle/input/fcai-usc-internal-regulations/2019.pdf | صفحة 41\n",
            "  - /kaggle/input/fcai-usc-internal-regulations/2019.pdf | صفحة 14\n",
            "================================================================================\n",
            "🔹 Q6: What is the minimum cumulative GPA (CGPA) required to remain in the faculty according to the regulations?\n",
            "🧩 الإجابة: وفقًا للائحة الداخلية لكلية الحاسبات والذكاء الاصطناعي، يمكن استنتاج أن الحد الأدنى للمعدل التراكمي (CGPA) المطلوب للبقاء في الكلية هو **2.00**.\n",
            "\n",
            "يستند هذا الاستنتاج إلى عدة نقاط مذكورة في اللائحة:\n",
            "\n",
            "1.  **الوضع الأكاديمي (المادة 6):**\n",
            "    *   توضح اللائحة أن الطلاب الذين يُعتبرون \"مراقبين علميًا\" (المتعثرين دراسيًا) هم \"الحاصلين على متوسط نقاط تراكمية CGPA في بداية الفصل الدراسي أقل من 2\". هذا يشير بوضوح إلى أن المعدل التراكمي الأقل من 2.00 يضع الطالب في حالة تعثر أكاديمي أو تحت المراقبة.\n",
            "    *   كما تذكر اللائحة أنه يمكن زيادة الحد الأقصى للساعات المسجلة للطلاب الحاصلين على معدل تراكمي (CGPA) \"أعلى من أو يساوي 2\" إلى 21 ساعة معتمدة لدواعي التخرج، مما يؤكد أن 2.00 هو عتبة الأداء الأكاديمي المقبول.\n",
            "    *   وفي سياق استثنائي لزيادة عدد الساعات المعتمدة، يُشترط ألا يقل المعدل التراكمي (CGPA) عن 2.0 في حالات التخرج، مما يعزز أهمية هذا المعدل.\n",
            "\n",
            "2.  **متطلبات الحصول على الدرجة (المادة 16):**\n",
            "    *   تنص المادة 16 صراحة على أنه \"للحصول على درجة البكالوريوس يجب أن يجتاز الطالب 145 ساعة معتمدة على الأقل... وبمعدل تراكمي لا يقل عن 2.00 (مقبول)\".\n",
            "    *   بما أن الهدف النهائي للطالب هو الحصول على درجة البكالوريوس، فإن الحفاظ على معدل تراكمي لا يقل عن 2.00 هو شرط أساسي للتخرج، وبالتالي للاستمرار بنجاح في البرنامج الدراسي.\n",
            "\n",
            "**الخلاصة:**\n",
            "بناءً على هذه النقاط، فإن المعدل التراكمي الأقل من 2.00 يعتبر مؤشرًا على التعثر الأكاديمي ويضع الطالب تحت المراقبة، بينما المعدل التراكمي 2.00 أو أعلى هو المطلوب للتخرج وللاستفادة من بعض التسهيلات الأكاديمية. لذلك، يمكن الاستدلال بأن الحد الأدنى للمعدل التراكمي المطلوب للبقاء في الكلية في وضع أكاديمي سليم هو **2.00**.\n",
            "📚 المصادر:\n",
            "  - /kaggle/input/fcai-usc-internal-regulations/2019.pdf | صفحة 7\n",
            "  - /kaggle/input/fcai-usc-internal-regulations/2019.pdf | صفحة 23\n",
            "  - /kaggle/input/fcai-usc-internal-regulations/2019.pdf | صفحة 30\n",
            "  - /kaggle/input/fcai-usc-internal-regulations/2019.pdf | صفحة 18\n",
            "  - /kaggle/input/fcai-usc-internal-regulations/2019.pdf | صفحة 24\n",
            "  - /kaggle/input/fcai-usc-internal-regulations/2019.pdf | صفحة 6\n",
            "  - /kaggle/input/fcai-usc-internal-regulations/2019.pdf | صفحة 0\n",
            "  - /kaggle/input/fcai-usc-internal-regulations/2019.pdf | صفحة 13\n",
            "================================================================================\n",
            "🔹 Q7: عاوز اسجل ماده software engineering 2 اي المطلوب عشان اخدها او اي المواد الل المفروض اخدها قبلها في قسم نظم المعلومات\n",
            "🧩 الإجابة: بناءً على اللائحة الداخلية لكلية الحاسبات والذكاء الاصطناعي بنظام الساعات المعتمدة 2019، وبالنظر إلى الجزء الخاص بـ \"أولاً: برنامج علوم الحاسب\" (صفحة 22)، فإن متطلبات مادة \"هندسة البرمجيات-2\" (Software Engineering-2) والتي تحمل الكود CS307 هي كالتالي:\n",
            "\n",
            "1.  **المادة المطلوبة قبلها (المتطلب السابق):** يجب أن تكون قد درست واجتزت مادة **\"هندسة البرمجيات-1\" (Software Engineering-1)** والتي تحمل الكود **CS301**.\n",
            "\n",
            "**ملاحظة هامة:**\n",
            "المعلومات المذكورة أعلاه مستخلصة من قائمة المقررات الإجبارية لـ \"برنامج علوم الحاسب\". اللائحة المقدمة لا تتضمن تفاصيل المقررات والمتطلبات السابقة لـ \"برنامج نظم المعلومات\" بشكل منفصل في الأجزاء المتاحة.\n",
            "\n",
            "لذلك، إذا كنت ترغب في تسجيل مادة \"Software Engineering 2\" ضمن **قسم نظم المعلومات**، فإنه **لا يمكن تأكيد المتطلبات الدقيقة من السياق المقدم**، حيث أن القائمة التفصيلية للمقررات المعروضة هي لبرنامج علوم الحاسب. قد تكون المتطلبات متشابهة أو مختلفة.\n",
            "\n",
            "**للحصول على معلومات دقيقة ومؤكدة بخصوص برنامج نظم المعلومات، يُنصح بالرجوع إلى الخطة الدراسية المحددة لبرنامج نظم المعلومات أو التواصل مع المرشد الأكاديمي بالكلية.**\n",
            "📚 المصادر:\n",
            "  - /kaggle/input/fcai-usc-internal-regulations/2019.pdf | صفحة 5\n",
            "  - /kaggle/input/fcai-usc-internal-regulations/2019.pdf | صفحة 10\n",
            "  - /kaggle/input/fcai-usc-internal-regulations/2019.pdf | صفحة 22\n",
            "  - /kaggle/input/fcai-usc-internal-regulations/2019.pdf | صفحة 16\n",
            "  - /kaggle/input/fcai-usc-internal-regulations/2019.pdf | صفحة 36\n",
            "  - /kaggle/input/fcai-usc-internal-regulations/2019.pdf | صفحة 35\n",
            "  - /kaggle/input/fcai-usc-internal-regulations/2019.pdf | صفحة 8\n",
            "  - /kaggle/input/fcai-usc-internal-regulations/2019.pdf | صفحة 18\n",
            "================================================================================\n",
            "✅ Evaluation completed.\n"
          ]
        }
      ]
    }
  ]
}